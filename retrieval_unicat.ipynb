{
 "cells": [
  {
   "cell_type": "code",
   "execution_count": 1,
   "metadata": {},
   "outputs": [],
   "source": [
    "import datetime\n",
    "import sqlite3\n",
    "import time\n",
    "\n",
    "import pandas as pd\n",
    "import requests\n",
    "import sqlite_utils\n",
    "import vabb\n",
    "from lxml import etree\n",
    "from stdnum import isbn\n",
    "from tqdm.auto import tqdm"
   ]
  },
  {
   "cell_type": "code",
   "execution_count": 3,
   "metadata": {},
   "outputs": [],
   "source": [
    "con = sqlite3.connect(r\"vabb11.sqlite\")"
   ]
  },
  {
   "cell_type": "code",
   "execution_count": 4,
   "metadata": {},
   "outputs": [],
   "source": [
    "df = pd.read_sql(\n",
    "    \"\"\"\n",
    "    select cloi, number_nr\n",
    "    from number\n",
    "    where number_ty like '%isbn%'\n",
    "    \"\"\",\n",
    "    con,\n",
    ")"
   ]
  },
  {
   "cell_type": "code",
   "execution_count": 5,
   "metadata": {
    "tags": []
   },
   "outputs": [],
   "source": [
    "def format_isbn(num):\n",
    "    if not vabb.is_strictly_valid_isbn(num):\n",
    "        #print(\"Error for {}\".format(num))\n",
    "        return\n",
    "    return isbn.compact(num, convert=True)"
   ]
  },
  {
   "cell_type": "code",
   "execution_count": 6,
   "metadata": {
    "tags": []
   },
   "outputs": [],
   "source": [
    "df[\"isbn\"] = df.number_nr.apply(format_isbn)"
   ]
  },
  {
   "cell_type": "code",
   "execution_count": 7,
   "metadata": {},
   "outputs": [],
   "source": [
    "isbns = df.loc[df.isbn.notna(), \"isbn\"].unique()"
   ]
  },
  {
   "cell_type": "code",
   "execution_count": 8,
   "metadata": {},
   "outputs": [
    {
     "data": {
      "text/plain": [
       "46641"
      ]
     },
     "execution_count": 8,
     "metadata": {},
     "output_type": "execute_result"
    }
   ],
   "source": [
    "len(isbns)"
   ]
  },
  {
   "cell_type": "code",
   "execution_count": 9,
   "metadata": {},
   "outputs": [],
   "source": [
    "def retrieve_isbn_data(num: str):\n",
    "    # TODO check format of `num`\n",
    "    base_url = \"https://www.unicat.be/sru\"\n",
    "    params = {\n",
    "        \"version\": \"1.1\",\n",
    "        \"operation\": \"searchRetrieve\",\n",
    "    }\n",
    "    params[\"query\"] = f\"isbn={num}\"\n",
    "\n",
    "    r = requests.get(base_url, params=params)\n",
    "    # Fix encoding, incorrectly assumed to be iso-8859-1.\n",
    "    # See https://www.ietf.org/rfc/rfc2376.txt, section 6.4:\n",
    "    # For text/xml without charset, \"MIME and XML processors must assume the charset is \"us-ascii\"\".\n",
    "    # So the behaviour of requests doesn't follow the RFC, it seems.\n",
    "    r.encoding = \"utf-8\"\n",
    "\n",
    "    return r"
   ]
  },
  {
   "cell_type": "code",
   "execution_count": 88,
   "metadata": {},
   "outputs": [],
   "source": [
    "class Book:\n",
    "    def __init__(self, xml_string):\n",
    "        self.doc = etree.fromstring(xml_string)\n",
    "        self.ns = {\n",
    "            \"slim\": \"http://www.loc.gov/MARC21/slim\",\n",
    "            \"srw\": \"http://www.loc.gov/zing/srw/\",\n",
    "            \"xcql\": \"http://www.loc.gov/zing/cql/xcql/\",\n",
    "        }\n",
    "\n",
    "    def xpath(self, xpath_str, element=None):\n",
    "        \"\"\"Convenience method\"\"\"\n",
    "        if element is None:\n",
    "            element = self.doc\n",
    "        return element.xpath(xpath_str, namespaces=self.ns)\n",
    "\n",
    "    def isbns(self):\n",
    "        all_isbns = set()\n",
    "        # concatentate results of multiple records, if present\n",
    "        for isbn_string in self.xpath(\n",
    "            '//slim:datafield[@tag=\"020\"]/slim:subfield[@code=\"a\"]/text()'\n",
    "        ):\n",
    "            all_isbns |= set(isbn_string.split())\n",
    "\n",
    "        if not all_isbns:\n",
    "            # ISBN not in Unicat. We can only give back the ISBN as it was looked up.\n",
    "            all_isbns = {self.looked_up_isbn}\n",
    "        return all_isbns\n",
    "    \n",
    "    @property\n",
    "    def looked_up_isbn(self):\n",
    "        return self.xpath(\"//xcql:searchClause/xcql:term/text()\")[0]\n",
    "\n",
    "    @property\n",
    "    def raw_xml(self):\n",
    "        return etree.tostring(self.doc)\n",
    "\n",
    "    def holdings(self):\n",
    "        # TODO figure out hwo to handle cases with more than one record!!\n",
    "        # XML shouldn't contain more than one record\n",
    "        if len(self.xpath(\"//slim:record\")) > 1:\n",
    "            raise ValueError(\n",
    "                f\"Found multiple records for one ISBN, XML follows:\\n{self.raw_xml}\"\n",
    "            )\n",
    "        for el in self.xpath('//slim:datafield[@tag=\"852\"]'):\n",
    "            location = self.xpath('slim:subfield[@code=\"a\"]/text()', el)[0]\n",
    "            uri = self.xpath('slim:subfield[@code=\"u\"]/text()', el)[0]\n",
    "\n",
    "            yield str(location), str(uri)\n",
    "\n",
    "    @property        \n",
    "    def number_of_records(self):\n",
    "        # The element srw:numberOfRecords reports 2 when there's 1, so is unreliable\n",
    "        return len(self.xpath('//slim:record'))"
   ]
  },
  {
   "cell_type": "code",
   "execution_count": 11,
   "metadata": {},
   "outputs": [],
   "source": [
    "def new_work_id(db):\n",
    "    res = next(iter(db.query(\"select max(work_id) + 1 work_id from manifestation\")))[\n",
    "        \"work_id\"\n",
    "    ]\n",
    "    return 1 if res is None else res"
   ]
  },
  {
   "cell_type": "code",
   "execution_count": 12,
   "metadata": {},
   "outputs": [],
   "source": [
    "db = sqlite_utils.Database(\"unicat.db\")"
   ]
  },
  {
   "cell_type": "code",
   "execution_count": 13,
   "metadata": {},
   "outputs": [],
   "source": [
    "manifestation = db[\"manifestation\"]\n",
    "\n",
    "if \"manifestation\" not in db.table_names():\n",
    "    # In principle, isbn could be PK. But in practice,\n",
    "    # we've found ISBNs associated with different works.\n",
    "    # Hence, no PK is set.\n",
    "    manifestation = manifestation.create(\n",
    "        {\n",
    "            \"isbn\": str,\n",
    "            \"work_id\": int,\n",
    "        }\n",
    "    )\n",
    "\n",
    "unicat_work = db.table(\"unicat_work\", pk=\"id\")"
   ]
  },
  {
   "cell_type": "code",
   "execution_count": 22,
   "metadata": {
    "tags": []
   },
   "outputs": [
    {
     "data": {
      "application/vnd.jupyter.widget-view+json": {
       "model_id": "e55129e9482442fbadee69f6169b8978",
       "version_major": 2,
       "version_minor": 0
      },
      "text/plain": [
       "  0%|          | 0/16641 [00:00<?, ?it/s]"
      ]
     },
     "metadata": {},
     "output_type": "display_data"
    }
   ],
   "source": [
    "for num in tqdm(isbns):\n",
    "    if manifestation.count_where(\"isbn = ?\", [num]) > 0:\n",
    "        # This ISBN is already in the manifestation table, implying that the work is already known.\n",
    "        continue\n",
    "\n",
    "    r = retrieve_isbn_data(num)\n",
    "    try:\n",
    "        r.raise_for_status()\n",
    "    except Exception as e:\n",
    "        db[\"failure\"].insert(\n",
    "            {\n",
    "                \"isbn\": num,\n",
    "                \"error\": str(e),\n",
    "            }\n",
    "        )\n",
    "\n",
    "    book = Book(r.text)\n",
    "    work_id = new_work_id(db)\n",
    "\n",
    "    # Store all ISBNs (ISBN-13 only) and work ID in manifestation\n",
    "    book_isbns = {format_isbn(num) for num in book.isbns()} - {None}\n",
    "    to_insert = [{\"isbn\": book_num, \"work_id\": work_id} for book_num in book_isbns]\n",
    "    manifestation.insert_all(to_insert)\n",
    "\n",
    "    # Store lookup result in unicat_work\n",
    "    raw_result = book.raw_xml if book.number_of_records > 0 else None\n",
    "    unicat_work.insert(\n",
    "        {\n",
    "            \"id\": work_id,\n",
    "            \"url\": r.url,\n",
    "            \"checked_on\": datetime.datetime.now(),\n",
    "            \"raw_result\": raw_result,\n",
    "        }\n",
    "    )\n",
    "\n",
    "    time.sleep(1.5)  # give the server a rest :-)"
   ]
  },
  {
   "cell_type": "code",
   "execution_count": 14,
   "metadata": {},
   "outputs": [
    {
     "data": {
      "text/plain": [
       "25528"
      ]
     },
     "execution_count": 14,
     "metadata": {},
     "output_type": "execute_result"
    }
   ],
   "source": [
    "unicat_work.count_where(\"raw_result is not null\")"
   ]
  },
  {
   "cell_type": "code",
   "execution_count": 15,
   "metadata": {},
   "outputs": [
    {
     "data": {
      "text/plain": [
       "0.5473296027100619"
      ]
     },
     "execution_count": 15,
     "metadata": {},
     "output_type": "execute_result"
    }
   ],
   "source": [
    "25528/46641"
   ]
  },
  {
   "cell_type": "code",
   "execution_count": 118,
   "metadata": {},
   "outputs": [
    {
     "data": {
      "application/vnd.jupyter.widget-view+json": {
       "model_id": "cd3200bc061f4c108b5e253f067b3e50",
       "version_major": 2,
       "version_minor": 0
      },
      "text/plain": [
       "HBox(children=(FloatProgress(value=1.0, bar_style='info', layout=Layout(width='20px'), max=1.0), HTML(value=''…"
      ]
     },
     "metadata": {},
     "output_type": "display_data"
    },
    {
     "name": "stdout",
     "output_type": "stream",
     "text": [
      "Error for  29418\n",
      "\n"
     ]
    }
   ],
   "source": [
    "books = set()\n",
    "\n",
    "for row in tqdm(unicat_work.rows_where(\"raw_result is not null\")):\n",
    "    try:\n",
    "        book = Book(row[\"raw_result\"])\n",
    "    except:\n",
    "        print(\"Error for \", row[\"id\"])\n",
    "        continue\n",
    "    if book.number_of_records > 1:\n",
    "        books.add(book)\n"
   ]
  },
  {
   "cell_type": "code",
   "execution_count": 120,
   "metadata": {},
   "outputs": [
    {
     "data": {
      "text/plain": [
       "(3189, 25528)"
      ]
     },
     "execution_count": 120,
     "metadata": {},
     "output_type": "execute_result"
    }
   ],
   "source": [
    "len(books), unicat_work.count_where(\"raw_result is not null\")"
   ]
  },
  {
   "cell_type": "code",
   "execution_count": null,
   "metadata": {},
   "outputs": [],
   "source": []
  }
 ],
 "metadata": {
  "kernelspec": {
   "display_name": "Python 3",
   "language": "python",
   "name": "python3"
  },
  "language_info": {
   "codemirror_mode": {
    "name": "ipython",
    "version": 3
   },
   "file_extension": ".py",
   "mimetype": "text/x-python",
   "name": "python",
   "nbconvert_exporter": "python",
   "pygments_lexer": "ipython3",
   "version": "3.8.5"
  },
  "toc-showtags": false
 },
 "nbformat": 4,
 "nbformat_minor": 5
}
