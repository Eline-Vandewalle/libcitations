{
 "cells": [
  {
   "cell_type": "markdown",
   "metadata": {},
   "source": [
    "# 6. Cultuurconnect - Extracting information from the xml's"
   ]
  },
  {
   "cell_type": "code",
   "execution_count": 3,
   "metadata": {},
   "outputs": [],
   "source": [
    "import pandas as pd\n",
    "import xml_info_cultuurconnect as cultuurconnect\n",
    "import lxml.etree as ET\n",
    "import json"
   ]
  },
  {
   "cell_type": "markdown",
   "metadata": {},
   "source": [
    "# Availability - holding information"
   ]
  },
  {
   "cell_type": "markdown",
   "metadata": {},
   "source": [
    "### 1. Loading availability information"
   ]
  },
  {
   "cell_type": "code",
   "execution_count": 4,
   "metadata": {},
   "outputs": [],
   "source": [
    "with open('cleaning/data/cultuurconnect_availability_total.json','r') as f:\n",
    "        productie_dict = json.load(f)"
   ]
  },
  {
   "cell_type": "code",
   "execution_count": 5,
   "metadata": {},
   "outputs": [],
   "source": [
    "df = pd.DataFrame.from_dict(productie_dict, orient='index', columns = {'xml_response'}).reset_index()\n",
    "df.rename(columns = {'index':'frabl'}, inplace = True)"
   ]
  },
  {
   "cell_type": "code",
   "execution_count": 6,
   "metadata": {},
   "outputs": [
    {
     "data": {
      "text/plain": [
       "(9271, 2)"
      ]
     },
     "execution_count": 6,
     "metadata": {},
     "output_type": "execute_result"
    }
   ],
   "source": [
    "df.shape"
   ]
  },
  {
   "cell_type": "code",
   "execution_count": 7,
   "metadata": {},
   "outputs": [
    {
     "data": {
      "text/html": [
       "<div>\n",
       "<style scoped>\n",
       "    .dataframe tbody tr th:only-of-type {\n",
       "        vertical-align: middle;\n",
       "    }\n",
       "\n",
       "    .dataframe tbody tr th {\n",
       "        vertical-align: top;\n",
       "    }\n",
       "\n",
       "    .dataframe thead th {\n",
       "        text-align: right;\n",
       "    }\n",
       "</style>\n",
       "<table border=\"1\" class=\"dataframe\">\n",
       "  <thead>\n",
       "    <tr style=\"text-align: right;\">\n",
       "      <th></th>\n",
       "      <th>frabl</th>\n",
       "      <th>xml_response</th>\n",
       "    </tr>\n",
       "  </thead>\n",
       "  <tbody>\n",
       "    <tr>\n",
       "      <th>0</th>\n",
       "      <td>17903665FF1ACA0</td>\n",
       "      <td>&lt;aquabrowser version=\"1\" before-rendering-time...</td>\n",
       "    </tr>\n",
       "    <tr>\n",
       "      <th>1</th>\n",
       "      <td>7910F9AA58F1ACA0</td>\n",
       "      <td>&lt;aquabrowser version=\"1\" before-rendering-time...</td>\n",
       "    </tr>\n",
       "    <tr>\n",
       "      <th>2</th>\n",
       "      <td>5561D93C4EF1ACA0</td>\n",
       "      <td>&lt;aquabrowser version=\"1\" before-rendering-time...</td>\n",
       "    </tr>\n",
       "    <tr>\n",
       "      <th>3</th>\n",
       "      <td>39BC36FCFDF1ACA0</td>\n",
       "      <td>&lt;aquabrowser version=\"1\" before-rendering-time...</td>\n",
       "    </tr>\n",
       "    <tr>\n",
       "      <th>4</th>\n",
       "      <td>40380C150F11AC31</td>\n",
       "      <td>&lt;aquabrowser version=\"1\" before-rendering-time...</td>\n",
       "    </tr>\n",
       "    <tr>\n",
       "      <th>...</th>\n",
       "      <td>...</td>\n",
       "      <td>...</td>\n",
       "    </tr>\n",
       "    <tr>\n",
       "      <th>9266</th>\n",
       "      <td>5A70034BD091AC31</td>\n",
       "      <td>&lt;aquabrowser version=\"1\" before-rendering-time...</td>\n",
       "    </tr>\n",
       "    <tr>\n",
       "      <th>9267</th>\n",
       "      <td>31181BB58FF1ACA0</td>\n",
       "      <td>&lt;aquabrowser version=\"1\" before-rendering-time...</td>\n",
       "    </tr>\n",
       "    <tr>\n",
       "      <th>9268</th>\n",
       "      <td>422CB171F5F1ACA0</td>\n",
       "      <td>&lt;aquabrowser version=\"1\" before-rendering-time...</td>\n",
       "    </tr>\n",
       "    <tr>\n",
       "      <th>9269</th>\n",
       "      <td>76FB042B33F1AC31</td>\n",
       "      <td>&lt;aquabrowser version=\"1\" before-rendering-time...</td>\n",
       "    </tr>\n",
       "    <tr>\n",
       "      <th>9270</th>\n",
       "      <td>331993A5EAF1ACA7</td>\n",
       "      <td>&lt;aquabrowser version=\"1\" before-rendering-time...</td>\n",
       "    </tr>\n",
       "  </tbody>\n",
       "</table>\n",
       "<p>9271 rows × 2 columns</p>\n",
       "</div>"
      ],
      "text/plain": [
       "                 frabl                                       xml_response\n",
       "0      17903665FF1ACA0  <aquabrowser version=\"1\" before-rendering-time...\n",
       "1     7910F9AA58F1ACA0  <aquabrowser version=\"1\" before-rendering-time...\n",
       "2     5561D93C4EF1ACA0  <aquabrowser version=\"1\" before-rendering-time...\n",
       "3     39BC36FCFDF1ACA0  <aquabrowser version=\"1\" before-rendering-time...\n",
       "4     40380C150F11AC31  <aquabrowser version=\"1\" before-rendering-time...\n",
       "...                ...                                                ...\n",
       "9266  5A70034BD091AC31  <aquabrowser version=\"1\" before-rendering-time...\n",
       "9267  31181BB58FF1ACA0  <aquabrowser version=\"1\" before-rendering-time...\n",
       "9268  422CB171F5F1ACA0  <aquabrowser version=\"1\" before-rendering-time...\n",
       "9269  76FB042B33F1AC31  <aquabrowser version=\"1\" before-rendering-time...\n",
       "9270  331993A5EAF1ACA7  <aquabrowser version=\"1\" before-rendering-time...\n",
       "\n",
       "[9271 rows x 2 columns]"
      ]
     },
     "execution_count": 7,
     "metadata": {},
     "output_type": "execute_result"
    }
   ],
   "source": [
    "df"
   ]
  },
  {
   "cell_type": "markdown",
   "metadata": {},
   "source": [
    "### 2. Getting library count and holding count"
   ]
  },
  {
   "cell_type": "code",
   "execution_count": 8,
   "metadata": {},
   "outputs": [],
   "source": [
    "df['holding_count'] = df['xml_response'].apply(lambda x: cultuurconnect.get_improved_holding_count(x))\n",
    "df['library_list'] = df.xml_response.apply(lambda x: cultuurconnect.get_improved_library_list(x))\n",
    "df['library_count'] = df.library_list.apply(lambda x: cultuurconnect.get_library_count(x))\n",
    "df['library_list']=df.library_list.apply(lambda x: \";\".join(x) if isinstance(x,list) else x)\n",
    "df['improved_holding_hasselt']= df[\"xml_response\"].apply(lambda x: cultuurconnect.get_improved_holding_count_Hasselt(x))\n",
    "df['improved_library_list_hasselt'] = df.xml_response.apply(lambda x: cultuurconnect.get_improved_library_list_Hasselt(x))\n",
    "df['improved_library_count_hasselt'] = df.improved_library_list_hasselt.apply(lambda x: cultuurconnect.get_library_count(x))\n",
    "df['improved_library_list_hasselt']=df.improved_library_list_hasselt.apply(lambda x: \";\".join(x) if isinstance(x,list) else x)"
   ]
  },
  {
   "cell_type": "code",
   "execution_count": 9,
   "metadata": {},
   "outputs": [
    {
     "data": {
      "text/html": [
       "<div>\n",
       "<style scoped>\n",
       "    .dataframe tbody tr th:only-of-type {\n",
       "        vertical-align: middle;\n",
       "    }\n",
       "\n",
       "    .dataframe tbody tr th {\n",
       "        vertical-align: top;\n",
       "    }\n",
       "\n",
       "    .dataframe thead th {\n",
       "        text-align: right;\n",
       "    }\n",
       "</style>\n",
       "<table border=\"1\" class=\"dataframe\">\n",
       "  <thead>\n",
       "    <tr style=\"text-align: right;\">\n",
       "      <th></th>\n",
       "      <th>frabl</th>\n",
       "      <th>xml_response</th>\n",
       "      <th>holding_count</th>\n",
       "      <th>library_list</th>\n",
       "      <th>library_count</th>\n",
       "      <th>improved_holding_hasselt</th>\n",
       "      <th>improved_library_list_hasselt</th>\n",
       "      <th>improved_library_count_hasselt</th>\n",
       "    </tr>\n",
       "  </thead>\n",
       "  <tbody>\n",
       "    <tr>\n",
       "      <th>9269</th>\n",
       "      <td>76FB042B33F1AC31</td>\n",
       "      <td>&lt;aquabrowser version=\"1\" before-rendering-time...</td>\n",
       "      <td>4.0</td>\n",
       "      <td>Hoofdbib Brasschaat;Hasselt Dusart;Bibliotheek...</td>\n",
       "      <td>3</td>\n",
       "      <td>3.0</td>\n",
       "      <td>Hoofdbib Brasschaat;Bibliotheek De Krook</td>\n",
       "      <td>2</td>\n",
       "    </tr>\n",
       "    <tr>\n",
       "      <th>9270</th>\n",
       "      <td>331993A5EAF1ACA7</td>\n",
       "      <td>&lt;aquabrowser version=\"1\" before-rendering-time...</td>\n",
       "      <td>7.0</td>\n",
       "      <td>Hasselt Dusart;Provinciaal centrum voor cultur...</td>\n",
       "      <td>6</td>\n",
       "      <td>6.0</td>\n",
       "      <td>Provinciaal centrum voor cultureel erfgoed;Cen...</td>\n",
       "      <td>5</td>\n",
       "    </tr>\n",
       "  </tbody>\n",
       "</table>\n",
       "</div>"
      ],
      "text/plain": [
       "                 frabl                                       xml_response  \\\n",
       "9269  76FB042B33F1AC31  <aquabrowser version=\"1\" before-rendering-time...   \n",
       "9270  331993A5EAF1ACA7  <aquabrowser version=\"1\" before-rendering-time...   \n",
       "\n",
       "      holding_count                                       library_list  \\\n",
       "9269            4.0  Hoofdbib Brasschaat;Hasselt Dusart;Bibliotheek...   \n",
       "9270            7.0  Hasselt Dusart;Provinciaal centrum voor cultur...   \n",
       "\n",
       "      library_count  improved_holding_hasselt  \\\n",
       "9269              3                       3.0   \n",
       "9270              6                       6.0   \n",
       "\n",
       "                          improved_library_list_hasselt  \\\n",
       "9269           Hoofdbib Brasschaat;Bibliotheek De Krook   \n",
       "9270  Provinciaal centrum voor cultureel erfgoed;Cen...   \n",
       "\n",
       "      improved_library_count_hasselt  \n",
       "9269                               2  \n",
       "9270                               5  "
      ]
     },
     "execution_count": 9,
     "metadata": {},
     "output_type": "execute_result"
    }
   ],
   "source": [
    "df.tail(2)"
   ]
  },
  {
   "cell_type": "markdown",
   "metadata": {},
   "source": [
    "### Save intermediate dataframe"
   ]
  },
  {
   "cell_type": "code",
   "execution_count": 10,
   "metadata": {},
   "outputs": [],
   "source": [
    "df.to_csv(\"cleaning/data/cultuurconnect_holding_information.csv\")"
   ]
  },
  {
   "cell_type": "code",
   "execution_count": 11,
   "metadata": {},
   "outputs": [],
   "source": [
    "holdings = pd.read_csv(\"cleaning/data/cultuurconnect_holding_information.csv\", index_col=0, dtype={'isbn':str})"
   ]
  },
  {
   "cell_type": "code",
   "execution_count": 12,
   "metadata": {},
   "outputs": [
    {
     "data": {
      "text/plain": [
       "(9271, 8)"
      ]
     },
     "execution_count": 12,
     "metadata": {},
     "output_type": "execute_result"
    }
   ],
   "source": [
    "holdings.shape"
   ]
  },
  {
   "cell_type": "markdown",
   "metadata": {},
   "source": [
    "# Details - metadata"
   ]
  },
  {
   "cell_type": "markdown",
   "metadata": {},
   "source": [
    "### 1. Loading details information"
   ]
  },
  {
   "cell_type": "code",
   "execution_count": 15,
   "metadata": {},
   "outputs": [],
   "source": [
    "with open(\"cleaning/data/cultuurconnect_details_total.json\", 'r') as f:\n",
    "    details_dict = json.load(f)"
   ]
  },
  {
   "cell_type": "code",
   "execution_count": 21,
   "metadata": {},
   "outputs": [],
   "source": [
    "df = pd.DataFrame.from_dict(details_dict, orient='index', columns = {'xml_response'}).reset_index()\n",
    "df.rename(columns = {'index':'frabl'}, inplace = True)"
   ]
  },
  {
   "cell_type": "markdown",
   "metadata": {},
   "source": [
    "### 2. Getting the metadata from the xml's"
   ]
  },
  {
   "cell_type": "code",
   "execution_count": 22,
   "metadata": {},
   "outputs": [],
   "source": [
    "df['tree'] = df.xml_response.apply(lambda x: ET.ElementTree(ET.fromstring(x)))"
   ]
  },
  {
   "cell_type": "code",
   "execution_count": 23,
   "metadata": {},
   "outputs": [],
   "source": [
    "df['title'] = df.tree.apply(lambda x: cultuurconnect.get_title(x))\n",
    "df['year'] = df.tree.apply(lambda x: cultuurconnect.get_publicationyear(x))\n",
    "df['main_author'] = df.tree.apply(lambda x: cultuurconnect.get_main_author(x))\n",
    "df['type'] = df.tree.apply(lambda x: cultuurconnect.get_type(x))\n",
    "df['language'] = df.tree.apply(lambda x: cultuurconnect.get_language(x))\n",
    "df['publisher'] = df.tree.apply(lambda x: cultuurconnect.get_publisher(x))\n",
    "df['subject'] = df.tree.apply(lambda x: cultuurconnect.get_subject(x))"
   ]
  },
  {
   "cell_type": "code",
   "execution_count": 24,
   "metadata": {},
   "outputs": [],
   "source": [
    "df.drop(columns = \"tree\", inplace = True)\n",
    "df.to_csv(\"cleaning/data/cultuurconnect_details_information.csv\")"
   ]
  }
 ],
 "metadata": {
  "kernelspec": {
   "display_name": "Python 3",
   "language": "python",
   "name": "python3"
  },
  "language_info": {
   "codemirror_mode": {
    "name": "ipython",
    "version": 3
   },
   "file_extension": ".py",
   "mimetype": "text/x-python",
   "name": "python",
   "nbconvert_exporter": "python",
   "pygments_lexer": "ipython3",
   "version": "3.8.5"
  }
 },
 "nbformat": 4,
 "nbformat_minor": 4
}
