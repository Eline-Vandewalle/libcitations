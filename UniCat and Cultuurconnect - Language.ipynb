{
 "cells": [
  {
   "cell_type": "code",
   "execution_count": 1,
   "metadata": {},
   "outputs": [],
   "source": [
    "import pandas as pd\n",
    "import sqlite3\n",
    "import matplotlib.pyplot as plt\n",
    "import numpy as np"
   ]
  },
  {
   "cell_type": "markdown",
   "metadata": {},
   "source": [
    "## Import datasets"
   ]
  },
  {
   "cell_type": "code",
   "execution_count": 3,
   "metadata": {},
   "outputs": [],
   "source": [
    "VABB = pd.read_csv(\"data/cleaning/VABB_books_isbn_level.csv\", dtype={\"isbn\":\"str\"})\n",
    "languages = VABB[[\"isbn\", \"VABB_lg\"]]"
   ]
  },
  {
   "cell_type": "code",
   "execution_count": 4,
   "metadata": {},
   "outputs": [],
   "source": [
    "def language_column(df):\n",
    "    df.VABB_lg = df.VABB_lg.str.split(\";\").copy()\n",
    "    for i in range(len(df)):\n",
    "        if len(df.VABB_lg.iloc[i])> 1:\n",
    "            df.VABB_lg.iloc[i] = \"mul\"\n",
    "        else:\n",
    "            df.VABB_lg.iloc[i] = \";\".join(df.VABB_lg.iloc[i])\n",
    "    return df"
   ]
  },
  {
   "cell_type": "code",
   "execution_count": 5,
   "metadata": {},
   "outputs": [
    {
     "name": "stderr",
     "output_type": "stream",
     "text": [
      "<ipython-input-4-550ee16e6427>:2: SettingWithCopyWarning: \n",
      "A value is trying to be set on a copy of a slice from a DataFrame.\n",
      "Try using .loc[row_indexer,col_indexer] = value instead\n",
      "\n",
      "See the caveats in the documentation: https://pandas.pydata.org/pandas-docs/stable/user_guide/indexing.html#returning-a-view-versus-a-copy\n",
      "  df.VABB_lg = df.VABB_lg.str.split(\";\").copy()\n",
      "<ipython-input-4-550ee16e6427>:5: SettingWithCopyWarning: \n",
      "A value is trying to be set on a copy of a slice from a DataFrame\n",
      "\n",
      "See the caveats in the documentation: https://pandas.pydata.org/pandas-docs/stable/user_guide/indexing.html#returning-a-view-versus-a-copy\n",
      "  df.VABB_lg.iloc[i] = \"mul\"\n",
      "<ipython-input-4-550ee16e6427>:7: SettingWithCopyWarning: \n",
      "A value is trying to be set on a copy of a slice from a DataFrame\n",
      "\n",
      "See the caveats in the documentation: https://pandas.pydata.org/pandas-docs/stable/user_guide/indexing.html#returning-a-view-versus-a-copy\n",
      "  df.VABB_lg.iloc[i] = \";\".join(df.VABB_lg.iloc[i])\n"
     ]
    }
   ],
   "source": [
    "df_languages = language_column(languages)"
   ]
  },
  {
   "cell_type": "code",
   "execution_count": 6,
   "metadata": {},
   "outputs": [],
   "source": [
    "con_uc = sqlite3.connect(\"unicat_holdings.db\")"
   ]
  },
  {
   "cell_type": "code",
   "execution_count": 7,
   "metadata": {},
   "outputs": [],
   "source": [
    "holding_uc = pd.read_sql(\"\"\"SELECT i.isbn, h.work_id, COUNT(distinct location) library_count\n",
    "                        FROM holding h\n",
    "                        JOIN isbn_search i ON h.work_id = i.work_id\n",
    "                        GROUP BY i.isbn\"\"\", con_uc)"
   ]
  },
  {
   "cell_type": "code",
   "execution_count": 8,
   "metadata": {},
   "outputs": [],
   "source": [
    "con_cc = sqlite3.connect(\"cultuurconnect.db\")"
   ]
  },
  {
   "cell_type": "code",
   "execution_count": 10,
   "metadata": {},
   "outputs": [],
   "source": [
    "holding_cc = pd.read_sql(\"\"\"SELECT i.isbn, h.frabl, COUNT(distinct library) library_count\n",
    "            FROM holding h\n",
    "            JOIN isbns i ON h.frabl = i.frabl\n",
    "            GROUP BY i.isbn\"\"\", con_cc)"
   ]
  },
  {
   "cell_type": "code",
   "execution_count": 17,
   "metadata": {},
   "outputs": [],
   "source": [
    "# merge UniCat with languages\n",
    "df = df_languages.merge(holding_uc, on=\"isbn\", how=\"outer\").rename(columns={\"library_count\":\"uc_library_count\"})"
   ]
  },
  {
   "cell_type": "code",
   "execution_count": 18,
   "metadata": {},
   "outputs": [],
   "source": [
    "df = df.merge(holding_cc, on=\"isbn\", how=\"outer\").rename(columns={\"library_count\":\"cc_library_count\"})"
   ]
  },
  {
   "cell_type": "code",
   "execution_count": 19,
   "metadata": {},
   "outputs": [
    {
     "data": {
      "text/html": [
       "<div>\n",
       "<style scoped>\n",
       "    .dataframe tbody tr th:only-of-type {\n",
       "        vertical-align: middle;\n",
       "    }\n",
       "\n",
       "    .dataframe tbody tr th {\n",
       "        vertical-align: top;\n",
       "    }\n",
       "\n",
       "    .dataframe thead th {\n",
       "        text-align: right;\n",
       "    }\n",
       "</style>\n",
       "<table border=\"1\" class=\"dataframe\">\n",
       "  <thead>\n",
       "    <tr style=\"text-align: right;\">\n",
       "      <th></th>\n",
       "      <th>isbn</th>\n",
       "      <th>VABB_lg</th>\n",
       "      <th>work_id</th>\n",
       "      <th>uc_library_count</th>\n",
       "      <th>frabl</th>\n",
       "      <th>cc_library_count</th>\n",
       "    </tr>\n",
       "  </thead>\n",
       "  <tbody>\n",
       "    <tr>\n",
       "      <th>0</th>\n",
       "      <td>9780000000002</td>\n",
       "      <td>mul</td>\n",
       "      <td>NaN</td>\n",
       "      <td>NaN</td>\n",
       "      <td>NaN</td>\n",
       "      <td>NaN</td>\n",
       "    </tr>\n",
       "    <tr>\n",
       "      <th>1</th>\n",
       "      <td>9780000001948</td>\n",
       "      <td>mul</td>\n",
       "      <td>NaN</td>\n",
       "      <td>NaN</td>\n",
       "      <td>NaN</td>\n",
       "      <td>NaN</td>\n",
       "    </tr>\n",
       "  </tbody>\n",
       "</table>\n",
       "</div>"
      ],
      "text/plain": [
       "            isbn VABB_lg  work_id  uc_library_count frabl  cc_library_count\n",
       "0  9780000000002     mul      NaN               NaN   NaN               NaN\n",
       "1  9780000001948     mul      NaN               NaN   NaN               NaN"
      ]
     },
     "execution_count": 19,
     "metadata": {},
     "output_type": "execute_result"
    }
   ],
   "source": [
    "df.head(2)"
   ]
  },
  {
   "cell_type": "code",
   "execution_count": 20,
   "metadata": {},
   "outputs": [],
   "source": [
    "df = df.fillna(0).copy()"
   ]
  },
  {
   "cell_type": "code",
   "execution_count": 22,
   "metadata": {},
   "outputs": [],
   "source": [
    "df[\"inCC\"] = df.cc_library_count.apply(lambda x: True if x>0 else False)"
   ]
  },
  {
   "cell_type": "code",
   "execution_count": 23,
   "metadata": {},
   "outputs": [],
   "source": [
    "df[\"inUC\"] = df.uc_library_count.apply(lambda x: True if x>0 else False)"
   ]
  },
  {
   "cell_type": "markdown",
   "metadata": {},
   "source": [
    "## Visualize"
   ]
  },
  {
   "cell_type": "code",
   "execution_count": 24,
   "metadata": {},
   "outputs": [
    {
     "data": {
      "text/html": [
       "<div>\n",
       "<style scoped>\n",
       "    .dataframe tbody tr th:only-of-type {\n",
       "        vertical-align: middle;\n",
       "    }\n",
       "\n",
       "    .dataframe tbody tr th {\n",
       "        vertical-align: top;\n",
       "    }\n",
       "\n",
       "    .dataframe thead th {\n",
       "        text-align: right;\n",
       "    }\n",
       "</style>\n",
       "<table border=\"1\" class=\"dataframe\">\n",
       "  <thead>\n",
       "    <tr style=\"text-align: right;\">\n",
       "      <th></th>\n",
       "      <th>VABB_lg</th>\n",
       "      <th>isbn</th>\n",
       "      <th>percentage_VABB</th>\n",
       "    </tr>\n",
       "  </thead>\n",
       "  <tbody>\n",
       "    <tr>\n",
       "      <th>8</th>\n",
       "      <td>eng</td>\n",
       "      <td>24187</td>\n",
       "      <td>51.857808</td>\n",
       "    </tr>\n",
       "    <tr>\n",
       "      <th>7</th>\n",
       "      <td>dut</td>\n",
       "      <td>12959</td>\n",
       "      <td>27.784567</td>\n",
       "    </tr>\n",
       "    <tr>\n",
       "      <th>11</th>\n",
       "      <td>fre</td>\n",
       "      <td>3552</td>\n",
       "      <td>7.615617</td>\n",
       "    </tr>\n",
       "    <tr>\n",
       "      <th>21</th>\n",
       "      <td>mul</td>\n",
       "      <td>3032</td>\n",
       "      <td>6.500718</td>\n",
       "    </tr>\n",
       "    <tr>\n",
       "      <th>12</th>\n",
       "      <td>ger</td>\n",
       "      <td>1446</td>\n",
       "      <td>3.100277</td>\n",
       "    </tr>\n",
       "  </tbody>\n",
       "</table>\n",
       "</div>"
      ],
      "text/plain": [
       "   VABB_lg   isbn  percentage_VABB\n",
       "8      eng  24187        51.857808\n",
       "7      dut  12959        27.784567\n",
       "11     fre   3552         7.615617\n",
       "21     mul   3032         6.500718\n",
       "12     ger   1446         3.100277"
      ]
     },
     "execution_count": 24,
     "metadata": {},
     "output_type": "execute_result"
    }
   ],
   "source": [
    "VABB_top_5 = pd.DataFrame(df.groupby(\"VABB_lg\").isbn.count()).reset_index().sort_values(by = \"isbn\", ascending=False).head(5)\n",
    "VABB_total = len(df)\n",
    "VABB_top_5[\"percentage_VABB\"] = VABB_top_5.isbn.apply(lambda x: (x/VABB_total)*100)\n",
    "VABB_top_5"
   ]
  },
  {
   "cell_type": "code",
   "execution_count": 25,
   "metadata": {},
   "outputs": [],
   "source": [
    "cultuurconnect = df[df.inCC == True].copy()\n",
    "cultuurconnect_top_5 = cultuurconnect.groupby(\"VABB_lg\").isbn.count().reset_index().sort_values(by=\"isbn\", ascending=False).head(5)\n",
    "cultuurconnect_total = len(cultuurconnect)\n",
    "cultuurconnect_top_5[\"percentage_CC\"] = cultuurconnect_top_5.isbn.apply(lambda x: (x/cultuurconnect_total)*100)"
   ]
  },
  {
   "cell_type": "code",
   "execution_count": 26,
   "metadata": {},
   "outputs": [],
   "source": [
    "unicat = df[df.inUC == True].copy()\n",
    "unicat_top_5 = unicat.groupby(\"VABB_lg\").isbn.count().reset_index().sort_values(by=\"isbn\",ascending=False).head(5)\n",
    "unicat_total = len(unicat)\n",
    "unicat_top_5[\"percentage_UC\"] = unicat_top_5.isbn.apply(lambda x: (x/unicat_total)*100)"
   ]
  },
  {
   "cell_type": "code",
   "execution_count": 27,
   "metadata": {},
   "outputs": [],
   "source": [
    "top_5 = VABB_top_5.merge(cultuurconnect_top_5, how=\"left\", on=\"VABB_lg\")\n",
    "top_5 = top_5.merge(unicat_top_5, how=\"left\", on=\"VABB_lg\")"
   ]
  },
  {
   "cell_type": "code",
   "execution_count": 28,
   "metadata": {},
   "outputs": [],
   "source": [
    "# color scheme for the plots = Uantwerpen huisstijl\n",
    "colors = (\"#ea2c38\",\"#002e65\")\n",
    "ua_red = \"#ea2c38\"\n",
    "ua_blue = \"#002e65\"\n",
    "fsw_green = \"#ada500\"\n",
    "cfont = {'fontname':'Calibri'}"
   ]
  },
  {
   "cell_type": "code",
   "execution_count": 29,
   "metadata": {},
   "outputs": [
    {
     "data": {
      "text/html": [
       "<div>\n",
       "<style scoped>\n",
       "    .dataframe tbody tr th:only-of-type {\n",
       "        vertical-align: middle;\n",
       "    }\n",
       "\n",
       "    .dataframe tbody tr th {\n",
       "        vertical-align: top;\n",
       "    }\n",
       "\n",
       "    .dataframe thead th {\n",
       "        text-align: right;\n",
       "    }\n",
       "</style>\n",
       "<table border=\"1\" class=\"dataframe\">\n",
       "  <thead>\n",
       "    <tr style=\"text-align: right;\">\n",
       "      <th></th>\n",
       "      <th>VABB_lg</th>\n",
       "      <th>isbn_x</th>\n",
       "      <th>percentage_VABB</th>\n",
       "      <th>isbn_y</th>\n",
       "      <th>percentage_CC</th>\n",
       "      <th>isbn</th>\n",
       "      <th>percentage_UC</th>\n",
       "    </tr>\n",
       "  </thead>\n",
       "  <tbody>\n",
       "    <tr>\n",
       "      <th>0</th>\n",
       "      <td>eng</td>\n",
       "      <td>24187</td>\n",
       "      <td>51.857808</td>\n",
       "      <td>910</td>\n",
       "      <td>11.254019</td>\n",
       "      <td>11736</td>\n",
       "      <td>45.980254</td>\n",
       "    </tr>\n",
       "    <tr>\n",
       "      <th>1</th>\n",
       "      <td>dut</td>\n",
       "      <td>12959</td>\n",
       "      <td>27.784567</td>\n",
       "      <td>5990</td>\n",
       "      <td>74.078654</td>\n",
       "      <td>8371</td>\n",
       "      <td>32.796584</td>\n",
       "    </tr>\n",
       "    <tr>\n",
       "      <th>2</th>\n",
       "      <td>fre</td>\n",
       "      <td>3552</td>\n",
       "      <td>7.615617</td>\n",
       "      <td>208</td>\n",
       "      <td>2.572347</td>\n",
       "      <td>2308</td>\n",
       "      <td>9.042470</td>\n",
       "    </tr>\n",
       "    <tr>\n",
       "      <th>3</th>\n",
       "      <td>mul</td>\n",
       "      <td>3032</td>\n",
       "      <td>6.500718</td>\n",
       "      <td>904</td>\n",
       "      <td>11.179817</td>\n",
       "      <td>1950</td>\n",
       "      <td>7.639868</td>\n",
       "    </tr>\n",
       "    <tr>\n",
       "      <th>4</th>\n",
       "      <td>ger</td>\n",
       "      <td>1446</td>\n",
       "      <td>3.100277</td>\n",
       "      <td>45</td>\n",
       "      <td>0.556517</td>\n",
       "      <td>726</td>\n",
       "      <td>2.844382</td>\n",
       "    </tr>\n",
       "  </tbody>\n",
       "</table>\n",
       "</div>"
      ],
      "text/plain": [
       "  VABB_lg  isbn_x  percentage_VABB  isbn_y  percentage_CC   isbn  \\\n",
       "0     eng   24187        51.857808     910      11.254019  11736   \n",
       "1     dut   12959        27.784567    5990      74.078654   8371   \n",
       "2     fre    3552         7.615617     208       2.572347   2308   \n",
       "3     mul    3032         6.500718     904      11.179817   1950   \n",
       "4     ger    1446         3.100277      45       0.556517    726   \n",
       "\n",
       "   percentage_UC  \n",
       "0      45.980254  \n",
       "1      32.796584  \n",
       "2       9.042470  \n",
       "3       7.639868  \n",
       "4       2.844382  "
      ]
     },
     "execution_count": 29,
     "metadata": {},
     "output_type": "execute_result"
    }
   ],
   "source": [
    "top_5"
   ]
  },
  {
   "cell_type": "code",
   "execution_count": 44,
   "metadata": {},
   "outputs": [
    {
     "data": {
      "image/png": "[encoded data removed]",
      "text/plain": [
       "<Figure size 720x360 with 1 Axes>"
      ]
     },
     "metadata": {
      "needs_background": "light"
     },
     "output_type": "display_data"
    }
   ],
   "source": [
    "plt.rc('axes', axisbelow=True) #to show grid behind the figure\n",
    "fig, ax = plt.subplots(figsize = (10,5))\n",
    "\n",
    "\n",
    "\n",
    "x = top_5.VABB_lg\n",
    "y_VABB = top_5.percentage_VABB\n",
    "y_CC = top_5.percentage_CC\n",
    "y_UC = top_5.percentage_UC\n",
    "\n",
    "X_axis = np.arange(len(x))\n",
    "\n",
    "plt.bar(X_axis - 0.2, y_VABB, 0.2, label = 'Total VABB', color = \"white\", edgecolor = \"black\", hatch = \"/\")\n",
    "plt.bar(X_axis + 0.2, y_CC, 0.2, label = 'Public libraries', color = \"grey\", edgecolor = \"black\")\n",
    "plt.bar(X_axis - 0.0, y_UC, 0.2, label = \"Research libraries\", color = \"black\", edgecolor = \"black\")\n",
    "\n",
    "ax.grid(axis='y',zorder=-1.0)\n",
    "\n",
    "ax.set_ylabel(\"percentage\")\n",
    "plt.xticks(X_axis, [\"English\",\"Dutch\",\"French\",\"Multilingual\",\"German\"])\n",
    "plt.legend()\n",
    "\n",
    "\n",
    "plt.savefig(\"plots/language distribution paper_colorblind.png\")"
   ]
  },
  {
   "cell_type": "code",
   "execution_count": null,
   "metadata": {},
   "outputs": [],
   "source": []
  }
 ],
 "metadata": {
  "kernelspec": {
   "display_name": "Python 3",
   "language": "python",
   "name": "python3"
  },
  "language_info": {
   "codemirror_mode": {
    "name": "ipython",
    "version": 3
   },
   "file_extension": ".py",
   "mimetype": "text/x-python",
   "name": "python",
   "nbconvert_exporter": "python",
   "pygments_lexer": "ipython3",
   "version": "3.8.5"
  }
 },
 "nbformat": 4,
 "nbformat_minor": 4
}
