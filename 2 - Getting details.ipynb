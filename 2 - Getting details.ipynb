{
 "cells": [
  {
   "cell_type": "markdown",
   "metadata": {},
   "source": [
    "# 2 - Getting details\n",
    "\n",
    "I this notebook, the frabls are used to request the details sml from the Cultuurconnect API. This is done on the staging side."
   ]
  },
  {
   "cell_type": "code",
   "execution_count": 1,
   "metadata": {},
   "outputs": [],
   "source": [
    "import os\n",
    "os.chdir(\"C:\\\\Users\\\\EVandewalle\\\\Documents\\\\Libcitations\\\\Productie-omgeving\")"
   ]
  },
  {
   "cell_type": "code",
   "execution_count": 2,
   "metadata": {},
   "outputs": [],
   "source": [
    "from urllib.request import urlopen, Request\n",
    "import pandas as pd\n",
    "from random import sample\n",
    "import lxml.etree as ET\n",
    "import time\n",
    "import json\n",
    "import tqdm\n",
    "import productie\n",
    "import importlib"
   ]
  },
  {
   "cell_type": "code",
   "execution_count": 3,
   "metadata": {},
   "outputs": [
    {
     "data": {
      "text/plain": [
       "<module 'productie' from 'C:\\\\Users\\\\EVandewalle\\\\Documents\\\\Libcitations\\\\Productie-omgeving\\\\productie.py'>"
      ]
     },
     "execution_count": 3,
     "metadata": {},
     "output_type": "execute_result"
    }
   ],
   "source": [
    "importlib.reload(productie)"
   ]
  },
  {
   "cell_type": "markdown",
   "metadata": {},
   "source": [
    "## Get data"
   ]
  },
  {
   "cell_type": "code",
   "execution_count": 4,
   "metadata": {},
   "outputs": [],
   "source": [
    "frabls=pd.read_csv(\"../data/all_frabls.csv\", dtype={'isbn':'str'}, index_col='Unnamed: 0')"
   ]
  },
  {
   "cell_type": "code",
   "execution_count": 5,
   "metadata": {},
   "outputs": [],
   "source": [
    "split_frabls = frabls.frabls.str.split(\";\")\n",
    "list_frabls = split_frabls[split_frabls.notna()]\n",
    "list_frabls = list_frabls.explode()\n",
    "list_frabls = list(list_frabls)"
   ]
  },
  {
   "cell_type": "code",
   "execution_count": 6,
   "metadata": {},
   "outputs": [
    {
     "data": {
      "text/plain": [
       "9901"
      ]
     },
     "execution_count": 6,
     "metadata": {},
     "output_type": "execute_result"
    }
   ],
   "source": [
    "len(list_frabls)"
   ]
  },
  {
   "cell_type": "markdown",
   "metadata": {},
   "source": [
    "## Get details"
   ]
  },
  {
   "cell_type": "code",
   "execution_count": 9,
   "metadata": {},
   "outputs": [
    {
     "name": "stderr",
     "output_type": "stream",
     "text": [
      "  7%|█████▎                                                                       | 691/9901 [37:06<8:38:54,  3.38s/it]"
     ]
    },
    {
     "name": "stdout",
     "output_type": "stream",
     "text": [
      "HTTP Error 404: Not Found for url https://cataloguswebservices.bibliotheek.be/zbb/details/?frabl=3F189D1EF7F1AC00&authorization=0e6fec374b9b9bcde69af351f9987c22\n"
     ]
    },
    {
     "name": "stderr",
     "output_type": "stream",
     "text": [
      " 10%|███████▌                                                                     | 967/9901 [52:47<8:45:35,  3.53s/it]"
     ]
    },
    {
     "name": "stdout",
     "output_type": "stream",
     "text": [
      "HTTP Error 404: Not Found for url https://cataloguswebservices.bibliotheek.be/zbb/details/?frabl=3102CC680FF1AC00&authorization=0e6fec374b9b9bcde69af351f9987c22\n"
     ]
    },
    {
     "name": "stderr",
     "output_type": "stream",
     "text": [
      " 11%|████████▎                                                                 | 1113/9901 [1:01:33<8:22:09,  3.43s/it]"
     ]
    },
    {
     "name": "stdout",
     "output_type": "stream",
     "text": [
      "HTTP Error 404: Not Found for url https://cataloguswebservices.bibliotheek.be/zbb/details/?frabl=5CC0123D40F1ACA0&authorization=0e6fec374b9b9bcde69af351f9987c22\n"
     ]
    },
    {
     "name": "stderr",
     "output_type": "stream",
     "text": [
      " 15%|███████████▏                                                              | 1496/9901 [1:22:52<7:58:47,  3.42s/it]"
     ]
    },
    {
     "name": "stdout",
     "output_type": "stream",
     "text": [
      "HTTP Error 404: Not Found for url https://cataloguswebservices.bibliotheek.be/zbb/details/?frabl=264872153191ACA0&authorization=0e6fec374b9b9bcde69af351f9987c22\n"
     ]
    },
    {
     "name": "stderr",
     "output_type": "stream",
     "text": [
      " 15%|███████████                                                              | 1499/9901 [1:23:16<11:28:50,  4.92s/it]"
     ]
    },
    {
     "name": "stdout",
     "output_type": "stream",
     "text": [
      "HTTP Error 404: Not Found for url https://cataloguswebservices.bibliotheek.be/zbb/details/?frabl=67A27AB72091ACA0&authorization=0e6fec374b9b9bcde69af351f9987c22\n"
     ]
    },
    {
     "name": "stderr",
     "output_type": "stream",
     "text": [
      "\r",
      " 15%|███████████                                                              | 1500/9901 [1:23:36<22:11:00,  9.51s/it]"
     ]
    },
    {
     "name": "stdout",
     "output_type": "stream",
     "text": [
      "HTTP Error 404: Not Found for url https://cataloguswebservices.bibliotheek.be/zbb/details/?frabl=56072529AF91ACA0&authorization=0e6fec374b9b9bcde69af351f9987c22\n"
     ]
    },
    {
     "name": "stderr",
     "output_type": "stream",
     "text": [
      "\r",
      " 15%|███████████                                                              | 1501/9901 [1:23:56<29:41:22, 12.72s/it]"
     ]
    },
    {
     "name": "stdout",
     "output_type": "stream",
     "text": [
      "HTTP Error 404: Not Found for url https://cataloguswebservices.bibliotheek.be/zbb/details/?frabl=418BE712AC91ACA0&authorization=0e6fec374b9b9bcde69af351f9987c22\n"
     ]
    },
    {
     "name": "stderr",
     "output_type": "stream",
     "text": [
      "\r",
      " 15%|███████████                                                              | 1502/9901 [1:24:17<34:56:57, 14.98s/it]"
     ]
    },
    {
     "name": "stdout",
     "output_type": "stream",
     "text": [
      "HTTP Error 404: Not Found for url https://cataloguswebservices.bibliotheek.be/zbb/details/?frabl=35EEA98AE991ACA0&authorization=0e6fec374b9b9bcde69af351f9987c22\n"
     ]
    },
    {
     "name": "stderr",
     "output_type": "stream",
     "text": [
      "\r",
      " 15%|███████████                                                              | 1503/9901 [1:24:37<38:41:27, 16.59s/it]"
     ]
    },
    {
     "name": "stdout",
     "output_type": "stream",
     "text": [
      "HTTP Error 404: Not Found for url https://cataloguswebservices.bibliotheek.be/zbb/details/?frabl=12C3A744F991ACA0&authorization=0e6fec374b9b9bcde69af351f9987c22\n"
     ]
    },
    {
     "name": "stderr",
     "output_type": "stream",
     "text": [
      "\r",
      " 15%|███████████                                                              | 1504/9901 [1:24:57<41:17:18, 17.70s/it]"
     ]
    },
    {
     "name": "stdout",
     "output_type": "stream",
     "text": [
      "HTTP Error 404: Not Found for url https://cataloguswebservices.bibliotheek.be/zbb/details/?frabl=13258CFCA591ACA0&authorization=0e6fec374b9b9bcde69af351f9987c22\n"
     ]
    },
    {
     "name": "stderr",
     "output_type": "stream",
     "text": [
      "\r",
      " 15%|███████████                                                              | 1505/9901 [1:25:18<43:02:32, 18.46s/it]"
     ]
    },
    {
     "name": "stdout",
     "output_type": "stream",
     "text": [
      "HTTP Error 404: Not Found for url https://cataloguswebservices.bibliotheek.be/zbb/details/?frabl=2A7B43EDC191ACA0&authorization=0e6fec374b9b9bcde69af351f9987c22\n"
     ]
    },
    {
     "name": "stderr",
     "output_type": "stream",
     "text": [
      "\r",
      " 15%|███████████                                                              | 1506/9901 [1:25:38<44:20:30, 19.01s/it]"
     ]
    },
    {
     "name": "stdout",
     "output_type": "stream",
     "text": [
      "HTTP Error 404: Not Found for url https://cataloguswebservices.bibliotheek.be/zbb/details/?frabl=5F1712B39891ACA0&authorization=0e6fec374b9b9bcde69af351f9987c22\n"
     ]
    },
    {
     "name": "stderr",
     "output_type": "stream",
     "text": [
      "\r",
      " 15%|███████████                                                              | 1507/9901 [1:25:58<45:08:46, 19.36s/it]"
     ]
    },
    {
     "name": "stdout",
     "output_type": "stream",
     "text": [
      "HTTP Error 404: Not Found for url https://cataloguswebservices.bibliotheek.be/zbb/details/?frabl=267583B4A491ACA0&authorization=0e6fec374b9b9bcde69af351f9987c22\n"
     ]
    },
    {
     "name": "stderr",
     "output_type": "stream",
     "text": [
      "\r",
      " 15%|███████████                                                              | 1508/9901 [1:26:18<45:44:23, 19.62s/it]"
     ]
    },
    {
     "name": "stdout",
     "output_type": "stream",
     "text": [
      "HTTP Error 404: Not Found for url https://cataloguswebservices.bibliotheek.be/zbb/details/?frabl=3B578A049C91ACA0&authorization=0e6fec374b9b9bcde69af351f9987c22\n"
     ]
    },
    {
     "name": "stderr",
     "output_type": "stream",
     "text": [
      " 15%|███████████▏                                                             | 1510/9901 [1:26:42<34:51:14, 14.95s/it]"
     ]
    },
    {
     "name": "stdout",
     "output_type": "stream",
     "text": [
      "HTTP Error 404: Not Found for url https://cataloguswebservices.bibliotheek.be/zbb/details/?frabl=6F2D37E58D91ACA0&authorization=0e6fec374b9b9bcde69af351f9987c22\n"
     ]
    },
    {
     "name": "stderr",
     "output_type": "stream",
     "text": [
      " 19%|█████████████▊                                                            | 1845/9901 [1:45:29<7:22:14,  3.29s/it]"
     ]
    },
    {
     "name": "stdout",
     "output_type": "stream",
     "text": [
      "HTTP Error 404: Not Found for url https://cataloguswebservices.bibliotheek.be/zbb/details/?frabl=627FF2543B91ACA0&authorization=0e6fec374b9b9bcde69af351f9987c22\n"
     ]
    },
    {
     "name": "stderr",
     "output_type": "stream",
     "text": [
      " 20%|██████████████▋                                                           | 1967/9901 [1:52:16<7:27:01,  3.38s/it]"
     ]
    },
    {
     "name": "stdout",
     "output_type": "stream",
     "text": [
      "HTTP Error 404: Not Found for url https://cataloguswebservices.bibliotheek.be/zbb/details/?frabl=2F62A8FA8EF1ACA0&authorization=0e6fec374b9b9bcde69af351f9987c22\n"
     ]
    },
    {
     "name": "stderr",
     "output_type": "stream",
     "text": [
      " 21%|███████████████▋                                                          | 2103/9901 [2:00:13<7:25:23,  3.43s/it]"
     ]
    },
    {
     "name": "stdout",
     "output_type": "stream",
     "text": [
      "HTTP Error 404: Not Found for url https://cataloguswebservices.bibliotheek.be/zbb/details/?frabl=2FCB4AC7A811ACA0&authorization=0e6fec374b9b9bcde69af351f9987c22\n"
     ]
    },
    {
     "name": "stderr",
     "output_type": "stream",
     "text": [
      " 33%|████████████████████████▏                                                 | 3230/9901 [3:03:33<6:19:40,  3.41s/it]"
     ]
    },
    {
     "name": "stdout",
     "output_type": "stream",
     "text": [
      "HTTP Error 503: Service Unavailable for url https://cataloguswebservices.bibliotheek.be/zbb/details/?frabl=6C49DFD4C8F1ACA0&authorization=0e6fec374b9b9bcde69af351f9987c22\n"
     ]
    },
    {
     "name": "stderr",
     "output_type": "stream",
     "text": [
      " 34%|████████████████████████▉                                                 | 3332/9901 [3:09:49<6:16:11,  3.44s/it]"
     ]
    },
    {
     "name": "stdout",
     "output_type": "stream",
     "text": [
      "HTTP Error 404: Not Found for url https://cataloguswebservices.bibliotheek.be/zbb/details/?frabl=6C7D2A47B8F1ACA0&authorization=0e6fec374b9b9bcde69af351f9987c22\n"
     ]
    },
    {
     "name": "stderr",
     "output_type": "stream",
     "text": [
      " 34%|█████████████████████████                                                 | 3359/9901 [3:11:33<6:17:36,  3.46s/it]"
     ]
    },
    {
     "name": "stdout",
     "output_type": "stream",
     "text": [
      "HTTP Error 404: Not Found for url https://cataloguswebservices.bibliotheek.be/zbb/details/?frabl=57CE30CDFF1ACA0&authorization=0e6fec374b9b9bcde69af351f9987c22\n"
     ]
    },
    {
     "name": "stderr",
     "output_type": "stream",
     "text": [
      " 36%|██████████████████████████▌                                               | 3561/9901 [3:23:02<6:11:21,  3.51s/it]"
     ]
    },
    {
     "name": "stdout",
     "output_type": "stream",
     "text": [
      "HTTP Error 404: Not Found for url https://cataloguswebservices.bibliotheek.be/zbb/details/?frabl=5A593C3A6FF1ACA0&authorization=0e6fec374b9b9bcde69af351f9987c22\n"
     ]
    },
    {
     "name": "stderr",
     "output_type": "stream",
     "text": [
      " 37%|███████████████████████████▋                                              | 3707/9901 [3:31:56<5:52:18,  3.41s/it]"
     ]
    },
    {
     "name": "stdout",
     "output_type": "stream",
     "text": [
      "HTTP Error 404: Not Found for url https://cataloguswebservices.bibliotheek.be/zbb/details/?frabl=5B4BD1B34991ACA0&authorization=0e6fec374b9b9bcde69af351f9987c22\n"
     ]
    },
    {
     "name": "stderr",
     "output_type": "stream",
     "text": [
      " 43%|███████████████████████████████▉                                          | 4274/9901 [4:04:37<5:37:44,  3.60s/it]"
     ]
    },
    {
     "name": "stdout",
     "output_type": "stream",
     "text": [
      "HTTP Error 404: Not Found for url https://cataloguswebservices.bibliotheek.be/zbb/details/?frabl=40380C150F11ACA0&authorization=0e6fec374b9b9bcde69af351f9987c22\n"
     ]
    },
    {
     "name": "stderr",
     "output_type": "stream",
     "text": [
      " 44%|████████████████████████████████▋                                         | 4371/9901 [4:10:42<5:36:39,  3.65s/it]"
     ]
    },
    {
     "name": "stdout",
     "output_type": "stream",
     "text": [
      "HTTP Error 404: Not Found for url https://cataloguswebservices.bibliotheek.be/zbb/details/?frabl=7C67DB27B3F1ACA0&authorization=0e6fec374b9b9bcde69af351f9987c22\n"
     ]
    },
    {
     "name": "stderr",
     "output_type": "stream",
     "text": [
      " 48%|███████████████████████████████████▍                                      | 4734/9901 [4:32:06<5:31:23,  3.85s/it]"
     ]
    },
    {
     "name": "stdout",
     "output_type": "stream",
     "text": [
      "HTTP Error 404: Not Found for url https://cataloguswebservices.bibliotheek.be/zbb/details/?frabl=28D4F8658191ACA0&authorization=0e6fec374b9b9bcde69af351f9987c22\n"
     ]
    },
    {
     "name": "stderr",
     "output_type": "stream",
     "text": [
      " 53%|███████████████████████████████████████▏                                  | 5239/9901 [5:01:38<4:28:53,  3.46s/it]"
     ]
    },
    {
     "name": "stdout",
     "output_type": "stream",
     "text": [
      "HTTP Error 404: Not Found for url https://cataloguswebservices.bibliotheek.be/zbb/details/?frabl=FE39C98DD91ACA0&authorization=0e6fec374b9b9bcde69af351f9987c22\n"
     ]
    },
    {
     "name": "stderr",
     "output_type": "stream",
     "text": [
      " 60%|████████████████████████████████████████████▎                             | 5931/9901 [5:43:13<3:48:13,  3.45s/it]"
     ]
    },
    {
     "name": "stdout",
     "output_type": "stream",
     "text": [
      "HTTP Error 404: Not Found for url https://cataloguswebservices.bibliotheek.be/zbb/details/?frabl=3B49378CF8F1ACA0&authorization=0e6fec374b9b9bcde69af351f9987c22\n"
     ]
    },
    {
     "name": "stderr",
     "output_type": "stream",
     "text": [
      " 70%|███████████████████████████████████████████████████▊                      | 6931/9901 [6:43:04<3:05:40,  3.75s/it]"
     ]
    },
    {
     "name": "stdout",
     "output_type": "stream",
     "text": [
      "HTTP Error 404: Not Found for url https://cataloguswebservices.bibliotheek.be/zbb/details/?frabl=3FD2F4103DF1AC00&authorization=0e6fec374b9b9bcde69af351f9987c22\n"
     ]
    },
    {
     "name": "stderr",
     "output_type": "stream",
     "text": [
      " 73%|█████████████████████████████████████████████████████▋                    | 7190/9901 [6:58:33<2:53:51,  3.85s/it]"
     ]
    },
    {
     "name": "stdout",
     "output_type": "stream",
     "text": [
      "HTTP Error 404: Not Found for url https://cataloguswebservices.bibliotheek.be/zbb/details/?frabl=6C7D2A47B8F1ACA0&authorization=0e6fec374b9b9bcde69af351f9987c22\n"
     ]
    },
    {
     "name": "stderr",
     "output_type": "stream",
     "text": [
      " 89%|█████████████████████████████████████████████████████████████████▊        | 8811/9901 [8:40:45<1:12:24,  3.99s/it]"
     ]
    },
    {
     "name": "stdout",
     "output_type": "stream",
     "text": [
      "HTTP Error 404: Not Found for url https://cataloguswebservices.bibliotheek.be/zbb/details/?frabl=77F05532E11AC00&authorization=0e6fec374b9b9bcde69af351f9987c22\n"
     ]
    },
    {
     "name": "stderr",
     "output_type": "stream",
     "text": [
      " 98%|██████████████████████████████████████████████████████████████████████████▏ | 9660/9901 [9:35:07<17:51,  4.44s/it]"
     ]
    },
    {
     "name": "stdout",
     "output_type": "stream",
     "text": [
      "HTTP Error 404: Not Found for url https://cataloguswebservices.bibliotheek.be/zbb/details/?frabl=1BBF924244F1ACA0&authorization=0e6fec374b9b9bcde69af351f9987c22\n"
     ]
    },
    {
     "name": "stderr",
     "output_type": "stream",
     "text": [
      "100%|████████████████████████████████████████████████████████████████████████████| 9901/9901 [9:50:36<00:00,  3.58s/it]\n"
     ]
    }
   ],
   "source": [
    "responses = productie.get_response_details_all(list_frabls, \"Raw_data_json/details_intermediate.json\")"
   ]
  },
  {
   "cell_type": "markdown",
   "metadata": {},
   "source": [
    "## Save details information"
   ]
  },
  {
   "cell_type": "code",
   "execution_count": 3,
   "metadata": {},
   "outputs": [],
   "source": [
    "with open(\"Raw_data_json/details_intermediate.json\", 'r') as f:\n",
    "    details_dict = json.load(f)"
   ]
  },
  {
   "cell_type": "code",
   "execution_count": 4,
   "metadata": {},
   "outputs": [],
   "source": [
    "df = pd.DataFrame.from_dict(details_dict, orient='index', columns = {'xml_response'}).reset_index()\n",
    "df.rename(columns = {'index':'frabl'}, inplace = True)"
   ]
  },
  {
   "cell_type": "code",
   "execution_count": 7,
   "metadata": {},
   "outputs": [],
   "source": [
    "df.to_csv(\"Outputs/Raw/cultuurconnect_details_raw.csv\")"
   ]
  },
  {
   "cell_type": "code",
   "execution_count": 5,
   "metadata": {},
   "outputs": [
    {
     "data": {
      "text/plain": [
       "(9271, 2)"
      ]
     },
     "execution_count": 5,
     "metadata": {},
     "output_type": "execute_result"
    }
   ],
   "source": [
    "df.shape"
   ]
  },
  {
   "cell_type": "code",
   "execution_count": 6,
   "metadata": {},
   "outputs": [
    {
     "data": {
      "text/html": [
       "<div>\n",
       "<style scoped>\n",
       "    .dataframe tbody tr th:only-of-type {\n",
       "        vertical-align: middle;\n",
       "    }\n",
       "\n",
       "    .dataframe tbody tr th {\n",
       "        vertical-align: top;\n",
       "    }\n",
       "\n",
       "    .dataframe thead th {\n",
       "        text-align: right;\n",
       "    }\n",
       "</style>\n",
       "<table border=\"1\" class=\"dataframe\">\n",
       "  <thead>\n",
       "    <tr style=\"text-align: right;\">\n",
       "      <th></th>\n",
       "      <th>frabl</th>\n",
       "      <th>xml_response</th>\n",
       "    </tr>\n",
       "  </thead>\n",
       "  <tbody>\n",
       "    <tr>\n",
       "      <th>0</th>\n",
       "      <td>1B9BDF18AF1ACA0</td>\n",
       "      <td>&lt;aquabrowser version=\"1\" before-rendering-time...</td>\n",
       "    </tr>\n",
       "    <tr>\n",
       "      <th>1</th>\n",
       "      <td>1A0D8B40D9F1ACA0</td>\n",
       "      <td>&lt;aquabrowser version=\"1\" before-rendering-time...</td>\n",
       "    </tr>\n",
       "  </tbody>\n",
       "</table>\n",
       "</div>"
      ],
      "text/plain": [
       "              frabl                                       xml_response\n",
       "0   1B9BDF18AF1ACA0  <aquabrowser version=\"1\" before-rendering-time...\n",
       "1  1A0D8B40D9F1ACA0  <aquabrowser version=\"1\" before-rendering-time..."
      ]
     },
     "execution_count": 6,
     "metadata": {},
     "output_type": "execute_result"
    }
   ],
   "source": [
    "df.head(2)"
   ]
  },
  {
   "cell_type": "markdown",
   "metadata": {},
   "source": [
    "# Adding the frabls that gave an error"
   ]
  },
  {
   "cell_type": "code",
   "execution_count": 20,
   "metadata": {},
   "outputs": [],
   "source": [
    "frabls_error = set(list_frabls) - set(list(df['frabl']))\n",
    "frabls_error = list(frabls_error)"
   ]
  },
  {
   "cell_type": "code",
   "execution_count": 21,
   "metadata": {},
   "outputs": [
    {
     "data": {
      "text/plain": [
       "['67A27AB72091ACA0',\n",
       " '1BBF924244F1ACA0',\n",
       " '3B578A049C91ACA0',\n",
       " '40380C150F11ACA0',\n",
       " '5CC0123D40F1ACA0',\n",
       " '6C49DFD4C8F1ACA0',\n",
       " '6C7D2A47B8F1ACA0',\n",
       " '2A7B43EDC191ACA0',\n",
       " '57CE30CDFF1ACA0',\n",
       " '627FF2543B91ACA0',\n",
       " '267583B4A491ACA0',\n",
       " '35EEA98AE991ACA0',\n",
       " '264872153191ACA0',\n",
       " '3102CC680FF1AC00',\n",
       " '13258CFCA591ACA0',\n",
       " '2FCB4AC7A811ACA0',\n",
       " '5A593C3A6FF1ACA0',\n",
       " '3B49378CF8F1ACA0',\n",
       " '12C3A744F991ACA0',\n",
       " '418BE712AC91ACA0',\n",
       " '6F2D37E58D91ACA0',\n",
       " '5F1712B39891ACA0',\n",
       " '3F189D1EF7F1AC00',\n",
       " '7C67DB27B3F1ACA0',\n",
       " '28D4F8658191ACA0',\n",
       " 'FE39C98DD91ACA0',\n",
       " '2F62A8FA8EF1ACA0',\n",
       " '5B4BD1B34991ACA0',\n",
       " '3FD2F4103DF1AC00',\n",
       " '56072529AF91ACA0',\n",
       " '77F05532E11AC00']"
      ]
     },
     "execution_count": 21,
     "metadata": {},
     "output_type": "execute_result"
    }
   ],
   "source": [
    "frabls_error"
   ]
  },
  {
   "cell_type": "code",
   "execution_count": 22,
   "metadata": {},
   "outputs": [
    {
     "name": "stderr",
     "output_type": "stream",
     "text": [
      "\r",
      "  0%|                                                                                           | 0/31 [00:00<?, ?it/s]"
     ]
    },
    {
     "name": "stdout",
     "output_type": "stream",
     "text": [
      "HTTP Error 404: Not Found for url https://cataloguswebservices.bibliotheek.be/zbb/details/?frabl=67A27AB72091ACA0&authorization=0e6fec374b9b9bcde69af351f9987c22\n"
     ]
    },
    {
     "name": "stderr",
     "output_type": "stream",
     "text": [
      "\r",
      "  3%|██▋                                                                                | 1/31 [00:20<10:06, 20.21s/it]"
     ]
    },
    {
     "name": "stdout",
     "output_type": "stream",
     "text": [
      "HTTP Error 404: Not Found for url https://cataloguswebservices.bibliotheek.be/zbb/details/?frabl=1BBF924244F1ACA0&authorization=0e6fec374b9b9bcde69af351f9987c22\n"
     ]
    },
    {
     "name": "stderr",
     "output_type": "stream",
     "text": [
      "\r",
      "  6%|█████▎                                                                             | 2/31 [00:40<09:46, 20.21s/it]"
     ]
    },
    {
     "name": "stdout",
     "output_type": "stream",
     "text": [
      "HTTP Error 404: Not Found for url https://cataloguswebservices.bibliotheek.be/zbb/details/?frabl=3B578A049C91ACA0&authorization=0e6fec374b9b9bcde69af351f9987c22\n"
     ]
    },
    {
     "name": "stderr",
     "output_type": "stream",
     "text": [
      "\r",
      " 10%|████████                                                                           | 3/31 [01:00<09:25, 20.20s/it]"
     ]
    },
    {
     "name": "stdout",
     "output_type": "stream",
     "text": [
      "HTTP Error 404: Not Found for url https://cataloguswebservices.bibliotheek.be/zbb/details/?frabl=40380C150F11ACA0&authorization=0e6fec374b9b9bcde69af351f9987c22\n"
     ]
    },
    {
     "name": "stderr",
     "output_type": "stream",
     "text": [
      "\r",
      " 13%|██████████▋                                                                        | 4/31 [01:20<09:05, 20.20s/it]"
     ]
    },
    {
     "name": "stdout",
     "output_type": "stream",
     "text": [
      "HTTP Error 404: Not Found for url https://cataloguswebservices.bibliotheek.be/zbb/details/?frabl=5CC0123D40F1ACA0&authorization=0e6fec374b9b9bcde69af351f9987c22\n"
     ]
    },
    {
     "name": "stderr",
     "output_type": "stream",
     "text": [
      " 19%|████████████████                                                                   | 6/31 [01:45<06:26, 15.45s/it]"
     ]
    },
    {
     "name": "stdout",
     "output_type": "stream",
     "text": [
      "HTTP Error 404: Not Found for url https://cataloguswebservices.bibliotheek.be/zbb/details/?frabl=6C7D2A47B8F1ACA0&authorization=0e6fec374b9b9bcde69af351f9987c22\n"
     ]
    },
    {
     "name": "stderr",
     "output_type": "stream",
     "text": [
      "\r",
      " 23%|██████████████████▋                                                                | 7/31 [02:05<06:45, 16.88s/it]"
     ]
    },
    {
     "name": "stdout",
     "output_type": "stream",
     "text": [
      "HTTP Error 404: Not Found for url https://cataloguswebservices.bibliotheek.be/zbb/details/?frabl=2A7B43EDC191ACA0&authorization=0e6fec374b9b9bcde69af351f9987c22\n"
     ]
    },
    {
     "name": "stderr",
     "output_type": "stream",
     "text": [
      "\r",
      " 26%|█████████████████████▍                                                             | 8/31 [02:25<06:51, 17.88s/it]"
     ]
    },
    {
     "name": "stdout",
     "output_type": "stream",
     "text": [
      "HTTP Error 404: Not Found for url https://cataloguswebservices.bibliotheek.be/zbb/details/?frabl=57CE30CDFF1ACA0&authorization=0e6fec374b9b9bcde69af351f9987c22\n"
     ]
    },
    {
     "name": "stderr",
     "output_type": "stream",
     "text": [
      "\r",
      " 29%|████████████████████████                                                           | 9/31 [02:45<06:48, 18.57s/it]"
     ]
    },
    {
     "name": "stdout",
     "output_type": "stream",
     "text": [
      "HTTP Error 404: Not Found for url https://cataloguswebservices.bibliotheek.be/zbb/details/?frabl=627FF2543B91ACA0&authorization=0e6fec374b9b9bcde69af351f9987c22\n"
     ]
    },
    {
     "name": "stderr",
     "output_type": "stream",
     "text": [
      "\r",
      " 32%|██████████████████████████▍                                                       | 10/31 [03:06<06:40, 19.05s/it]"
     ]
    },
    {
     "name": "stdout",
     "output_type": "stream",
     "text": [
      "HTTP Error 404: Not Found for url https://cataloguswebservices.bibliotheek.be/zbb/details/?frabl=267583B4A491ACA0&authorization=0e6fec374b9b9bcde69af351f9987c22\n"
     ]
    },
    {
     "name": "stderr",
     "output_type": "stream",
     "text": [
      "\r",
      " 35%|█████████████████████████████                                                     | 11/31 [03:26<06:27, 19.39s/it]"
     ]
    },
    {
     "name": "stdout",
     "output_type": "stream",
     "text": [
      "HTTP Error 404: Not Found for url https://cataloguswebservices.bibliotheek.be/zbb/details/?frabl=35EEA98AE991ACA0&authorization=0e6fec374b9b9bcde69af351f9987c22\n"
     ]
    },
    {
     "name": "stderr",
     "output_type": "stream",
     "text": [
      "\r",
      " 39%|███████████████████████████████▋                                                  | 12/31 [03:46<06:13, 19.67s/it]"
     ]
    },
    {
     "name": "stdout",
     "output_type": "stream",
     "text": [
      "HTTP Error 404: Not Found for url https://cataloguswebservices.bibliotheek.be/zbb/details/?frabl=264872153191ACA0&authorization=0e6fec374b9b9bcde69af351f9987c22\n"
     ]
    },
    {
     "name": "stderr",
     "output_type": "stream",
     "text": [
      "\r",
      " 42%|██████████████████████████████████▍                                               | 13/31 [04:06<05:56, 19.82s/it]"
     ]
    },
    {
     "name": "stdout",
     "output_type": "stream",
     "text": [
      "HTTP Error 404: Not Found for url https://cataloguswebservices.bibliotheek.be/zbb/details/?frabl=3102CC680FF1AC00&authorization=0e6fec374b9b9bcde69af351f9987c22\n"
     ]
    },
    {
     "name": "stderr",
     "output_type": "stream",
     "text": [
      "\r",
      " 45%|█████████████████████████████████████                                             | 14/31 [04:27<05:39, 19.95s/it]"
     ]
    },
    {
     "name": "stdout",
     "output_type": "stream",
     "text": [
      "HTTP Error 404: Not Found for url https://cataloguswebservices.bibliotheek.be/zbb/details/?frabl=13258CFCA591ACA0&authorization=0e6fec374b9b9bcde69af351f9987c22\n"
     ]
    },
    {
     "name": "stderr",
     "output_type": "stream",
     "text": [
      "\r",
      " 48%|███████████████████████████████████████▋                                          | 15/31 [04:47<05:20, 20.02s/it]"
     ]
    },
    {
     "name": "stdout",
     "output_type": "stream",
     "text": [
      "HTTP Error 404: Not Found for url https://cataloguswebservices.bibliotheek.be/zbb/details/?frabl=2FCB4AC7A811ACA0&authorization=0e6fec374b9b9bcde69af351f9987c22\n"
     ]
    },
    {
     "name": "stderr",
     "output_type": "stream",
     "text": [
      "\r",
      " 52%|██████████████████████████████████████████▎                                       | 16/31 [05:07<05:01, 20.07s/it]"
     ]
    },
    {
     "name": "stdout",
     "output_type": "stream",
     "text": [
      "HTTP Error 404: Not Found for url https://cataloguswebservices.bibliotheek.be/zbb/details/?frabl=5A593C3A6FF1ACA0&authorization=0e6fec374b9b9bcde69af351f9987c22\n"
     ]
    },
    {
     "name": "stderr",
     "output_type": "stream",
     "text": [
      "\r",
      " 55%|████████████████████████████████████████████▉                                     | 17/31 [05:27<04:41, 20.10s/it]"
     ]
    },
    {
     "name": "stdout",
     "output_type": "stream",
     "text": [
      "HTTP Error 404: Not Found for url https://cataloguswebservices.bibliotheek.be/zbb/details/?frabl=3B49378CF8F1ACA0&authorization=0e6fec374b9b9bcde69af351f9987c22\n"
     ]
    },
    {
     "name": "stderr",
     "output_type": "stream",
     "text": [
      "\r",
      " 58%|███████████████████████████████████████████████▌                                  | 18/31 [05:47<04:21, 20.15s/it]"
     ]
    },
    {
     "name": "stdout",
     "output_type": "stream",
     "text": [
      "HTTP Error 404: Not Found for url https://cataloguswebservices.bibliotheek.be/zbb/details/?frabl=12C3A744F991ACA0&authorization=0e6fec374b9b9bcde69af351f9987c22\n"
     ]
    },
    {
     "name": "stderr",
     "output_type": "stream",
     "text": [
      "\r",
      " 61%|██████████████████████████████████████████████████▎                               | 19/31 [06:08<04:01, 20.16s/it]"
     ]
    },
    {
     "name": "stdout",
     "output_type": "stream",
     "text": [
      "HTTP Error 404: Not Found for url https://cataloguswebservices.bibliotheek.be/zbb/details/?frabl=418BE712AC91ACA0&authorization=0e6fec374b9b9bcde69af351f9987c22\n"
     ]
    },
    {
     "name": "stderr",
     "output_type": "stream",
     "text": [
      "\r",
      " 65%|████████████████████████████████████████████████████▉                             | 20/31 [06:28<03:41, 20.17s/it]"
     ]
    },
    {
     "name": "stdout",
     "output_type": "stream",
     "text": [
      "HTTP Error 404: Not Found for url https://cataloguswebservices.bibliotheek.be/zbb/details/?frabl=6F2D37E58D91ACA0&authorization=0e6fec374b9b9bcde69af351f9987c22\n"
     ]
    },
    {
     "name": "stderr",
     "output_type": "stream",
     "text": [
      "\r",
      " 68%|███████████████████████████████████████████████████████▌                          | 21/31 [06:48<03:22, 20.22s/it]"
     ]
    },
    {
     "name": "stdout",
     "output_type": "stream",
     "text": [
      "HTTP Error 404: Not Found for url https://cataloguswebservices.bibliotheek.be/zbb/details/?frabl=5F1712B39891ACA0&authorization=0e6fec374b9b9bcde69af351f9987c22\n"
     ]
    },
    {
     "name": "stderr",
     "output_type": "stream",
     "text": [
      "\r",
      " 71%|██████████████████████████████████████████████████████████▏                       | 22/31 [07:08<03:01, 20.22s/it]"
     ]
    },
    {
     "name": "stdout",
     "output_type": "stream",
     "text": [
      "HTTP Error 404: Not Found for url https://cataloguswebservices.bibliotheek.be/zbb/details/?frabl=3F189D1EF7F1AC00&authorization=0e6fec374b9b9bcde69af351f9987c22\n"
     ]
    },
    {
     "name": "stderr",
     "output_type": "stream",
     "text": [
      "\r",
      " 74%|████████████████████████████████████████████████████████████▊                     | 23/31 [07:28<02:41, 20.20s/it]"
     ]
    },
    {
     "name": "stdout",
     "output_type": "stream",
     "text": [
      "HTTP Error 404: Not Found for url https://cataloguswebservices.bibliotheek.be/zbb/details/?frabl=7C67DB27B3F1ACA0&authorization=0e6fec374b9b9bcde69af351f9987c22\n"
     ]
    },
    {
     "name": "stderr",
     "output_type": "stream",
     "text": [
      "\r",
      " 77%|███████████████████████████████████████████████████████████████▍                  | 24/31 [07:49<02:21, 20.20s/it]"
     ]
    },
    {
     "name": "stdout",
     "output_type": "stream",
     "text": [
      "HTTP Error 404: Not Found for url https://cataloguswebservices.bibliotheek.be/zbb/details/?frabl=28D4F8658191ACA0&authorization=0e6fec374b9b9bcde69af351f9987c22\n"
     ]
    },
    {
     "name": "stderr",
     "output_type": "stream",
     "text": [
      "\r",
      " 81%|██████████████████████████████████████████████████████████████████▏               | 25/31 [08:09<02:01, 20.20s/it]"
     ]
    },
    {
     "name": "stdout",
     "output_type": "stream",
     "text": [
      "HTTP Error 404: Not Found for url https://cataloguswebservices.bibliotheek.be/zbb/details/?frabl=FE39C98DD91ACA0&authorization=0e6fec374b9b9bcde69af351f9987c22\n"
     ]
    },
    {
     "name": "stderr",
     "output_type": "stream",
     "text": [
      "\r",
      " 84%|████████████████████████████████████████████████████████████████████▊             | 26/31 [08:29<01:40, 20.20s/it]"
     ]
    },
    {
     "name": "stdout",
     "output_type": "stream",
     "text": [
      "HTTP Error 404: Not Found for url https://cataloguswebservices.bibliotheek.be/zbb/details/?frabl=2F62A8FA8EF1ACA0&authorization=0e6fec374b9b9bcde69af351f9987c22\n"
     ]
    },
    {
     "name": "stderr",
     "output_type": "stream",
     "text": [
      "\r",
      " 87%|███████████████████████████████████████████████████████████████████████▍          | 27/31 [08:49<01:20, 20.22s/it]"
     ]
    },
    {
     "name": "stdout",
     "output_type": "stream",
     "text": [
      "HTTP Error 404: Not Found for url https://cataloguswebservices.bibliotheek.be/zbb/details/?frabl=5B4BD1B34991ACA0&authorization=0e6fec374b9b9bcde69af351f9987c22\n"
     ]
    },
    {
     "name": "stderr",
     "output_type": "stream",
     "text": [
      "\r",
      " 90%|██████████████████████████████████████████████████████████████████████████        | 28/31 [09:10<01:00, 20.21s/it]"
     ]
    },
    {
     "name": "stdout",
     "output_type": "stream",
     "text": [
      "HTTP Error 404: Not Found for url https://cataloguswebservices.bibliotheek.be/zbb/details/?frabl=3FD2F4103DF1AC00&authorization=0e6fec374b9b9bcde69af351f9987c22\n"
     ]
    },
    {
     "name": "stderr",
     "output_type": "stream",
     "text": [
      "\r",
      " 94%|████████████████████████████████████████████████████████████████████████████▋     | 29/31 [09:30<00:40, 20.20s/it]"
     ]
    },
    {
     "name": "stdout",
     "output_type": "stream",
     "text": [
      "HTTP Error 404: Not Found for url https://cataloguswebservices.bibliotheek.be/zbb/details/?frabl=56072529AF91ACA0&authorization=0e6fec374b9b9bcde69af351f9987c22\n"
     ]
    },
    {
     "name": "stderr",
     "output_type": "stream",
     "text": [
      "\r",
      " 97%|███████████████████████████████████████████████████████████████████████████████▎  | 30/31 [09:50<00:20, 20.20s/it]"
     ]
    },
    {
     "name": "stdout",
     "output_type": "stream",
     "text": [
      "HTTP Error 404: Not Found for url https://cataloguswebservices.bibliotheek.be/zbb/details/?frabl=77F05532E11AC00&authorization=0e6fec374b9b9bcde69af351f9987c22\n"
     ]
    },
    {
     "name": "stderr",
     "output_type": "stream",
     "text": [
      "100%|██████████████████████████████████████████████████████████████████████████████████| 31/31 [10:10<00:00, 19.70s/it]\n"
     ]
    }
   ],
   "source": [
    "responses = productie.get_response_details_all(frabls_error, \"Raw_data_json/details_intermediate.json\")"
   ]
  },
  {
   "cell_type": "code",
   "execution_count": null,
   "metadata": {},
   "outputs": [],
   "source": []
  }
 ],
 "metadata": {
  "kernelspec": {
   "display_name": "Python 3",
   "language": "python",
   "name": "python3"
  },
  "language_info": {
   "codemirror_mode": {
    "name": "ipython",
    "version": 3
   },
   "file_extension": ".py",
   "mimetype": "text/x-python",
   "name": "python",
   "nbconvert_exporter": "python",
   "pygments_lexer": "ipython3",
   "version": "3.8.5"
  }
 },
 "nbformat": 4,
 "nbformat_minor": 4
}
