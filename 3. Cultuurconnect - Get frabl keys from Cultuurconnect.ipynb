{
 "cells": [
  {
   "cell_type": "markdown",
   "metadata": {},
   "source": [
    "# Step 1: Getting frabls from Cultuurconnect"
   ]
  },
  {
   "cell_type": "code",
   "execution_count": 1,
   "metadata": {},
   "outputs": [
    {
     "name": "stderr",
     "output_type": "stream",
     "text": [
      "C:\\Users\\EVandewalle\\Anaconda3\\lib\\site-packages\\fuzzywuzzy\\fuzz.py:11: UserWarning: Using slow pure-python SequenceMatcher. Install python-Levenshtein to remove this warning\n",
      "  warnings.warn('Using slow pure-python SequenceMatcher. Install python-Levenshtein to remove this warning')\n"
     ]
    }
   ],
   "source": [
    "import sqlite3\n",
    "import vabb\n",
    "import fos_classification\n",
    "import pandas as pd\n",
    "import time\n",
    "import requests\n",
    "import lxml.etree as ET\n",
    "import numpy as np\n",
    "import json\n",
    "import importlib"
   ]
  },
  {
   "cell_type": "markdown",
   "metadata": {},
   "source": [
    "Import the dataset all_books with isbns from all books in vabb, see 'cleaning-all books'"
   ]
  },
  {
   "cell_type": "code",
   "execution_count": 2,
   "metadata": {},
   "outputs": [],
   "source": [
    "all_books=pd.read_csv(\"data/all_books.csv\", index_col=0, dtype={\"isbn\":str}) "
   ]
  },
  {
   "cell_type": "markdown",
   "metadata": {},
   "source": [
    "Create a list with all isbns, but drop duplicates"
   ]
  },
  {
   "cell_type": "code",
   "execution_count": 3,
   "metadata": {},
   "outputs": [],
   "source": [
    "isbns = all_books[\"isbn\"].drop_duplicates()"
   ]
  },
  {
   "cell_type": "code",
   "execution_count": 4,
   "metadata": {},
   "outputs": [],
   "source": [
    "isbns = pd.DataFrame(isbns)\n",
    "isbns.set_index('isbn', inplace=True)\n",
    "isbns.reset_index(inplace=True)"
   ]
  },
  {
   "cell_type": "code",
   "execution_count": 5,
   "metadata": {},
   "outputs": [
    {
     "data": {
      "text/plain": [
       "(46642, 1)"
      ]
     },
     "execution_count": 5,
     "metadata": {},
     "output_type": "execute_result"
    }
   ],
   "source": [
    "isbns.shape"
   ]
  },
  {
   "cell_type": "markdown",
   "metadata": {},
   "source": [
    "The Cultuurconnect key:"
   ]
  },
  {
   "cell_type": "code",
   "execution_count": 7,
   "metadata": {},
   "outputs": [],
   "source": [
    "# authorization = ... #this is the key from Cultuurconnect"
   ]
  },
  {
   "cell_type": "markdown",
   "metadata": {},
   "source": [
    "### First, go from the list of isbns to a list of frabl keys"
   ]
  },
  {
   "cell_type": "code",
   "execution_count": 14,
   "metadata": {},
   "outputs": [],
   "source": [
    "import json\n",
    "import tqdm\n",
    "def get_response(isbns):\n",
    "    \"\"\"starts with a dataframe that has column 'isbn' with isbns and returns dataframe with responses from API\n",
    "    in a column 'response'\"\"\"\n",
    "    url_resolver = \"http://zbb.staging.aquabrowser.be/api/v1/resolver/isbn/\"\n",
    "    isbns_error=[]\n",
    "    with open('intermediate_data.json', 'r') as f:\n",
    "        data=json.load(f)\n",
    "    for i in tqdm.tqdm(isbns.isbn):\n",
    "        if i in data:\n",
    "            continue\n",
    "        param_dict_resolver = { \"id\": i, \"authorization\": authorization }\n",
    "        try:\n",
    "            r_resolver = requests.get(url_resolver, params = param_dict_resolver)\n",
    "            data[i] = ET.tostring(ET.fromstring(r_resolver.content),pretty_print=True,encoding=\"unicode\")\n",
    "            with open('intermediate_data.json', 'w+') as f:\n",
    "                json.dump(data, f)\n",
    "            time.sleep(3)\n",
    "        except Exception as e:\n",
    "            print(f'{e} for isbn {i}')\n",
    "            isbns_error.append(i)\n",
    "            time.sleep(60)\n",
    "    return data, isbns_error\n",
    "  "
   ]
  },
  {
   "cell_type": "code",
   "execution_count": 19,
   "metadata": {},
   "outputs": [],
   "source": [
    "get_response(isbns)"
   ]
  },
  {
   "cell_type": "code",
   "execution_count": 5,
   "metadata": {},
   "outputs": [],
   "source": [
    "with open('intermediate_data.json', 'r') as f:\n",
    "        result_so_far=json.load(f)"
   ]
  },
  {
   "cell_type": "code",
   "execution_count": 6,
   "metadata": {},
   "outputs": [],
   "source": [
    "df_intermediate=pd.DataFrame.from_dict(result_so_far, orient='index',columns=[\"xml_responses\"])"
   ]
  },
  {
   "cell_type": "code",
   "execution_count": 7,
   "metadata": {},
   "outputs": [],
   "source": [
    "df_intermediate.reset_index(inplace=True)"
   ]
  },
  {
   "cell_type": "code",
   "execution_count": 8,
   "metadata": {},
   "outputs": [],
   "source": [
    "df_intermediate.rename(columns={'index':'isbn'}, inplace=True)"
   ]
  },
  {
   "cell_type": "markdown",
   "metadata": {},
   "source": [
    "Saving the isbns with the xml strings in a csv file."
   ]
  },
  {
   "cell_type": "code",
   "execution_count": 9,
   "metadata": {},
   "outputs": [],
   "source": [
    "df_intermediate.to_csv(\"data/isbns_with_responses.csv\",sep=',')"
   ]
  },
  {
   "cell_type": "code",
   "execution_count": 10,
   "metadata": {},
   "outputs": [
    {
     "data": {
      "text/plain": [
       "(46642, 2)"
      ]
     },
     "execution_count": 10,
     "metadata": {},
     "output_type": "execute_result"
    }
   ],
   "source": [
    "df_intermediate.shape"
   ]
  },
  {
   "cell_type": "code",
   "execution_count": 11,
   "metadata": {},
   "outputs": [
    {
     "data": {
      "text/html": [
       "<div>\n",
       "<style scoped>\n",
       "    .dataframe tbody tr th:only-of-type {\n",
       "        vertical-align: middle;\n",
       "    }\n",
       "\n",
       "    .dataframe tbody tr th {\n",
       "        vertical-align: top;\n",
       "    }\n",
       "\n",
       "    .dataframe thead th {\n",
       "        text-align: right;\n",
       "    }\n",
       "</style>\n",
       "<table border=\"1\" class=\"dataframe\">\n",
       "  <thead>\n",
       "    <tr style=\"text-align: right;\">\n",
       "      <th></th>\n",
       "      <th>isbn</th>\n",
       "      <th>xml_responses</th>\n",
       "    </tr>\n",
       "  </thead>\n",
       "  <tbody>\n",
       "    <tr>\n",
       "      <th>0</th>\n",
       "      <td>9781850654551</td>\n",
       "      <td>&lt;aquabrowser version=\"1\" time-taken=\"1049\"&gt;\\n ...</td>\n",
       "    </tr>\n",
       "    <tr>\n",
       "      <th>1</th>\n",
       "      <td>9781405136143</td>\n",
       "      <td>&lt;aquabrowser version=\"1\" time-taken=\"825\"&gt;\\n  ...</td>\n",
       "    </tr>\n",
       "    <tr>\n",
       "      <th>2</th>\n",
       "      <td>9781405136150</td>\n",
       "      <td>&lt;aquabrowser version=\"1\" time-taken=\"1015\"&gt;\\n ...</td>\n",
       "    </tr>\n",
       "    <tr>\n",
       "      <th>3</th>\n",
       "      <td>9780415422888</td>\n",
       "      <td>&lt;aquabrowser version=\"1\" time-taken=\"944\"&gt;\\n  ...</td>\n",
       "    </tr>\n",
       "    <tr>\n",
       "      <th>4</th>\n",
       "      <td>9782747556927</td>\n",
       "      <td>&lt;aquabrowser version=\"1\" time-taken=\"950\"&gt;\\n  ...</td>\n",
       "    </tr>\n",
       "  </tbody>\n",
       "</table>\n",
       "</div>"
      ],
      "text/plain": [
       "            isbn                                      xml_responses\n",
       "0  9781850654551  <aquabrowser version=\"1\" time-taken=\"1049\">\\n ...\n",
       "1  9781405136143  <aquabrowser version=\"1\" time-taken=\"825\">\\n  ...\n",
       "2  9781405136150  <aquabrowser version=\"1\" time-taken=\"1015\">\\n ...\n",
       "3  9780415422888  <aquabrowser version=\"1\" time-taken=\"944\">\\n  ...\n",
       "4  9782747556927  <aquabrowser version=\"1\" time-taken=\"950\">\\n  ..."
      ]
     },
     "execution_count": 11,
     "metadata": {},
     "output_type": "execute_result"
    }
   ],
   "source": [
    "df_intermediate.head()"
   ]
  },
  {
   "cell_type": "code",
   "execution_count": 12,
   "metadata": {},
   "outputs": [],
   "source": [
    "isbns_frabls = pd.read_csv(\"data/isbns_with_responses.csv\", dtype={'isbn':'str'}, index_col=\"Unnamed: 0\")"
   ]
  },
  {
   "cell_type": "code",
   "execution_count": 13,
   "metadata": {},
   "outputs": [
    {
     "data": {
      "text/html": [
       "<div>\n",
       "<style scoped>\n",
       "    .dataframe tbody tr th:only-of-type {\n",
       "        vertical-align: middle;\n",
       "    }\n",
       "\n",
       "    .dataframe tbody tr th {\n",
       "        vertical-align: top;\n",
       "    }\n",
       "\n",
       "    .dataframe thead th {\n",
       "        text-align: right;\n",
       "    }\n",
       "</style>\n",
       "<table border=\"1\" class=\"dataframe\">\n",
       "  <thead>\n",
       "    <tr style=\"text-align: right;\">\n",
       "      <th></th>\n",
       "      <th>isbn</th>\n",
       "      <th>xml_responses</th>\n",
       "    </tr>\n",
       "  </thead>\n",
       "  <tbody>\n",
       "    <tr>\n",
       "      <th>0</th>\n",
       "      <td>9781850654551</td>\n",
       "      <td>&lt;aquabrowser version=\"1\" time-taken=\"1049\"&gt;\\n ...</td>\n",
       "    </tr>\n",
       "    <tr>\n",
       "      <th>1</th>\n",
       "      <td>9781405136143</td>\n",
       "      <td>&lt;aquabrowser version=\"1\" time-taken=\"825\"&gt;\\n  ...</td>\n",
       "    </tr>\n",
       "    <tr>\n",
       "      <th>2</th>\n",
       "      <td>9781405136150</td>\n",
       "      <td>&lt;aquabrowser version=\"1\" time-taken=\"1015\"&gt;\\n ...</td>\n",
       "    </tr>\n",
       "    <tr>\n",
       "      <th>3</th>\n",
       "      <td>9780415422888</td>\n",
       "      <td>&lt;aquabrowser version=\"1\" time-taken=\"944\"&gt;\\n  ...</td>\n",
       "    </tr>\n",
       "    <tr>\n",
       "      <th>4</th>\n",
       "      <td>9782747556927</td>\n",
       "      <td>&lt;aquabrowser version=\"1\" time-taken=\"950\"&gt;\\n  ...</td>\n",
       "    </tr>\n",
       "  </tbody>\n",
       "</table>\n",
       "</div>"
      ],
      "text/plain": [
       "            isbn                                      xml_responses\n",
       "0  9781850654551  <aquabrowser version=\"1\" time-taken=\"1049\">\\n ...\n",
       "1  9781405136143  <aquabrowser version=\"1\" time-taken=\"825\">\\n  ...\n",
       "2  9781405136150  <aquabrowser version=\"1\" time-taken=\"1015\">\\n ...\n",
       "3  9780415422888  <aquabrowser version=\"1\" time-taken=\"944\">\\n  ...\n",
       "4  9782747556927  <aquabrowser version=\"1\" time-taken=\"950\">\\n  ..."
      ]
     },
     "execution_count": 13,
     "metadata": {},
     "output_type": "execute_result"
    }
   ],
   "source": [
    "isbns_frabls.head()"
   ]
  },
  {
   "cell_type": "code",
   "execution_count": 14,
   "metadata": {},
   "outputs": [
    {
     "data": {
      "text/plain": [
       "(46642, 2)"
      ]
     },
     "execution_count": 14,
     "metadata": {},
     "output_type": "execute_result"
    }
   ],
   "source": [
    "isbns_frabls.shape"
   ]
  },
  {
   "cell_type": "markdown",
   "metadata": {},
   "source": [
    "Go from the xml strings to a useable xml object."
   ]
  },
  {
   "cell_type": "code",
   "execution_count": 15,
   "metadata": {},
   "outputs": [],
   "source": [
    "isbns_frabls[\"tree\"]=isbns_frabls.xml_responses.apply(lambda x:ET.ElementTree(ET.fromstring(x)))"
   ]
  },
  {
   "cell_type": "code",
   "execution_count": 16,
   "metadata": {},
   "outputs": [
    {
     "data": {
      "text/html": [
       "<div>\n",
       "<style scoped>\n",
       "    .dataframe tbody tr th:only-of-type {\n",
       "        vertical-align: middle;\n",
       "    }\n",
       "\n",
       "    .dataframe tbody tr th {\n",
       "        vertical-align: top;\n",
       "    }\n",
       "\n",
       "    .dataframe thead th {\n",
       "        text-align: right;\n",
       "    }\n",
       "</style>\n",
       "<table border=\"1\" class=\"dataframe\">\n",
       "  <thead>\n",
       "    <tr style=\"text-align: right;\">\n",
       "      <th></th>\n",
       "      <th>isbn</th>\n",
       "      <th>xml_responses</th>\n",
       "      <th>tree</th>\n",
       "    </tr>\n",
       "  </thead>\n",
       "  <tbody>\n",
       "    <tr>\n",
       "      <th>0</th>\n",
       "      <td>9781850654551</td>\n",
       "      <td>&lt;aquabrowser version=\"1\" time-taken=\"1049\"&gt;\\n ...</td>\n",
       "      <td>&lt;lxml.etree._ElementTree object at 0x0000014F1...</td>\n",
       "    </tr>\n",
       "    <tr>\n",
       "      <th>1</th>\n",
       "      <td>9781405136143</td>\n",
       "      <td>&lt;aquabrowser version=\"1\" time-taken=\"825\"&gt;\\n  ...</td>\n",
       "      <td>&lt;lxml.etree._ElementTree object at 0x0000014F1...</td>\n",
       "    </tr>\n",
       "    <tr>\n",
       "      <th>2</th>\n",
       "      <td>9781405136150</td>\n",
       "      <td>&lt;aquabrowser version=\"1\" time-taken=\"1015\"&gt;\\n ...</td>\n",
       "      <td>&lt;lxml.etree._ElementTree object at 0x0000014F1...</td>\n",
       "    </tr>\n",
       "    <tr>\n",
       "      <th>3</th>\n",
       "      <td>9780415422888</td>\n",
       "      <td>&lt;aquabrowser version=\"1\" time-taken=\"944\"&gt;\\n  ...</td>\n",
       "      <td>&lt;lxml.etree._ElementTree object at 0x0000014F1...</td>\n",
       "    </tr>\n",
       "    <tr>\n",
       "      <th>4</th>\n",
       "      <td>9782747556927</td>\n",
       "      <td>&lt;aquabrowser version=\"1\" time-taken=\"950\"&gt;\\n  ...</td>\n",
       "      <td>&lt;lxml.etree._ElementTree object at 0x0000014F1...</td>\n",
       "    </tr>\n",
       "  </tbody>\n",
       "</table>\n",
       "</div>"
      ],
      "text/plain": [
       "            isbn                                      xml_responses  \\\n",
       "0  9781850654551  <aquabrowser version=\"1\" time-taken=\"1049\">\\n ...   \n",
       "1  9781405136143  <aquabrowser version=\"1\" time-taken=\"825\">\\n  ...   \n",
       "2  9781405136150  <aquabrowser version=\"1\" time-taken=\"1015\">\\n ...   \n",
       "3  9780415422888  <aquabrowser version=\"1\" time-taken=\"944\">\\n  ...   \n",
       "4  9782747556927  <aquabrowser version=\"1\" time-taken=\"950\">\\n  ...   \n",
       "\n",
       "                                                tree  \n",
       "0  <lxml.etree._ElementTree object at 0x0000014F1...  \n",
       "1  <lxml.etree._ElementTree object at 0x0000014F1...  \n",
       "2  <lxml.etree._ElementTree object at 0x0000014F1...  \n",
       "3  <lxml.etree._ElementTree object at 0x0000014F1...  \n",
       "4  <lxml.etree._ElementTree object at 0x0000014F1...  "
      ]
     },
     "execution_count": 16,
     "metadata": {},
     "output_type": "execute_result"
    }
   ],
   "source": [
    "isbns_frabls.head()"
   ]
  },
  {
   "cell_type": "code",
   "execution_count": 17,
   "metadata": {},
   "outputs": [],
   "source": [
    "def get_frabl(tree):\n",
    "    frabl_list=[]\n",
    "    for tree in tree.iterfind(\"//itemid\"):\n",
    "        if 'frabl' in tree.attrib:\n",
    "            frabl_list.append(tree.attrib['frabl'])\n",
    "    return frabl_list"
   ]
  },
  {
   "cell_type": "markdown",
   "metadata": {},
   "source": [
    "Extract the frabl keys from the xml text and add them in a new column called 'frabls'"
   ]
  },
  {
   "cell_type": "code",
   "execution_count": 18,
   "metadata": {},
   "outputs": [],
   "source": [
    "isbns_frabls[\"frabls\"]=isbns_frabls[\"tree\"].apply(lambda x: get_frabl(x))"
   ]
  },
  {
   "cell_type": "code",
   "execution_count": 19,
   "metadata": {},
   "outputs": [],
   "source": [
    "isbns_frabls[\"frabls\"]=isbns_frabls[\"frabls\"].apply(lambda x: list(set(x))) #remove duplicate frabls if they occur"
   ]
  },
  {
   "cell_type": "code",
   "execution_count": 20,
   "metadata": {},
   "outputs": [],
   "source": [
    "isbns_frabls[\"frabls\"]=isbns_frabls[\"frabls\"].apply(lambda x: \";\".join(x) if isinstance(x,list) else x)"
   ]
  },
  {
   "cell_type": "markdown",
   "metadata": {},
   "source": [
    "Save the isbns, the xml responses and the frabls extracted from the xmls to a csv file."
   ]
  },
  {
   "cell_type": "code",
   "execution_count": 21,
   "metadata": {},
   "outputs": [],
   "source": [
    "isbns_frabls[[\"isbn\",\"xml_responses\",\"frabls\"]].to_csv(\"data/all_frabls.csv\", sep=\",\")"
   ]
  },
  {
   "cell_type": "code",
   "execution_count": 24,
   "metadata": {},
   "outputs": [],
   "source": [
    "frabls=pd.read_csv(\"data/all_frabls.csv\", dtype={'isbn':'str'}, index_col='Unnamed: 0')"
   ]
  },
  {
   "cell_type": "code",
   "execution_count": 25,
   "metadata": {},
   "outputs": [
    {
     "data": {
      "text/html": [
       "<div>\n",
       "<style scoped>\n",
       "    .dataframe tbody tr th:only-of-type {\n",
       "        vertical-align: middle;\n",
       "    }\n",
       "\n",
       "    .dataframe tbody tr th {\n",
       "        vertical-align: top;\n",
       "    }\n",
       "\n",
       "    .dataframe thead th {\n",
       "        text-align: right;\n",
       "    }\n",
       "</style>\n",
       "<table border=\"1\" class=\"dataframe\">\n",
       "  <thead>\n",
       "    <tr style=\"text-align: right;\">\n",
       "      <th></th>\n",
       "      <th>isbn</th>\n",
       "      <th>xml_responses</th>\n",
       "      <th>frabls</th>\n",
       "    </tr>\n",
       "  </thead>\n",
       "  <tbody>\n",
       "    <tr>\n",
       "      <th>0</th>\n",
       "      <td>9781850654551</td>\n",
       "      <td>&lt;aquabrowser version=\"1\" time-taken=\"1049\"&gt;\\n ...</td>\n",
       "      <td>NaN</td>\n",
       "    </tr>\n",
       "    <tr>\n",
       "      <th>1</th>\n",
       "      <td>9781405136143</td>\n",
       "      <td>&lt;aquabrowser version=\"1\" time-taken=\"825\"&gt;\\n  ...</td>\n",
       "      <td>NaN</td>\n",
       "    </tr>\n",
       "    <tr>\n",
       "      <th>2</th>\n",
       "      <td>9781405136150</td>\n",
       "      <td>&lt;aquabrowser version=\"1\" time-taken=\"1015\"&gt;\\n ...</td>\n",
       "      <td>NaN</td>\n",
       "    </tr>\n",
       "    <tr>\n",
       "      <th>3</th>\n",
       "      <td>9780415422888</td>\n",
       "      <td>&lt;aquabrowser version=\"1\" time-taken=\"944\"&gt;\\n  ...</td>\n",
       "      <td>NaN</td>\n",
       "    </tr>\n",
       "    <tr>\n",
       "      <th>4</th>\n",
       "      <td>9782747556927</td>\n",
       "      <td>&lt;aquabrowser version=\"1\" time-taken=\"950\"&gt;\\n  ...</td>\n",
       "      <td>NaN</td>\n",
       "    </tr>\n",
       "  </tbody>\n",
       "</table>\n",
       "</div>"
      ],
      "text/plain": [
       "            isbn                                      xml_responses frabls\n",
       "0  9781850654551  <aquabrowser version=\"1\" time-taken=\"1049\">\\n ...    NaN\n",
       "1  9781405136143  <aquabrowser version=\"1\" time-taken=\"825\">\\n  ...    NaN\n",
       "2  9781405136150  <aquabrowser version=\"1\" time-taken=\"1015\">\\n ...    NaN\n",
       "3  9780415422888  <aquabrowser version=\"1\" time-taken=\"944\">\\n  ...    NaN\n",
       "4  9782747556927  <aquabrowser version=\"1\" time-taken=\"950\">\\n  ...    NaN"
      ]
     },
     "execution_count": 25,
     "metadata": {},
     "output_type": "execute_result"
    }
   ],
   "source": [
    "frabls.head()"
   ]
  },
  {
   "cell_type": "code",
   "execution_count": 26,
   "metadata": {},
   "outputs": [
    {
     "data": {
      "text/html": [
       "<div>\n",
       "<style scoped>\n",
       "    .dataframe tbody tr th:only-of-type {\n",
       "        vertical-align: middle;\n",
       "    }\n",
       "\n",
       "    .dataframe tbody tr th {\n",
       "        vertical-align: top;\n",
       "    }\n",
       "\n",
       "    .dataframe thead th {\n",
       "        text-align: right;\n",
       "    }\n",
       "</style>\n",
       "<table border=\"1\" class=\"dataframe\">\n",
       "  <thead>\n",
       "    <tr style=\"text-align: right;\">\n",
       "      <th></th>\n",
       "      <th>isbn</th>\n",
       "      <th>xml_responses</th>\n",
       "      <th>frabls</th>\n",
       "    </tr>\n",
       "  </thead>\n",
       "  <tbody>\n",
       "    <tr>\n",
       "      <th>6</th>\n",
       "      <td>9789055445585</td>\n",
       "      <td>&lt;aquabrowser version=\"1\" time-taken=\"875\"&gt;\\n  ...</td>\n",
       "      <td>1B9BDF18AF1ACA0</td>\n",
       "    </tr>\n",
       "    <tr>\n",
       "      <th>13</th>\n",
       "      <td>9789030171836</td>\n",
       "      <td>&lt;aquabrowser version=\"1\" time-taken=\"520\"&gt;\\n  ...</td>\n",
       "      <td>1A0D8B40D9F1ACA0</td>\n",
       "    </tr>\n",
       "    <tr>\n",
       "      <th>14</th>\n",
       "      <td>9789030175308</td>\n",
       "      <td>&lt;aquabrowser version=\"1\" time-taken=\"459\"&gt;\\n  ...</td>\n",
       "      <td>3B24393C81F1ACA0</td>\n",
       "    </tr>\n",
       "    <tr>\n",
       "      <th>15</th>\n",
       "      <td>9789033446573</td>\n",
       "      <td>&lt;aquabrowser version=\"1\" time-taken=\"503\"&gt;\\n  ...</td>\n",
       "      <td>492B6CB854F1ACA0</td>\n",
       "    </tr>\n",
       "    <tr>\n",
       "      <th>25</th>\n",
       "      <td>9789062158126</td>\n",
       "      <td>&lt;aquabrowser version=\"1\" time-taken=\"381\"&gt;\\n  ...</td>\n",
       "      <td>337B1BCD3F1ACA0</td>\n",
       "    </tr>\n",
       "    <tr>\n",
       "      <th>...</th>\n",
       "      <td>...</td>\n",
       "      <td>...</td>\n",
       "      <td>...</td>\n",
       "    </tr>\n",
       "    <tr>\n",
       "      <th>46625</th>\n",
       "      <td>9789054666028</td>\n",
       "      <td>&lt;aquabrowser version=\"1\" time-taken=\"484\"&gt;\\n  ...</td>\n",
       "      <td>2E276BDA7DF1ACA0</td>\n",
       "    </tr>\n",
       "    <tr>\n",
       "      <th>46626</th>\n",
       "      <td>9789020963441</td>\n",
       "      <td>&lt;aquabrowser version=\"1\" time-taken=\"420\"&gt;\\n  ...</td>\n",
       "      <td>48B05643EBF1ACA0</td>\n",
       "    </tr>\n",
       "    <tr>\n",
       "      <th>46631</th>\n",
       "      <td>9789038204130</td>\n",
       "      <td>&lt;aquabrowser version=\"1\" time-taken=\"467\"&gt;\\n  ...</td>\n",
       "      <td>9AEAE6867F1ACA0</td>\n",
       "    </tr>\n",
       "    <tr>\n",
       "      <th>46633</th>\n",
       "      <td>9780627023460</td>\n",
       "      <td>&lt;aquabrowser version=\"1\" time-taken=\"421\"&gt;\\n  ...</td>\n",
       "      <td>1EC0E59EF9F1AC3A</td>\n",
       "    </tr>\n",
       "    <tr>\n",
       "      <th>46635</th>\n",
       "      <td>9789035126923</td>\n",
       "      <td>&lt;aquabrowser version=\"1\" time-taken=\"988\"&gt;\\n  ...</td>\n",
       "      <td>28FEB8213AF1ACA0;28FEB8213AF0B0A0</td>\n",
       "    </tr>\n",
       "  </tbody>\n",
       "</table>\n",
       "<p>9302 rows × 3 columns</p>\n",
       "</div>"
      ],
      "text/plain": [
       "                isbn                                      xml_responses  \\\n",
       "6      9789055445585  <aquabrowser version=\"1\" time-taken=\"875\">\\n  ...   \n",
       "13     9789030171836  <aquabrowser version=\"1\" time-taken=\"520\">\\n  ...   \n",
       "14     9789030175308  <aquabrowser version=\"1\" time-taken=\"459\">\\n  ...   \n",
       "15     9789033446573  <aquabrowser version=\"1\" time-taken=\"503\">\\n  ...   \n",
       "25     9789062158126  <aquabrowser version=\"1\" time-taken=\"381\">\\n  ...   \n",
       "...              ...                                                ...   \n",
       "46625  9789054666028  <aquabrowser version=\"1\" time-taken=\"484\">\\n  ...   \n",
       "46626  9789020963441  <aquabrowser version=\"1\" time-taken=\"420\">\\n  ...   \n",
       "46631  9789038204130  <aquabrowser version=\"1\" time-taken=\"467\">\\n  ...   \n",
       "46633  9780627023460  <aquabrowser version=\"1\" time-taken=\"421\">\\n  ...   \n",
       "46635  9789035126923  <aquabrowser version=\"1\" time-taken=\"988\">\\n  ...   \n",
       "\n",
       "                                  frabls  \n",
       "6                        1B9BDF18AF1ACA0  \n",
       "13                      1A0D8B40D9F1ACA0  \n",
       "14                      3B24393C81F1ACA0  \n",
       "15                      492B6CB854F1ACA0  \n",
       "25                       337B1BCD3F1ACA0  \n",
       "...                                  ...  \n",
       "46625                   2E276BDA7DF1ACA0  \n",
       "46626                   48B05643EBF1ACA0  \n",
       "46631                    9AEAE6867F1ACA0  \n",
       "46633                   1EC0E59EF9F1AC3A  \n",
       "46635  28FEB8213AF1ACA0;28FEB8213AF0B0A0  \n",
       "\n",
       "[9302 rows x 3 columns]"
      ]
     },
     "execution_count": 26,
     "metadata": {},
     "output_type": "execute_result"
    }
   ],
   "source": [
    "frabls[frabls[\"frabls\"].notna()]"
   ]
  }
 ],
 "metadata": {
  "kernelspec": {
   "display_name": "Python 3",
   "language": "python",
   "name": "python3"
  },
  "language_info": {
   "codemirror_mode": {
    "name": "ipython",
    "version": 3
   },
   "file_extension": ".py",
   "mimetype": "text/x-python",
   "name": "python",
   "nbconvert_exporter": "python",
   "pygments_lexer": "ipython3",
   "version": "3.8.5"
  }
 },
 "nbformat": 4,
 "nbformat_minor": 4
}
