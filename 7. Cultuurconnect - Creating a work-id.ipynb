{
 "cells": [
  {
   "cell_type": "code",
   "execution_count": 151,
   "metadata": {},
   "outputs": [],
   "source": [
    "import pandas as pd"
   ]
  },
  {
   "cell_type": "markdown",
   "metadata": {},
   "source": [
    "# Creating a work-id"
   ]
  },
  {
   "cell_type": "markdown",
   "metadata": {},
   "source": [
    "## Import data"
   ]
  },
  {
   "cell_type": "code",
   "execution_count": 153,
   "metadata": {},
   "outputs": [
    {
     "data": {
      "text/plain": [
       "(46642, 2)"
      ]
     },
     "execution_count": 153,
     "metadata": {},
     "output_type": "execute_result"
    }
   ],
   "source": [
    "# these are all FRABL keys gathered through the API search of the Cultuurconnect database.\n",
    "all_frabls = pd.read_csv(\"cleaning/data/all_frabls.csv\", index_col=0, dtype={\"isbn\":\"str\"})\n",
    "\n",
    "all_frabls.shape"
   ]
  },
  {
   "cell_type": "code",
   "execution_count": 154,
   "metadata": {},
   "outputs": [
    {
     "data": {
      "text/plain": [
       "(8376, 2)"
      ]
     },
     "execution_count": 154,
     "metadata": {},
     "output_type": "execute_result"
    }
   ],
   "source": [
    "# availability information to filter out FRABL keys that represent no holdings\n",
    "holdings = pd.read_csv(\"cleaning/data/cultuurconnect_holding_information.csv\", index_col=0, dtype={'isbn':str})\n",
    "\n",
    "holdings = holdings.query(\"library_count > 0\").filter(items=[\"frabl\",\"library_count\"])\n",
    "\n",
    "holdings.shape"
   ]
  },
  {
   "cell_type": "code",
   "execution_count": 155,
   "metadata": {},
   "outputs": [
    {
     "data": {
      "text/plain": [
       "(56, 1)"
      ]
     },
     "execution_count": 155,
     "metadata": {},
     "output_type": "execute_result"
    }
   ],
   "source": [
    "# A title check yielded 56 irregular titles\n",
    "irregular_titles = pd.read_csv(\"data/irregularities/title_check.csv\", dtype={\"isbn\":\"str\"})\n",
    "irregular_titles.shape"
   ]
  },
  {
   "cell_type": "code",
   "execution_count": 156,
   "metadata": {},
   "outputs": [
    {
     "data": {
      "text/plain": [
       "(48, 8)"
      ]
     },
     "execution_count": 156,
     "metadata": {},
     "output_type": "execute_result"
    }
   ],
   "source": [
    "# A matching of similar titles yielded 47 titles that should be grouped together\n",
    "title_matches = pd.read_csv(\"data validation/data/manual_matches.csv\", \n",
    "                            index_col=0, dtype={\"isbn\":str, \"work_id\":str, \"index_number\":str})\n",
    "title_matches.shape"
   ]
  },
  {
   "cell_type": "markdown",
   "metadata": {},
   "source": [
    "# Create work-id"
   ]
  },
  {
   "cell_type": "code",
   "execution_count": 157,
   "metadata": {},
   "outputs": [],
   "source": [
    "df = all_frabls.dropna().copy()"
   ]
  },
  {
   "cell_type": "code",
   "execution_count": 158,
   "metadata": {},
   "outputs": [],
   "source": [
    "df[\"work_id\"] = None"
   ]
  },
  {
   "cell_type": "code",
   "execution_count": 159,
   "metadata": {},
   "outputs": [],
   "source": [
    "works_by_isbn = {}\n",
    "works_by_frabl = {}\n",
    "last_work_id = 1\n",
    "\n",
    "for index, row in df.iterrows():\n",
    "    work_ID = None\n",
    "    frabls = row['frabl'].split(';')\n",
    "    \n",
    "    if row['isbn'] in works_by_isbn:\n",
    "        work_ID = works_by_isbn[row['isbn']]\n",
    "        \n",
    "    for frabl in frabls:\n",
    "        if frabl in works_by_frabl:\n",
    "            work_ID = works_by_frabl[frabl]\n",
    "            break\n",
    "    \n",
    "    if not work_ID:\n",
    "        work_ID = last_work_id\n",
    "        last_work_id += 1\n",
    "        \n",
    "    if not row['isbn'] in works_by_isbn:\n",
    "        works_by_isbn[row['isbn']] = work_ID\n",
    "        \n",
    "    for frabl in frabls:\n",
    "        if not frabl in works_by_frabl:\n",
    "            works_by_frabl[frabl] = work_ID\n",
    "            \n",
    "    row[\"work_id\"] = work_ID"
   ]
  },
  {
   "cell_type": "code",
   "execution_count": 10,
   "metadata": {},
   "outputs": [],
   "source": [
    "df.to_csv(\"cleaning/data/work_id_isbn_20221216.csv\")"
   ]
  },
  {
   "cell_type": "code",
   "execution_count": 11,
   "metadata": {},
   "outputs": [],
   "source": [
    "df_grouped = df.groupby(\"work_id\").agg({'frabl':lambda x: \";\".join(x),\n",
    "                            'isbn': lambda x: \";\".join(x)})"
   ]
  },
  {
   "cell_type": "code",
   "execution_count": 12,
   "metadata": {},
   "outputs": [],
   "source": [
    "df_grouped.to_csv(\"cleaning/data/work_id_20221216.csv\")"
   ]
  },
  {
   "cell_type": "markdown",
   "metadata": {},
   "source": [
    "## Group the title matches"
   ]
  },
  {
   "cell_type": "code",
   "execution_count": 160,
   "metadata": {},
   "outputs": [],
   "source": [
    "work_id = pd.read_csv(\"cleaning/data/work_id_20221216.csv\", index_col=1, dtype={\"work_id\":str})"
   ]
  },
  {
   "cell_type": "code",
   "execution_count": 161,
   "metadata": {},
   "outputs": [],
   "source": [
    "title_matches_grouped = (title_matches\n",
    "                         .filter([\"isbn\",\"match\",\"work_id\"])\n",
    "                         .groupby([\"match\"])\n",
    "                         .agg(lambda x: \";\".join(x)))"
   ]
  },
  {
   "cell_type": "code",
   "execution_count": 162,
   "metadata": {},
   "outputs": [],
   "source": [
    "title_matches_grouped[\"new_work_id\"] = [i + 9000 for i in range(len(title_matches_grouped))]"
   ]
  },
  {
   "cell_type": "code",
   "execution_count": 163,
   "metadata": {},
   "outputs": [],
   "source": [
    "new_work_id = (title_matches_grouped\n",
    "               .filter([\"work_id\",\"new_work_id\"])\n",
    "               .assign(new_work_id=title_matches_grouped.new_work_id.astype(str))\n",
    "               .assign(work_id=title_matches_grouped.work_id.str.split(\";\"))\n",
    "               .explode(\"work_id\")\n",
    "               )"
   ]
  },
  {
   "cell_type": "code",
   "execution_count": 164,
   "metadata": {},
   "outputs": [],
   "source": [
    "work_id.reset_index(inplace=True)"
   ]
  },
  {
   "cell_type": "code",
   "execution_count": 165,
   "metadata": {},
   "outputs": [],
   "source": [
    "work_id_merged = work_id.merge(new_work_id, how=\"left\", on=\"work_id\").fillna(\"\")"
   ]
  },
  {
   "cell_type": "code",
   "execution_count": 166,
   "metadata": {},
   "outputs": [
    {
     "data": {
      "text/html": [
       "<div>\n",
       "<style scoped>\n",
       "    .dataframe tbody tr th:only-of-type {\n",
       "        vertical-align: middle;\n",
       "    }\n",
       "\n",
       "    .dataframe tbody tr th {\n",
       "        vertical-align: top;\n",
       "    }\n",
       "\n",
       "    .dataframe thead th {\n",
       "        text-align: right;\n",
       "    }\n",
       "</style>\n",
       "<table border=\"1\" class=\"dataframe\">\n",
       "  <thead>\n",
       "    <tr style=\"text-align: right;\">\n",
       "      <th></th>\n",
       "      <th>frabl</th>\n",
       "      <th>work_id</th>\n",
       "      <th>isbn</th>\n",
       "      <th>new_work_id</th>\n",
       "    </tr>\n",
       "  </thead>\n",
       "  <tbody>\n",
       "    <tr>\n",
       "      <th>0</th>\n",
       "      <td>1B9BDF18AF1ACA0</td>\n",
       "      <td>1</td>\n",
       "      <td>9789055445585</td>\n",
       "      <td></td>\n",
       "    </tr>\n",
       "    <tr>\n",
       "      <th>1</th>\n",
       "      <td>1A0D8B40D9F1ACA0</td>\n",
       "      <td>2</td>\n",
       "      <td>9789030171836</td>\n",
       "      <td></td>\n",
       "    </tr>\n",
       "    <tr>\n",
       "      <th>2</th>\n",
       "      <td>3B24393C81F1ACA0</td>\n",
       "      <td>3</td>\n",
       "      <td>9789030175308</td>\n",
       "      <td></td>\n",
       "    </tr>\n",
       "    <tr>\n",
       "      <th>3</th>\n",
       "      <td>492B6CB854F1ACA0</td>\n",
       "      <td>4</td>\n",
       "      <td>9789033446573</td>\n",
       "      <td></td>\n",
       "    </tr>\n",
       "    <tr>\n",
       "      <th>4</th>\n",
       "      <td>337B1BCD3F1ACA0</td>\n",
       "      <td>5</td>\n",
       "      <td>9789062158126</td>\n",
       "      <td></td>\n",
       "    </tr>\n",
       "    <tr>\n",
       "      <th>...</th>\n",
       "      <td>...</td>\n",
       "      <td>...</td>\n",
       "      <td>...</td>\n",
       "      <td>...</td>\n",
       "    </tr>\n",
       "    <tr>\n",
       "      <th>8701</th>\n",
       "      <td>2E276BDA7DF1ACA0</td>\n",
       "      <td>8702</td>\n",
       "      <td>9789054666028</td>\n",
       "      <td></td>\n",
       "    </tr>\n",
       "    <tr>\n",
       "      <th>8702</th>\n",
       "      <td>48B05643EBF1ACA0</td>\n",
       "      <td>8703</td>\n",
       "      <td>9789020963441</td>\n",
       "      <td></td>\n",
       "    </tr>\n",
       "    <tr>\n",
       "      <th>8703</th>\n",
       "      <td>9AEAE6867F1ACA0</td>\n",
       "      <td>8704</td>\n",
       "      <td>9789038204130</td>\n",
       "      <td></td>\n",
       "    </tr>\n",
       "    <tr>\n",
       "      <th>8704</th>\n",
       "      <td>1EC0E59EF9F1AC3A</td>\n",
       "      <td>8705</td>\n",
       "      <td>9780627023460</td>\n",
       "      <td></td>\n",
       "    </tr>\n",
       "    <tr>\n",
       "      <th>8705</th>\n",
       "      <td>28FEB8213AF1ACA0;28FEB8213AF0B0A0</td>\n",
       "      <td>8706</td>\n",
       "      <td>9789035126923</td>\n",
       "      <td></td>\n",
       "    </tr>\n",
       "  </tbody>\n",
       "</table>\n",
       "<p>8706 rows × 4 columns</p>\n",
       "</div>"
      ],
      "text/plain": [
       "                                  frabl work_id           isbn new_work_id\n",
       "0                       1B9BDF18AF1ACA0       1  9789055445585            \n",
       "1                      1A0D8B40D9F1ACA0       2  9789030171836            \n",
       "2                      3B24393C81F1ACA0       3  9789030175308            \n",
       "3                      492B6CB854F1ACA0       4  9789033446573            \n",
       "4                       337B1BCD3F1ACA0       5  9789062158126            \n",
       "...                                 ...     ...            ...         ...\n",
       "8701                   2E276BDA7DF1ACA0    8702  9789054666028            \n",
       "8702                   48B05643EBF1ACA0    8703  9789020963441            \n",
       "8703                    9AEAE6867F1ACA0    8704  9789038204130            \n",
       "8704                   1EC0E59EF9F1AC3A    8705  9780627023460            \n",
       "8705  28FEB8213AF1ACA0;28FEB8213AF0B0A0    8706  9789035126923            \n",
       "\n",
       "[8706 rows x 4 columns]"
      ]
     },
     "execution_count": 166,
     "metadata": {},
     "output_type": "execute_result"
    }
   ],
   "source": [
    "work_id_merged"
   ]
  },
  {
   "cell_type": "code",
   "execution_count": 167,
   "metadata": {},
   "outputs": [],
   "source": [
    "for i in range(len(work_id_merged)):\n",
    "    if work_id_merged.new_work_id.iloc[i] != \"\":\n",
    "        work_id_merged.work_id.iloc[i] = work_id_merged.new_work_id.iloc[i]"
   ]
  },
  {
   "cell_type": "code",
   "execution_count": 168,
   "metadata": {},
   "outputs": [
    {
     "data": {
      "text/html": [
       "<div>\n",
       "<style scoped>\n",
       "    .dataframe tbody tr th:only-of-type {\n",
       "        vertical-align: middle;\n",
       "    }\n",
       "\n",
       "    .dataframe tbody tr th {\n",
       "        vertical-align: top;\n",
       "    }\n",
       "\n",
       "    .dataframe thead th {\n",
       "        text-align: right;\n",
       "    }\n",
       "</style>\n",
       "<table border=\"1\" class=\"dataframe\">\n",
       "  <thead>\n",
       "    <tr style=\"text-align: right;\">\n",
       "      <th></th>\n",
       "      <th>frabl</th>\n",
       "      <th>work_id</th>\n",
       "      <th>isbn</th>\n",
       "      <th>new_work_id</th>\n",
       "    </tr>\n",
       "  </thead>\n",
       "  <tbody>\n",
       "    <tr>\n",
       "      <th>877</th>\n",
       "      <td>6A6328F4EDF1ACA0</td>\n",
       "      <td>9000</td>\n",
       "      <td>9789021453385</td>\n",
       "      <td>9000</td>\n",
       "    </tr>\n",
       "    <tr>\n",
       "      <th>1303</th>\n",
       "      <td>655B209712F1ACA0</td>\n",
       "      <td>9000</td>\n",
       "      <td>9789029563895</td>\n",
       "      <td>9000</td>\n",
       "    </tr>\n",
       "    <tr>\n",
       "      <th>1480</th>\n",
       "      <td>13D6C89FDCF1ACA0</td>\n",
       "      <td>9011</td>\n",
       "      <td>9782804428341</td>\n",
       "      <td>9011</td>\n",
       "    </tr>\n",
       "  </tbody>\n",
       "</table>\n",
       "</div>"
      ],
      "text/plain": [
       "                 frabl work_id           isbn new_work_id\n",
       "877   6A6328F4EDF1ACA0    9000  9789021453385        9000\n",
       "1303  655B209712F1ACA0    9000  9789029563895        9000\n",
       "1480  13D6C89FDCF1ACA0    9011  9782804428341        9011"
      ]
     },
     "execution_count": 168,
     "metadata": {},
     "output_type": "execute_result"
    }
   ],
   "source": [
    "work_id_merged[work_id_merged.new_work_id != \"\"].head(3)"
   ]
  },
  {
   "cell_type": "code",
   "execution_count": 169,
   "metadata": {},
   "outputs": [],
   "source": [
    "work_id_merged = (work_id_merged\n",
    "                  .filter([\"work_id\",\"isbn\",\"frabl\"])\n",
    "                  .groupby(\"work_id\")\n",
    "                  .agg(lambda x: \";\".join(x))\n",
    "                  .reset_index())"
   ]
  },
  {
   "cell_type": "code",
   "execution_count": 170,
   "metadata": {},
   "outputs": [
    {
     "data": {
      "text/plain": [
       "(8680, 3)"
      ]
     },
     "execution_count": 170,
     "metadata": {},
     "output_type": "execute_result"
    }
   ],
   "source": [
    "work_id_merged.shape"
   ]
  },
  {
   "cell_type": "markdown",
   "metadata": {},
   "source": [
    "## Get out irregular titles"
   ]
  },
  {
   "cell_type": "code",
   "execution_count": null,
   "metadata": {},
   "outputs": [],
   "source": [
    "# what is the difference with the following??? \n",
    "# it goes further while IGNORING the grouping --> to fix "
   ]
  },
  {
   "cell_type": "code",
   "execution_count": 171,
   "metadata": {},
   "outputs": [],
   "source": [
    "work_id_irr = work_id_merged.copy()"
   ]
  },
  {
   "cell_type": "code",
   "execution_count": 172,
   "metadata": {},
   "outputs": [],
   "source": [
    "work_id_irr = (work_id_irr\n",
    "               .assign(isbn = work_id_irr.isbn.str.split(\";\"))\n",
    "               .explode(\"isbn\")\n",
    "               .query(\"isbn not in @irregular_titles.isbn\")\n",
    "               .groupby(\"work_id\")\n",
    "               .agg(lambda x: list(set(\";\".join(x).split(\";\"))))\n",
    "               )\n",
    "\n",
    "work_id_irr = (work_id_irr\n",
    "               .assign(isbn = work_id_irr.isbn.apply(lambda x: \";\".join(x)))\n",
    "              .assign(frabl = work_id_irr.frabl.apply(lambda x: \";\".join(x))))\n"
   ]
  },
  {
   "cell_type": "code",
   "execution_count": 173,
   "metadata": {},
   "outputs": [
    {
     "data": {
      "text/html": [
       "<div>\n",
       "<style scoped>\n",
       "    .dataframe tbody tr th:only-of-type {\n",
       "        vertical-align: middle;\n",
       "    }\n",
       "\n",
       "    .dataframe tbody tr th {\n",
       "        vertical-align: top;\n",
       "    }\n",
       "\n",
       "    .dataframe thead th {\n",
       "        text-align: right;\n",
       "    }\n",
       "</style>\n",
       "<table border=\"1\" class=\"dataframe\">\n",
       "  <thead>\n",
       "    <tr style=\"text-align: right;\">\n",
       "      <th></th>\n",
       "      <th>isbn</th>\n",
       "      <th>frabl</th>\n",
       "    </tr>\n",
       "    <tr>\n",
       "      <th>work_id</th>\n",
       "      <th></th>\n",
       "      <th></th>\n",
       "    </tr>\n",
       "  </thead>\n",
       "  <tbody>\n",
       "    <tr>\n",
       "      <th>1</th>\n",
       "      <td>9789055445585</td>\n",
       "      <td>1B9BDF18AF1ACA0</td>\n",
       "    </tr>\n",
       "    <tr>\n",
       "      <th>10</th>\n",
       "      <td>9782804414054;9782804414450;9782804430597</td>\n",
       "      <td>61EF4E53C9F1ACA0</td>\n",
       "    </tr>\n",
       "    <tr>\n",
       "      <th>100</th>\n",
       "      <td>9789085060499</td>\n",
       "      <td>355738819AF0C0A0;355738819AF1ACA0</td>\n",
       "    </tr>\n",
       "    <tr>\n",
       "      <th>1000</th>\n",
       "      <td>9789044115390</td>\n",
       "      <td>5B8A7026E3F1AC31</td>\n",
       "    </tr>\n",
       "    <tr>\n",
       "      <th>1001</th>\n",
       "      <td>9789076704722</td>\n",
       "      <td>37E7373D40F1ACA0</td>\n",
       "    </tr>\n",
       "    <tr>\n",
       "      <th>...</th>\n",
       "      <td>...</td>\n",
       "      <td>...</td>\n",
       "    </tr>\n",
       "    <tr>\n",
       "      <th>995</th>\n",
       "      <td>9789029073233</td>\n",
       "      <td>39DD244F85F1ACA0</td>\n",
       "    </tr>\n",
       "    <tr>\n",
       "      <th>996</th>\n",
       "      <td>9789038206349</td>\n",
       "      <td>B07B1BD27F1ACA0</td>\n",
       "    </tr>\n",
       "    <tr>\n",
       "      <th>997</th>\n",
       "      <td>9789045549453;9789045536477;9789045508283</td>\n",
       "      <td>1515FBA2BCF1ACA0</td>\n",
       "    </tr>\n",
       "    <tr>\n",
       "      <th>998</th>\n",
       "      <td>9789033455407</td>\n",
       "      <td>56F0277FA9F1ACA0</td>\n",
       "    </tr>\n",
       "    <tr>\n",
       "      <th>999</th>\n",
       "      <td>9789059581708</td>\n",
       "      <td>31EA8D5A0FF1ACA0</td>\n",
       "    </tr>\n",
       "  </tbody>\n",
       "</table>\n",
       "<p>8629 rows × 2 columns</p>\n",
       "</div>"
      ],
      "text/plain": [
       "                                              isbn  \\\n",
       "work_id                                              \n",
       "1                                    9789055445585   \n",
       "10       9782804414054;9782804414450;9782804430597   \n",
       "100                                  9789085060499   \n",
       "1000                                 9789044115390   \n",
       "1001                                 9789076704722   \n",
       "...                                            ...   \n",
       "995                                  9789029073233   \n",
       "996                                  9789038206349   \n",
       "997      9789045549453;9789045536477;9789045508283   \n",
       "998                                  9789033455407   \n",
       "999                                  9789059581708   \n",
       "\n",
       "                                     frabl  \n",
       "work_id                                     \n",
       "1                          1B9BDF18AF1ACA0  \n",
       "10                        61EF4E53C9F1ACA0  \n",
       "100      355738819AF0C0A0;355738819AF1ACA0  \n",
       "1000                      5B8A7026E3F1AC31  \n",
       "1001                      37E7373D40F1ACA0  \n",
       "...                                    ...  \n",
       "995                       39DD244F85F1ACA0  \n",
       "996                        B07B1BD27F1ACA0  \n",
       "997                       1515FBA2BCF1ACA0  \n",
       "998                       56F0277FA9F1ACA0  \n",
       "999                       31EA8D5A0FF1ACA0  \n",
       "\n",
       "[8629 rows x 2 columns]"
      ]
     },
     "execution_count": 173,
     "metadata": {},
     "output_type": "execute_result"
    }
   ],
   "source": [
    "work_id_irr"
   ]
  },
  {
   "cell_type": "markdown",
   "metadata": {},
   "source": [
    "## Select only the FRABLS that have a holding"
   ]
  },
  {
   "cell_type": "code",
   "execution_count": 174,
   "metadata": {},
   "outputs": [
    {
     "data": {
      "text/plain": [
       "(8962, 2)"
      ]
     },
     "execution_count": 174,
     "metadata": {},
     "output_type": "execute_result"
    }
   ],
   "source": [
    "# selecting the FRABL keys that have a holding in Cultuurconnect (meaning that they are held in at least one library)\n",
    "frabls = all_frabls[all_frabls.frabl.notna()]\n",
    "frabls = (frabls.assign(frabl = frabls.frabl.str.split(\";\"))\n",
    "          .explode(\"frabl\"))\n",
    "          \n",
    "frabls_with_holding = frabls.query(\"frabl in @holdings.frabl\")\n",
    "frabls_with_holding.shape"
   ]
  },
  {
   "cell_type": "code",
   "execution_count": 175,
   "metadata": {},
   "outputs": [
    {
     "data": {
      "text/plain": [
       "586"
      ]
     },
     "execution_count": 175,
     "metadata": {},
     "output_type": "execute_result"
    }
   ],
   "source": [
    "# Quite a few of those FRABLs appear more than once\n",
    "frabls_with_holding[frabls_with_holding.frabl.duplicated()].shape[0]"
   ]
  },
  {
   "cell_type": "code",
   "execution_count": 176,
   "metadata": {},
   "outputs": [
    {
     "data": {
      "text/plain": [
       "287"
      ]
     },
     "execution_count": 176,
     "metadata": {},
     "output_type": "execute_result"
    }
   ],
   "source": [
    "# Also the ISBN keys appear more than once\n",
    "frabls_with_holding[frabls_with_holding.isbn.duplicated()].shape[0]"
   ]
  },
  {
   "cell_type": "code",
   "execution_count": 177,
   "metadata": {},
   "outputs": [],
   "source": [
    "# change work_id_irr so it can be used to take out the frabls without holding. \n",
    "# maybe better to literally use the sum of holdings? because a work_id may be linked to more than one FRABL, \n",
    "# and one of these may have a holding wile the others do not."
   ]
  },
  {
   "cell_type": "code",
   "execution_count": 178,
   "metadata": {},
   "outputs": [
    {
     "data": {
      "text/plain": [
       "(8629, 2)"
      ]
     },
     "execution_count": 178,
     "metadata": {},
     "output_type": "execute_result"
    }
   ],
   "source": [
    "work_id2 =work_id_irr.copy()\n",
    "work_id2.shape"
   ]
  },
  {
   "cell_type": "code",
   "execution_count": 179,
   "metadata": {},
   "outputs": [
    {
     "data": {
      "text/plain": [
       "(9249, 2)"
      ]
     },
     "execution_count": 179,
     "metadata": {},
     "output_type": "execute_result"
    }
   ],
   "source": [
    "# split frabl and explode on frabl\n",
    "work_id2 = (work_id2.assign(frabl = work_id2.frabl.str.split(\";\"))\n",
    "            .explode(\"frabl\"))\n",
    "work_id2.shape"
   ]
  },
  {
   "cell_type": "code",
   "execution_count": 180,
   "metadata": {},
   "outputs": [],
   "source": [
    "work_id2.reset_index(inplace=True)"
   ]
  },
  {
   "cell_type": "code",
   "execution_count": 184,
   "metadata": {},
   "outputs": [],
   "source": [
    "# merge with holding\n",
    "works_holdings = work_id2.merge(holdings, on=\"frabl\", how=\"left\")"
   ]
  },
  {
   "cell_type": "code",
   "execution_count": 186,
   "metadata": {},
   "outputs": [],
   "source": [
    "# calculate holding per work_id\n",
    "works_holdings = (works_holdings\n",
    "                  .groupby(\"work_id\")\n",
    "                  .agg({\"library_count\": lambda x: sum(x),\n",
    "                       \"frabl\": lambda x: \";\".join(x),\n",
    "                       \"isbn\": lambda x: \";\".join(x)})\n",
    "                  .reset_index())"
   ]
  },
  {
   "cell_type": "code",
   "execution_count": 187,
   "metadata": {},
   "outputs": [],
   "source": [
    "works_holdings = works_holdings.assign(library_count = works_holdings.library_count.fillna(0))"
   ]
  },
  {
   "cell_type": "code",
   "execution_count": 188,
   "metadata": {},
   "outputs": [],
   "source": [
    "# remove work_id without any holdings\n",
    "works_holdings = works_holdings[works_holdings.library_count > 0]"
   ]
  },
  {
   "cell_type": "code",
   "execution_count": 189,
   "metadata": {},
   "outputs": [],
   "source": [
    "# remove library count column\n",
    "works_holdings.drop(columns=\"library_count\", inplace=True)"
   ]
  },
  {
   "cell_type": "code",
   "execution_count": 191,
   "metadata": {},
   "outputs": [],
   "source": [
    "# export the new work_id\n",
    "works_holdings.to_csv(\"cleaning/data/work_id_20221219.csv\")"
   ]
  }
 ],
 "metadata": {
  "kernelspec": {
   "display_name": "Python 3",
   "language": "python",
   "name": "python3"
  },
  "language_info": {
   "codemirror_mode": {
    "name": "ipython",
    "version": 3
   },
   "file_extension": ".py",
   "mimetype": "text/x-python",
   "name": "python",
   "nbconvert_exporter": "python",
   "pygments_lexer": "ipython3",
   "version": "3.8.5"
  }
 },
 "nbformat": 4,
 "nbformat_minor": 4
}
