{
 "cells": [
  {
   "cell_type": "code",
   "execution_count": 1,
   "metadata": {},
   "outputs": [],
   "source": [
    "import pandas as pd\n",
    "import os"
   ]
  },
  {
   "cell_type": "code",
   "execution_count": 2,
   "metadata": {},
   "outputs": [],
   "source": [
    "os.chdir(\"C:\\\\Users\\\\EVandewalle\\\\Documents\\\\Libcitations_2\")"
   ]
  },
  {
   "cell_type": "code",
   "execution_count": 3,
   "metadata": {},
   "outputs": [],
   "source": [
    "import fos_classification\n",
    "import vabb"
   ]
  },
  {
   "cell_type": "markdown",
   "metadata": {},
   "source": [
    "## Import data"
   ]
  },
  {
   "cell_type": "markdown",
   "metadata": {},
   "source": [
    "VABB"
   ]
  },
  {
   "cell_type": "code",
   "execution_count": 90,
   "metadata": {},
   "outputs": [],
   "source": [
    "# VABB dataset used in the project (=VABB 11)\n",
    "VABB = pd.read_csv(\"data/cleaning/VABB_books_isbn_level.csv\", dtype={\"isbn\":\"str\"})"
   ]
  },
  {
   "cell_type": "code",
   "execution_count": 5,
   "metadata": {},
   "outputs": [],
   "source": [
    "# isbn and cloi information for all VABB books\n",
    "books = pd.read_csv(\"data/original_data/all_books.csv\", index_col=0, dtype={'isbn':'str'})"
   ]
  },
  {
   "cell_type": "code",
   "execution_count": 6,
   "metadata": {},
   "outputs": [],
   "source": [
    "# VABB cognitive classification from the vabb package. This is the classification on cloi-level (the identifier used in VABB)\n",
    "cog_class = vabb.load_data(\"11-fos-classification\")"
   ]
  },
  {
   "cell_type": "markdown",
   "metadata": {},
   "source": [
    "OCLC"
   ]
  },
  {
   "cell_type": "code",
   "execution_count": 7,
   "metadata": {},
   "outputs": [],
   "source": [
    "# original data from OCLC\n",
    "OCLC = pd.read_csv(\"data/original_data/isxn_subjects.csv\")"
   ]
  },
  {
   "cell_type": "code",
   "execution_count": 8,
   "metadata": {},
   "outputs": [],
   "source": [
    "# original data subjects from OCLC\n",
    "subjects = pd.read_csv(\"data/original_data/subjects.csv\")"
   ]
  },
  {
   "cell_type": "code",
   "execution_count": 9,
   "metadata": {},
   "outputs": [],
   "source": [
    "# manual mapping adapted by myself for OCLC\n",
    "DDC = pd.read_excel(\"data/mappings_classification/DDC_FOS_EV.xlsx\", dtype={\"fos_code\":\"str\"})"
   ]
  },
  {
   "cell_type": "code",
   "execution_count": 10,
   "metadata": {},
   "outputs": [],
   "source": [
    "# manual mapping adapted by myself for OCLC\n",
    "LCC = pd.read_excel(\"data/mappings_classification/classification_check/LCC_FOS.xlsx\", dtype={\"fos_code\":\"str\"})"
   ]
  },
  {
   "cell_type": "markdown",
   "metadata": {},
   "source": [
    "SISO"
   ]
  },
  {
   "cell_type": "code",
   "execution_count": 11,
   "metadata": {},
   "outputs": [],
   "source": [
    "# original data from Cultuurconnect mapped by me to FOS\n",
    "SISO = pd.read_csv(\"data/mappings_classification/siso_mapped.csv\", index_col=0, dtype={'isbn':'str'})"
   ]
  },
  {
   "cell_type": "markdown",
   "metadata": {},
   "source": [
    "## Cleaning\n",
    "### Change cognitive classification VABB to ISBN level"
   ]
  },
  {
   "cell_type": "code",
   "execution_count": 101,
   "metadata": {},
   "outputs": [],
   "source": [
    "books.fillna(\"\", inplace=True)"
   ]
  },
  {
   "cell_type": "code",
   "execution_count": 159,
   "metadata": {},
   "outputs": [],
   "source": [
    "VABB_class = fos_classification.merge_classification_isbn(books, cog_class)"
   ]
  },
  {
   "cell_type": "code",
   "execution_count": 160,
   "metadata": {},
   "outputs": [],
   "source": [
    "VABB_class = VABB_class.rename(columns={\"fos_code\":\"fos_dedup\",\"original_code\":\"fos_code\"}).copy()"
   ]
  },
  {
   "cell_type": "code",
   "execution_count": 162,
   "metadata": {},
   "outputs": [],
   "source": [
    "VABB_class = VABB_class.drop(columns=\"fos_dedup\").copy()"
   ]
  },
  {
   "cell_type": "code",
   "execution_count": 166,
   "metadata": {},
   "outputs": [],
   "source": [
    "VABB_class = VABB_class.drop_duplicates().copy()"
   ]
  },
  {
   "cell_type": "code",
   "execution_count": 167,
   "metadata": {},
   "outputs": [
    {
     "data": {
      "text/plain": [
       "(34303, 3)"
      ]
     },
     "execution_count": 167,
     "metadata": {},
     "output_type": "execute_result"
    }
   ],
   "source": [
    "VABB_class.shape"
   ]
  },
  {
   "cell_type": "code",
   "execution_count": 168,
   "metadata": {},
   "outputs": [],
   "source": [
    "def change_column_name(df, name):\n",
    "    list_columns = df.columns\n",
    "    for column in list_columns:\n",
    "        if column != \"isbn\":\n",
    "            new_name = name + \"_\" + column\n",
    "            df = df.rename(columns ={column:new_name})\n",
    "    return df"
   ]
  },
  {
   "cell_type": "code",
   "execution_count": 169,
   "metadata": {},
   "outputs": [],
   "source": [
    "VABB_class = change_column_name(VABB_class, \"VABB\")"
   ]
  },
  {
   "cell_type": "code",
   "execution_count": 170,
   "metadata": {},
   "outputs": [
    {
     "data": {
      "text/html": [
       "<div>\n",
       "<style scoped>\n",
       "    .dataframe tbody tr th:only-of-type {\n",
       "        vertical-align: middle;\n",
       "    }\n",
       "\n",
       "    .dataframe tbody tr th {\n",
       "        vertical-align: top;\n",
       "    }\n",
       "\n",
       "    .dataframe thead th {\n",
       "        text-align: right;\n",
       "    }\n",
       "</style>\n",
       "<table border=\"1\" class=\"dataframe\">\n",
       "  <thead>\n",
       "    <tr style=\"text-align: right;\">\n",
       "      <th></th>\n",
       "      <th>isbn</th>\n",
       "      <th>VABB_proportion</th>\n",
       "      <th>VABB_fos_code</th>\n",
       "    </tr>\n",
       "  </thead>\n",
       "  <tbody>\n",
       "    <tr>\n",
       "      <th>0</th>\n",
       "      <td>9780312226596</td>\n",
       "      <td>1.0</td>\n",
       "      <td>5.4</td>\n",
       "    </tr>\n",
       "    <tr>\n",
       "      <th>1</th>\n",
       "      <td>9789042908123</td>\n",
       "      <td>1.0</td>\n",
       "      <td>6.3.1</td>\n",
       "    </tr>\n",
       "    <tr>\n",
       "      <th>11</th>\n",
       "      <td>9789053509289</td>\n",
       "      <td>1.0</td>\n",
       "      <td>5.2</td>\n",
       "    </tr>\n",
       "    <tr>\n",
       "      <th>16</th>\n",
       "      <td>9789041112347</td>\n",
       "      <td>1.0</td>\n",
       "      <td>5.5</td>\n",
       "    </tr>\n",
       "    <tr>\n",
       "      <th>18</th>\n",
       "      <td>9783772027512</td>\n",
       "      <td>1.0</td>\n",
       "      <td>6.2.2</td>\n",
       "    </tr>\n",
       "    <tr>\n",
       "      <th>...</th>\n",
       "      <td>...</td>\n",
       "      <td>...</td>\n",
       "      <td>...</td>\n",
       "    </tr>\n",
       "    <tr>\n",
       "      <th>96186</th>\n",
       "      <td>9781590331002</td>\n",
       "      <td>1.0</td>\n",
       "      <td>6.2.2</td>\n",
       "    </tr>\n",
       "    <tr>\n",
       "      <th>96187</th>\n",
       "      <td>9783893237128</td>\n",
       "      <td>1.0</td>\n",
       "      <td>5.4</td>\n",
       "    </tr>\n",
       "    <tr>\n",
       "      <th>96188</th>\n",
       "      <td>9780958488099</td>\n",
       "      <td>1.0</td>\n",
       "      <td>5.9</td>\n",
       "    </tr>\n",
       "    <tr>\n",
       "      <th>96189</th>\n",
       "      <td>9780799337051</td>\n",
       "      <td>1.0</td>\n",
       "      <td>6.2.2</td>\n",
       "    </tr>\n",
       "    <tr>\n",
       "      <th>96190</th>\n",
       "      <td>9781920109547</td>\n",
       "      <td>1.0</td>\n",
       "      <td>5.4</td>\n",
       "    </tr>\n",
       "  </tbody>\n",
       "</table>\n",
       "<p>34303 rows × 3 columns</p>\n",
       "</div>"
      ],
      "text/plain": [
       "                isbn  VABB_proportion VABB_fos_code\n",
       "0      9780312226596              1.0           5.4\n",
       "1      9789042908123              1.0         6.3.1\n",
       "11     9789053509289              1.0           5.2\n",
       "16     9789041112347              1.0           5.5\n",
       "18     9783772027512              1.0         6.2.2\n",
       "...              ...              ...           ...\n",
       "96186  9781590331002              1.0         6.2.2\n",
       "96187  9783893237128              1.0           5.4\n",
       "96188  9780958488099              1.0           5.9\n",
       "96189  9780799337051              1.0         6.2.2\n",
       "96190  9781920109547              1.0           5.4\n",
       "\n",
       "[34303 rows x 3 columns]"
      ]
     },
     "execution_count": 170,
     "metadata": {},
     "output_type": "execute_result"
    }
   ],
   "source": [
    "VABB_class"
   ]
  },
  {
   "cell_type": "code",
   "execution_count": 171,
   "metadata": {},
   "outputs": [
    {
     "data": {
      "text/plain": [
       "34303"
      ]
     },
     "execution_count": 171,
     "metadata": {},
     "output_type": "execute_result"
    }
   ],
   "source": [
    "len(VABB_class.isbn.unique())"
   ]
  },
  {
   "cell_type": "markdown",
   "metadata": {},
   "source": [
    "### Clean DDC"
   ]
  },
  {
   "cell_type": "code",
   "execution_count": 18,
   "metadata": {},
   "outputs": [],
   "source": [
    "#only retain codes for records with isbn in our dataset\n",
    "OCLC = OCLC[OCLC.isxn.isin(VABB.isbn)]\n",
    "\n",
    "#only retain columns interesting for further analysis\n",
    "OCLC = OCLC[[\"isxn\",\"source\",\"subject\"]]\n",
    "\n",
    "#rename the isxn columns as isbn (there are now only isbn's in it)\n",
    "OCLC.rename(columns={\"isxn\":\"isbn\"}, inplace=True)\n",
    "\n",
    "DDC.fillna(\"\", inplace=True)\n",
    "\n",
    "#Put dots inbetween the numbers of the FOS code\n",
    "DDC.fos_code = DDC.fos_code.map(lambda x: \".\".join(x))"
   ]
  },
  {
   "cell_type": "code",
   "execution_count": 19,
   "metadata": {},
   "outputs": [],
   "source": [
    "#merge the subjects table with the DDC_LCC table\n",
    "subjects_merged = OCLC.merge(subjects, how=\"left\", left_on=\"subject\", right_on=\"id\").drop(columns=[\"id\"])\n",
    "\n",
    "#for now, only retain rows that give a DDC subject classification\n",
    "DDC_subjects = subjects_merged[subjects_merged.subject_type == \"DDC\"].copy()\n",
    "\n",
    "#split the subject code because only the first 3 numbers (before the dot) are mapped to FOS codes\n",
    "DDC_subjects[\"split_subject\"] = DDC_subjects.subject_code.apply(lambda x: x.split(\".\")[0])\n",
    "\n",
    "#Now merge the DDC_subjects to the FOS mapping\n",
    "DDC_merged = DDC_subjects.merge(DDC, how=\"left\", left_on=\"split_subject\", right_on=\"orig_code\")\n",
    "DDC_merged.drop(columns=[\"subject_label\",\"subject\",\"source\",\"orig_code\", \"subject_type\", \"split_subject\",\"remarks\",\"fos_description\"], inplace=True)"
   ]
  },
  {
   "cell_type": "code",
   "execution_count": 20,
   "metadata": {},
   "outputs": [],
   "source": [
    "def deduplicate_classification(classification):\n",
    "    \"\"\"Requires a dataframe with columns isbn and fos_code.\n",
    "    Returns a dataframe with classifications, but each row represents one ISBN and there are no duplicate ISBNs.\"\"\"\n",
    "    classification = classification.fillna(\"\")\n",
    "    classification = classification.groupby('isbn').agg(lambda x: \";\".join(x)).reset_index()\n",
    "    \n",
    "    classification.fos_code = classification.fos_code.apply(lambda x: x.split(\";\"))\n",
    "    classification['proportion'] = classification.fos_code.apply(lambda x: 1/len(x) if len(x)>0 else 0)\n",
    "    classification.fos_code = classification.fos_code.apply(lambda x: ';'.join(x))\n",
    "    \n",
    "    return classification"
   ]
  },
  {
   "cell_type": "code",
   "execution_count": 21,
   "metadata": {},
   "outputs": [],
   "source": [
    "DDC_merged = deduplicate_classification(DDC_merged)"
   ]
  },
  {
   "cell_type": "code",
   "execution_count": 22,
   "metadata": {},
   "outputs": [],
   "source": [
    "DDC_merged = change_column_name(DDC_merged, \"DDC\")"
   ]
  },
  {
   "cell_type": "code",
   "execution_count": 23,
   "metadata": {},
   "outputs": [],
   "source": [
    "DDC_merged[\"DDC_fos_code\"] = DDC_merged.DDC_fos_code.replace([\"2.1.1\"],\"2.11\")"
   ]
  },
  {
   "cell_type": "code",
   "execution_count": 24,
   "metadata": {},
   "outputs": [
    {
     "data": {
      "text/html": [
       "<div>\n",
       "<style scoped>\n",
       "    .dataframe tbody tr th:only-of-type {\n",
       "        vertical-align: middle;\n",
       "    }\n",
       "\n",
       "    .dataframe tbody tr th {\n",
       "        vertical-align: top;\n",
       "    }\n",
       "\n",
       "    .dataframe thead th {\n",
       "        text-align: right;\n",
       "    }\n",
       "</style>\n",
       "<table border=\"1\" class=\"dataframe\">\n",
       "  <thead>\n",
       "    <tr style=\"text-align: right;\">\n",
       "      <th></th>\n",
       "      <th>isbn</th>\n",
       "      <th>DDC_subject_code</th>\n",
       "      <th>DDC_fos_code</th>\n",
       "      <th>DDC_proportion</th>\n",
       "    </tr>\n",
       "  </thead>\n",
       "  <tbody>\n",
       "    <tr>\n",
       "      <th>414</th>\n",
       "      <td>9780198789161</td>\n",
       "      <td>050.904</td>\n",
       "      <td></td>\n",
       "      <td>1.0</td>\n",
       "    </tr>\n",
       "    <tr>\n",
       "      <th>482</th>\n",
       "      <td>9780199211159</td>\n",
       "      <td>050.904</td>\n",
       "      <td></td>\n",
       "      <td>1.0</td>\n",
       "    </tr>\n",
       "    <tr>\n",
       "      <th>731</th>\n",
       "      <td>9780199659586</td>\n",
       "      <td>050.904</td>\n",
       "      <td></td>\n",
       "      <td>1.0</td>\n",
       "    </tr>\n",
       "    <tr>\n",
       "      <th>3838</th>\n",
       "      <td>9780993293238</td>\n",
       "      <td>040</td>\n",
       "      <td></td>\n",
       "      <td>1.0</td>\n",
       "    </tr>\n",
       "    <tr>\n",
       "      <th>3910</th>\n",
       "      <td>9781107038233</td>\n",
       "      <td>031.09</td>\n",
       "      <td></td>\n",
       "      <td>1.0</td>\n",
       "    </tr>\n",
       "    <tr>\n",
       "      <th>...</th>\n",
       "      <td>...</td>\n",
       "      <td>...</td>\n",
       "      <td>...</td>\n",
       "      <td>...</td>\n",
       "    </tr>\n",
       "    <tr>\n",
       "      <th>27001</th>\n",
       "      <td>9789401442053</td>\n",
       "      <td>030</td>\n",
       "      <td></td>\n",
       "      <td>1.0</td>\n",
       "    </tr>\n",
       "    <tr>\n",
       "      <th>27158</th>\n",
       "      <td>9789460040399</td>\n",
       "      <td>E</td>\n",
       "      <td></td>\n",
       "      <td>1.0</td>\n",
       "    </tr>\n",
       "    <tr>\n",
       "      <th>27970</th>\n",
       "      <td>9789501245653</td>\n",
       "      <td>E</td>\n",
       "      <td></td>\n",
       "      <td>1.0</td>\n",
       "    </tr>\n",
       "    <tr>\n",
       "      <th>28052</th>\n",
       "      <td>9789612472801</td>\n",
       "      <td>032</td>\n",
       "      <td></td>\n",
       "      <td>1.0</td>\n",
       "    </tr>\n",
       "    <tr>\n",
       "      <th>28355</th>\n",
       "      <td>9789927101755</td>\n",
       "      <td>E</td>\n",
       "      <td></td>\n",
       "      <td>1.0</td>\n",
       "    </tr>\n",
       "  </tbody>\n",
       "</table>\n",
       "<p>65 rows × 4 columns</p>\n",
       "</div>"
      ],
      "text/plain": [
       "                isbn DDC_subject_code DDC_fos_code  DDC_proportion\n",
       "414    9780198789161          050.904                          1.0\n",
       "482    9780199211159          050.904                          1.0\n",
       "731    9780199659586          050.904                          1.0\n",
       "3838   9780993293238              040                          1.0\n",
       "3910   9781107038233           031.09                          1.0\n",
       "...              ...              ...          ...             ...\n",
       "27001  9789401442053              030                          1.0\n",
       "27158  9789460040399                E                          1.0\n",
       "27970  9789501245653                E                          1.0\n",
       "28052  9789612472801              032                          1.0\n",
       "28355  9789927101755                E                          1.0\n",
       "\n",
       "[65 rows x 4 columns]"
      ]
     },
     "execution_count": 24,
     "metadata": {},
     "output_type": "execute_result"
    }
   ],
   "source": [
    "DDC_merged[DDC_merged.DDC_fos_code == \"\"]"
   ]
  },
  {
   "cell_type": "markdown",
   "metadata": {},
   "source": [
    "### Clean LCC "
   ]
  },
  {
   "cell_type": "code",
   "execution_count": 25,
   "metadata": {},
   "outputs": [],
   "source": [
    "#for now, only retain rows that give a LCC subject classification\n",
    "LCC_subjects = subjects_merged[subjects_merged.subject_type == \"LCC\"].drop(columns=[\"subject_label\"])\n",
    "\n",
    "#Now merge the LCC_subjects to the FOS mapping\n",
    "LCC_merged = LCC_subjects.merge(LCC, how=\"left\",left_on=\"subject_code\", right_on=\"orig_code\")\n",
    "\n",
    "LCC_merged.subject = LCC_merged.subject.astype(str)"
   ]
  },
  {
   "cell_type": "code",
   "execution_count": 26,
   "metadata": {},
   "outputs": [],
   "source": [
    "LCC_merged = deduplicate_classification(LCC_merged)"
   ]
  },
  {
   "cell_type": "code",
   "execution_count": 27,
   "metadata": {},
   "outputs": [],
   "source": [
    "LCC_merged = LCC_merged[[\"isbn\",\"subject_code\",\"fos_code\", \"proportion\"]].copy()"
   ]
  },
  {
   "cell_type": "code",
   "execution_count": 28,
   "metadata": {},
   "outputs": [],
   "source": [
    "LCC_merged = change_column_name(LCC_merged, \"LCC\")"
   ]
  },
  {
   "cell_type": "code",
   "execution_count": 29,
   "metadata": {},
   "outputs": [],
   "source": [
    "LCC_merged = LCC_merged[LCC_merged.LCC_fos_code != \"\"]"
   ]
  },
  {
   "cell_type": "code",
   "execution_count": 30,
   "metadata": {},
   "outputs": [],
   "source": [
    "LCC_merged[\"LCC_fos_code\"] = LCC_merged[\"LCC_fos_code\"].map(lambda x: \".\".join(x))"
   ]
  },
  {
   "cell_type": "code",
   "execution_count": 31,
   "metadata": {},
   "outputs": [
    {
     "data": {
      "text/html": [
       "<div>\n",
       "<style scoped>\n",
       "    .dataframe tbody tr th:only-of-type {\n",
       "        vertical-align: middle;\n",
       "    }\n",
       "\n",
       "    .dataframe tbody tr th {\n",
       "        vertical-align: top;\n",
       "    }\n",
       "\n",
       "    .dataframe thead th {\n",
       "        text-align: right;\n",
       "    }\n",
       "</style>\n",
       "<table border=\"1\" class=\"dataframe\">\n",
       "  <thead>\n",
       "    <tr style=\"text-align: right;\">\n",
       "      <th></th>\n",
       "      <th>isbn</th>\n",
       "      <th>LCC_subject_code</th>\n",
       "      <th>LCC_fos_code</th>\n",
       "      <th>LCC_proportion</th>\n",
       "    </tr>\n",
       "  </thead>\n",
       "  <tbody>\n",
       "    <tr>\n",
       "      <th>2</th>\n",
       "      <td>9780028649511</td>\n",
       "      <td>GV709</td>\n",
       "      <td>5.9</td>\n",
       "      <td>1.0</td>\n",
       "    </tr>\n",
       "    <tr>\n",
       "      <th>3</th>\n",
       "      <td>9780028655949</td>\n",
       "      <td>LB15</td>\n",
       "      <td>5.3</td>\n",
       "      <td>1.0</td>\n",
       "    </tr>\n",
       "    <tr>\n",
       "      <th>4</th>\n",
       "      <td>9780028657042</td>\n",
       "      <td>BL240.3</td>\n",
       "      <td>6.3.2</td>\n",
       "      <td>1.0</td>\n",
       "    </tr>\n",
       "    <tr>\n",
       "      <th>5</th>\n",
       "      <td>9780028657806</td>\n",
       "      <td>B41</td>\n",
       "      <td>6.3.1</td>\n",
       "      <td>1.0</td>\n",
       "    </tr>\n",
       "    <tr>\n",
       "      <th>12</th>\n",
       "      <td>9780028658117</td>\n",
       "      <td>JA61</td>\n",
       "      <td>5.6</td>\n",
       "      <td>1.0</td>\n",
       "    </tr>\n",
       "    <tr>\n",
       "      <th>...</th>\n",
       "      <td>...</td>\n",
       "      <td>...</td>\n",
       "      <td>...</td>\n",
       "      <td>...</td>\n",
       "    </tr>\n",
       "    <tr>\n",
       "      <th>30215</th>\n",
       "      <td>9791094898321</td>\n",
       "      <td>PQ2672.E25</td>\n",
       "      <td>6.2.2</td>\n",
       "      <td>1.0</td>\n",
       "    </tr>\n",
       "    <tr>\n",
       "      <th>30216</th>\n",
       "      <td>9791095254010</td>\n",
       "      <td>Z116</td>\n",
       "      <td>5.8</td>\n",
       "      <td>1.0</td>\n",
       "    </tr>\n",
       "    <tr>\n",
       "      <th>30217</th>\n",
       "      <td>9791095457299</td>\n",
       "      <td>PQ2605.O15</td>\n",
       "      <td>6.2.2</td>\n",
       "      <td>1.0</td>\n",
       "    </tr>\n",
       "    <tr>\n",
       "      <th>30218</th>\n",
       "      <td>9791095546009</td>\n",
       "      <td>P98</td>\n",
       "      <td>6.2.1</td>\n",
       "      <td>1.0</td>\n",
       "    </tr>\n",
       "    <tr>\n",
       "      <th>30220</th>\n",
       "      <td>9791096843060</td>\n",
       "      <td>UA646</td>\n",
       "      <td>5.6</td>\n",
       "      <td>1.0</td>\n",
       "    </tr>\n",
       "  </tbody>\n",
       "</table>\n",
       "<p>25090 rows × 4 columns</p>\n",
       "</div>"
      ],
      "text/plain": [
       "                isbn LCC_subject_code LCC_fos_code  LCC_proportion\n",
       "2      9780028649511            GV709          5.9             1.0\n",
       "3      9780028655949             LB15          5.3             1.0\n",
       "4      9780028657042          BL240.3        6.3.2             1.0\n",
       "5      9780028657806              B41        6.3.1             1.0\n",
       "12     9780028658117             JA61          5.6             1.0\n",
       "...              ...              ...          ...             ...\n",
       "30215  9791094898321       PQ2672.E25        6.2.2             1.0\n",
       "30216  9791095254010             Z116          5.8             1.0\n",
       "30217  9791095457299       PQ2605.O15        6.2.2             1.0\n",
       "30218  9791095546009              P98        6.2.1             1.0\n",
       "30220  9791096843060            UA646          5.6             1.0\n",
       "\n",
       "[25090 rows x 4 columns]"
      ]
     },
     "execution_count": 31,
     "metadata": {},
     "output_type": "execute_result"
    }
   ],
   "source": [
    "LCC_merged"
   ]
  },
  {
   "cell_type": "markdown",
   "metadata": {},
   "source": [
    "## Clean SISO"
   ]
  },
  {
   "cell_type": "code",
   "execution_count": 131,
   "metadata": {},
   "outputs": [],
   "source": [
    "SISO = SISO.rename(columns={\"fos_code_specifieker\":\"SISO_fos_code\"}).copy()"
   ]
  },
  {
   "cell_type": "markdown",
   "metadata": {},
   "source": [
    "## For what publications is a manual check needed?"
   ]
  },
  {
   "cell_type": "code",
   "execution_count": 32,
   "metadata": {},
   "outputs": [],
   "source": [
    "no_classifications = pd.read_csv(\"classifications/check missing/no_classification.csv\", index_col=0, dtype={\"isbn\":str})"
   ]
  },
  {
   "cell_type": "markdown",
   "metadata": {},
   "source": [
    "## Removing conference papers"
   ]
  },
  {
   "cell_type": "code",
   "execution_count": 33,
   "metadata": {},
   "outputs": [
    {
     "data": {
      "text/html": [
       "<div>\n",
       "<style scoped>\n",
       "    .dataframe tbody tr th:only-of-type {\n",
       "        vertical-align: middle;\n",
       "    }\n",
       "\n",
       "    .dataframe tbody tr th {\n",
       "        vertical-align: top;\n",
       "    }\n",
       "\n",
       "    .dataframe thead th {\n",
       "        text-align: right;\n",
       "    }\n",
       "</style>\n",
       "<table border=\"1\" class=\"dataframe\">\n",
       "  <thead>\n",
       "    <tr style=\"text-align: right;\">\n",
       "      <th></th>\n",
       "      <th>isbn</th>\n",
       "      <th>VABB_btitle</th>\n",
       "      <th>VABB_lg</th>\n",
       "      <th>VABB_pubyear</th>\n",
       "    </tr>\n",
       "  </thead>\n",
       "  <tbody>\n",
       "    <tr>\n",
       "      <th>36</th>\n",
       "      <td>9780077130381</td>\n",
       "      <td>et al.;International management accounting an...</td>\n",
       "      <td>eng</td>\n",
       "      <td>2010</td>\n",
       "    </tr>\n",
       "    <tr>\n",
       "      <th>211</th>\n",
       "      <td>9780156073882</td>\n",
       "      <td>European accounting guide / David, Alexander [...</td>\n",
       "      <td>eng</td>\n",
       "      <td>2001;2003</td>\n",
       "    </tr>\n",
       "    <tr>\n",
       "      <th>1309</th>\n",
       "      <td>9780314913746</td>\n",
       "      <td>International Privacy Guide edition:1</td>\n",
       "      <td>eng</td>\n",
       "      <td>2009</td>\n",
       "    </tr>\n",
       "    <tr>\n",
       "      <th>1311</th>\n",
       "      <td>9780323015738</td>\n",
       "      <td>2002 Yearbook of Sports Medicine</td>\n",
       "      <td>eng</td>\n",
       "      <td>2003</td>\n",
       "    </tr>\n",
       "    <tr>\n",
       "      <th>1387</th>\n",
       "      <td>9780368090547</td>\n",
       "      <td>Muscat. City of Gates</td>\n",
       "      <td>eng</td>\n",
       "      <td>2018</td>\n",
       "    </tr>\n",
       "    <tr>\n",
       "      <th>...</th>\n",
       "      <td>...</td>\n",
       "      <td>...</td>\n",
       "      <td>...</td>\n",
       "      <td>...</td>\n",
       "    </tr>\n",
       "    <tr>\n",
       "      <th>47264</th>\n",
       "      <td>9791096909018</td>\n",
       "      <td>Diversity of cultural expressions in the digit...</td>\n",
       "      <td>eng</td>\n",
       "      <td>2016</td>\n",
       "    </tr>\n",
       "    <tr>\n",
       "      <th>47265</th>\n",
       "      <td>9791096909025</td>\n",
       "      <td>Diversidade de expressões culturais na era dig...</td>\n",
       "      <td>por</td>\n",
       "      <td>2016</td>\n",
       "    </tr>\n",
       "    <tr>\n",
       "      <th>47268</th>\n",
       "      <td>9791097361099</td>\n",
       "      <td>Les esprits animaux (16e - 21e siècles) : litt...</td>\n",
       "      <td>eng</td>\n",
       "      <td>2018</td>\n",
       "    </tr>\n",
       "    <tr>\n",
       "      <th>47271</th>\n",
       "      <td>9791195130504</td>\n",
       "      <td>Sea, Sea Names and Mediterranean Peace: Procee...</td>\n",
       "      <td>eng</td>\n",
       "      <td>2013</td>\n",
       "    </tr>\n",
       "    <tr>\n",
       "      <th>47272</th>\n",
       "      <td>9791195130511</td>\n",
       "      <td>Sea, Sea Names and Peace in East Asia: Proceed...</td>\n",
       "      <td>eng</td>\n",
       "      <td>2014</td>\n",
       "    </tr>\n",
       "  </tbody>\n",
       "</table>\n",
       "<p>8728 rows × 4 columns</p>\n",
       "</div>"
      ],
      "text/plain": [
       "                isbn                                        VABB_btitle  \\\n",
       "36     9780077130381   et al.;International management accounting an...   \n",
       "211    9780156073882  European accounting guide / David, Alexander [...   \n",
       "1309   9780314913746              International Privacy Guide edition:1   \n",
       "1311   9780323015738                   2002 Yearbook of Sports Medicine   \n",
       "1387   9780368090547                              Muscat. City of Gates   \n",
       "...              ...                                                ...   \n",
       "47264  9791096909018  Diversity of cultural expressions in the digit...   \n",
       "47265  9791096909025  Diversidade de expressões culturais na era dig...   \n",
       "47268  9791097361099  Les esprits animaux (16e - 21e siècles) : litt...   \n",
       "47271  9791195130504  Sea, Sea Names and Mediterranean Peace: Procee...   \n",
       "47272  9791195130511  Sea, Sea Names and Peace in East Asia: Proceed...   \n",
       "\n",
       "      VABB_lg VABB_pubyear  \n",
       "36        eng         2010  \n",
       "211       eng    2001;2003  \n",
       "1309      eng         2009  \n",
       "1311      eng         2003  \n",
       "1387      eng         2018  \n",
       "...       ...          ...  \n",
       "47264     eng         2016  \n",
       "47265     por         2016  \n",
       "47268     eng         2018  \n",
       "47271     eng         2013  \n",
       "47272     eng         2014  \n",
       "\n",
       "[8728 rows x 4 columns]"
      ]
     },
     "execution_count": 33,
     "metadata": {},
     "output_type": "execute_result"
    }
   ],
   "source": [
    "no_classifications"
   ]
  },
  {
   "cell_type": "code",
   "execution_count": 37,
   "metadata": {},
   "outputs": [],
   "source": [
    "VABB_type = VABB[[\"isbn\",\"VABB_VABB-publicatietype\"]]"
   ]
  },
  {
   "cell_type": "code",
   "execution_count": 41,
   "metadata": {},
   "outputs": [],
   "source": [
    "no_classifications = no_classifications.merge(VABB_type, on=\"isbn\")"
   ]
  },
  {
   "cell_type": "code",
   "execution_count": 43,
   "metadata": {},
   "outputs": [],
   "source": [
    "no_classifications = no_classifications[no_classifications[\"VABB_VABB-publicatietype\"] != \"VABB-5\"]"
   ]
  },
  {
   "cell_type": "code",
   "execution_count": 46,
   "metadata": {},
   "outputs": [
    {
     "data": {
      "text/plain": [
       "(7278, 5)"
      ]
     },
     "execution_count": 46,
     "metadata": {},
     "output_type": "execute_result"
    }
   ],
   "source": [
    "no_classifications.shape"
   ]
  },
  {
   "cell_type": "code",
   "execution_count": 48,
   "metadata": {},
   "outputs": [],
   "source": [
    "no_classifications.to_csv(\"data/mappings_classification/to_do_manual_no_conferences.csv\")"
   ]
  },
  {
   "cell_type": "markdown",
   "metadata": {},
   "source": [
    "## A first batch of manuals"
   ]
  },
  {
   "cell_type": "code",
   "execution_count": 72,
   "metadata": {},
   "outputs": [],
   "source": [
    "manual = pd.read_excel(\"data/mappings_classification/Manual_complete_23-03-2022.xlsx\", index_col=0, dtype={\"isbn\":str})"
   ]
  },
  {
   "cell_type": "code",
   "execution_count": 73,
   "metadata": {},
   "outputs": [
    {
     "data": {
      "text/plain": [
       "(7278, 3)"
      ]
     },
     "execution_count": 73,
     "metadata": {},
     "output_type": "execute_result"
    }
   ],
   "source": [
    "manual = manual[[\"isbn\",\"VABB_btitle\",\"Manual_fos_code\"]]\n",
    "manual.shape"
   ]
  },
  {
   "cell_type": "code",
   "execution_count": 74,
   "metadata": {},
   "outputs": [],
   "source": [
    "manual = manual[manual.Manual_fos_code.notna()]"
   ]
  },
  {
   "cell_type": "code",
   "execution_count": 75,
   "metadata": {},
   "outputs": [
    {
     "data": {
      "text/plain": [
       "(7277, 3)"
      ]
     },
     "execution_count": 75,
     "metadata": {},
     "output_type": "execute_result"
    }
   ],
   "source": [
    "manual.shape"
   ]
  },
  {
   "cell_type": "markdown",
   "metadata": {},
   "source": [
    "## Creating the entire classification dataset"
   ]
  },
  {
   "cell_type": "code",
   "execution_count": 53,
   "metadata": {},
   "outputs": [
    {
     "data": {
      "text/plain": [
       "(28451, 4)"
      ]
     },
     "execution_count": 53,
     "metadata": {},
     "output_type": "execute_result"
    }
   ],
   "source": [
    "DDC_merged.shape"
   ]
  },
  {
   "cell_type": "code",
   "execution_count": 54,
   "metadata": {},
   "outputs": [
    {
     "data": {
      "text/plain": [
       "(25090, 4)"
      ]
     },
     "execution_count": 54,
     "metadata": {},
     "output_type": "execute_result"
    }
   ],
   "source": [
    "LCC_merged.shape"
   ]
  },
  {
   "cell_type": "code",
   "execution_count": 146,
   "metadata": {},
   "outputs": [
    {
     "data": {
      "text/plain": [
       "25090"
      ]
     },
     "execution_count": 146,
     "metadata": {},
     "output_type": "execute_result"
    }
   ],
   "source": [
    "len(LCC_merged.isbn.unique())"
   ]
  },
  {
   "cell_type": "code",
   "execution_count": 55,
   "metadata": {},
   "outputs": [
    {
     "data": {
      "text/plain": [
       "(7277, 3)"
      ]
     },
     "execution_count": 55,
     "metadata": {},
     "output_type": "execute_result"
    }
   ],
   "source": [
    "manual.shape"
   ]
  },
  {
   "cell_type": "code",
   "execution_count": 147,
   "metadata": {},
   "outputs": [
    {
     "data": {
      "text/plain": [
       "7277"
      ]
     },
     "execution_count": 147,
     "metadata": {},
     "output_type": "execute_result"
    }
   ],
   "source": [
    "len(manual.isbn.unique())"
   ]
  },
  {
   "cell_type": "code",
   "execution_count": 56,
   "metadata": {},
   "outputs": [
    {
     "data": {
      "text/plain": [
       "(38146, 4)"
      ]
     },
     "execution_count": 56,
     "metadata": {},
     "output_type": "execute_result"
    }
   ],
   "source": [
    "VABB_class.shape"
   ]
  },
  {
   "cell_type": "code",
   "execution_count": 149,
   "metadata": {},
   "outputs": [
    {
     "data": {
      "text/plain": [
       "34303"
      ]
     },
     "execution_count": 149,
     "metadata": {},
     "output_type": "execute_result"
    }
   ],
   "source": [
    "len(VABB_class.isbn.unique())"
   ]
  },
  {
   "cell_type": "code",
   "execution_count": 57,
   "metadata": {},
   "outputs": [
    {
     "data": {
      "text/plain": [
       "(8569, 3)"
      ]
     },
     "execution_count": 57,
     "metadata": {},
     "output_type": "execute_result"
    }
   ],
   "source": [
    "SISO.shape"
   ]
  },
  {
   "cell_type": "code",
   "execution_count": 63,
   "metadata": {},
   "outputs": [],
   "source": [
    "isbns = VABB[[\"isbn\"]]"
   ]
  },
  {
   "cell_type": "code",
   "execution_count": 89,
   "metadata": {},
   "outputs": [
    {
     "data": {
      "text/html": [
       "<div>\n",
       "<style scoped>\n",
       "    .dataframe tbody tr th:only-of-type {\n",
       "        vertical-align: middle;\n",
       "    }\n",
       "\n",
       "    .dataframe tbody tr th {\n",
       "        vertical-align: top;\n",
       "    }\n",
       "\n",
       "    .dataframe thead th {\n",
       "        text-align: right;\n",
       "    }\n",
       "</style>\n",
       "<table border=\"1\" class=\"dataframe\">\n",
       "  <thead>\n",
       "    <tr style=\"text-align: right;\">\n",
       "      <th></th>\n",
       "      <th>VABB_fos_code</th>\n",
       "      <th>VABB_fos_code</th>\n",
       "    </tr>\n",
       "  </thead>\n",
       "  <tbody>\n",
       "    <tr>\n",
       "      <th>0</th>\n",
       "      <td>False</td>\n",
       "      <td>False</td>\n",
       "    </tr>\n",
       "    <tr>\n",
       "      <th>1</th>\n",
       "      <td>False</td>\n",
       "      <td>False</td>\n",
       "    </tr>\n",
       "    <tr>\n",
       "      <th>11</th>\n",
       "      <td>False</td>\n",
       "      <td>False</td>\n",
       "    </tr>\n",
       "    <tr>\n",
       "      <th>16</th>\n",
       "      <td>False</td>\n",
       "      <td>False</td>\n",
       "    </tr>\n",
       "    <tr>\n",
       "      <th>18</th>\n",
       "      <td>False</td>\n",
       "      <td>False</td>\n",
       "    </tr>\n",
       "    <tr>\n",
       "      <th>...</th>\n",
       "      <td>...</td>\n",
       "      <td>...</td>\n",
       "    </tr>\n",
       "    <tr>\n",
       "      <th>96186</th>\n",
       "      <td>False</td>\n",
       "      <td>False</td>\n",
       "    </tr>\n",
       "    <tr>\n",
       "      <th>96187</th>\n",
       "      <td>False</td>\n",
       "      <td>False</td>\n",
       "    </tr>\n",
       "    <tr>\n",
       "      <th>96188</th>\n",
       "      <td>False</td>\n",
       "      <td>False</td>\n",
       "    </tr>\n",
       "    <tr>\n",
       "      <th>96189</th>\n",
       "      <td>False</td>\n",
       "      <td>False</td>\n",
       "    </tr>\n",
       "    <tr>\n",
       "      <th>96190</th>\n",
       "      <td>False</td>\n",
       "      <td>False</td>\n",
       "    </tr>\n",
       "  </tbody>\n",
       "</table>\n",
       "<p>38146 rows × 2 columns</p>\n",
       "</div>"
      ],
      "text/plain": [
       "       VABB_fos_code  VABB_fos_code\n",
       "0              False          False\n",
       "1              False          False\n",
       "11             False          False\n",
       "16             False          False\n",
       "18             False          False\n",
       "...              ...            ...\n",
       "96186          False          False\n",
       "96187          False          False\n",
       "96188          False          False\n",
       "96189          False          False\n",
       "96190          False          False\n",
       "\n",
       "[38146 rows x 2 columns]"
      ]
     },
     "execution_count": 89,
     "metadata": {},
     "output_type": "execute_result"
    }
   ],
   "source": []
  },
  {
   "cell_type": "code",
   "execution_count": 172,
   "metadata": {},
   "outputs": [],
   "source": [
    "VABB_fos = isbns.merge(VABB_class, how=\"left\", on=\"isbn\")"
   ]
  },
  {
   "cell_type": "code",
   "execution_count": 173,
   "metadata": {},
   "outputs": [],
   "source": [
    "VABB_DDC_fos = VABB_fos.merge(DDC_merged, how=\"left\", on=\"isbn\")"
   ]
  },
  {
   "cell_type": "code",
   "execution_count": 174,
   "metadata": {},
   "outputs": [],
   "source": [
    "VABB_DDC_LCC_fos = VABB_DDC_fos.merge(LCC_merged, how=\"left\", on=\"isbn\")"
   ]
  },
  {
   "cell_type": "code",
   "execution_count": 175,
   "metadata": {},
   "outputs": [],
   "source": [
    "VABB_DDC_LCC_SISO_fos = VABB_DDC_LCC_fos.merge(SISO, how=\"left\", on=\"isbn\")"
   ]
  },
  {
   "cell_type": "code",
   "execution_count": 176,
   "metadata": {},
   "outputs": [],
   "source": [
    "manual = manual[[\"isbn\", \"Manual_fos_code\"]]"
   ]
  },
  {
   "cell_type": "code",
   "execution_count": 177,
   "metadata": {},
   "outputs": [],
   "source": [
    "df = VABB_DDC_LCC_SISO_fos.merge(manual, how=\"left\", on=\"isbn\")"
   ]
  },
  {
   "cell_type": "code",
   "execution_count": 178,
   "metadata": {},
   "outputs": [],
   "source": [
    "df = df.fillna(\"\").copy()"
   ]
  },
  {
   "cell_type": "code",
   "execution_count": 179,
   "metadata": {},
   "outputs": [
    {
     "data": {
      "text/plain": [
       "Index(['isbn', 'VABB_proportion', 'VABB_fos_code', 'DDC_subject_code',\n",
       "       'DDC_fos_code', 'DDC_proportion', 'LCC_subject_code', 'LCC_fos_code',\n",
       "       'LCC_proportion', 'siso_code', 'SISO_fos_code', 'Manual_fos_code'],\n",
       "      dtype='object')"
      ]
     },
     "execution_count": 179,
     "metadata": {},
     "output_type": "execute_result"
    }
   ],
   "source": [
    "df.columns"
   ]
  },
  {
   "cell_type": "code",
   "execution_count": 180,
   "metadata": {},
   "outputs": [],
   "source": [
    "df[\"classification\"] = \"\"\n",
    "df[\"classification_source\"] = \"\""
   ]
  },
  {
   "cell_type": "code",
   "execution_count": 181,
   "metadata": {},
   "outputs": [],
   "source": [
    "for i in range(len(df)):\n",
    "    if df.VABB_fos_code.iloc[i] != \"\":\n",
    "        df.classification.iloc[i]=df.VABB_fos_code.iloc[i] #first add cognitive classification\n",
    "        df.classification_source.iloc[i]=\"Cognitive classification VABB\"\n",
    "    elif df.DDC_fos_code.iloc[i] != \"\":\n",
    "        df.classification.iloc[i] = df.DDC_fos_code.iloc[i]\n",
    "        df.classification_source.iloc[i] = \"DDC\"\n",
    "    elif df.LCC_fos_code.iloc[i] != \"\":\n",
    "        df.classification.iloc[i] = df.LCC_fos_code.iloc[i]\n",
    "        df.classification_source.iloc[i]=\"LCC\"\n",
    "    elif df.SISO_fos_code.iloc[i] != \"\":\n",
    "        df.classification.iloc[i] = df.SISO_fos_code.iloc[i]\n",
    "        df.classification_source.iloc[i]=\"SISO\"\n",
    "    elif df.Manual_fos_code.iloc[i] != \"\":\n",
    "        df.classification.iloc[i]=df.Manual_fos_code.iloc[i]\n",
    "        df.classification_source.iloc[i]=\"Manual\""
   ]
  },
  {
   "cell_type": "code",
   "execution_count": 264,
   "metadata": {},
   "outputs": [],
   "source": [
    "all_classifications = df[[\"isbn\",\"classification\",\"classification_source\"]].copy()"
   ]
  },
  {
   "cell_type": "markdown",
   "metadata": {},
   "source": [
    "## More missing information"
   ]
  },
  {
   "cell_type": "code",
   "execution_count": 207,
   "metadata": {},
   "outputs": [],
   "source": [
    "missing = all_classifications[all_classifications.classification == \"\"]"
   ]
  },
  {
   "cell_type": "code",
   "execution_count": 208,
   "metadata": {},
   "outputs": [],
   "source": [
    "missing = missing.merge(VABB_type, how=\"left\", on=\"isbn\")"
   ]
  },
  {
   "cell_type": "code",
   "execution_count": 209,
   "metadata": {},
   "outputs": [],
   "source": [
    "# what publications were missed? These need to be classified manually\n",
    "# earlier, the conference papers were excluded\n",
    "missing = missing[missing[\"VABB_VABB-publicatietype\"]!=\"VABB-5\"]"
   ]
  },
  {
   "cell_type": "code",
   "execution_count": 210,
   "metadata": {},
   "outputs": [],
   "source": [
    "missing = missing.drop(columns=[\"classification\",\"classification_source\",\"VABB_VABB-publicatietype\"])"
   ]
  },
  {
   "cell_type": "code",
   "execution_count": 212,
   "metadata": {},
   "outputs": [],
   "source": [
    "missing = missing.merge(VABB, how=\"left\", on=\"isbn\")"
   ]
  },
  {
   "cell_type": "code",
   "execution_count": 217,
   "metadata": {},
   "outputs": [],
   "source": [
    "missing = missing.drop(columns=[\"VABB_jtitle\",\"VABB_ptitle\",\"VABB_lg\", \"VABB_infogpstd\"])"
   ]
  },
  {
   "cell_type": "code",
   "execution_count": 218,
   "metadata": {},
   "outputs": [],
   "source": [
    "missing.to_excel(\"data/mappings_classification/remaining_manual.xlsx\")"
   ]
  },
  {
   "cell_type": "code",
   "execution_count": 260,
   "metadata": {},
   "outputs": [],
   "source": [
    "manual2 = pd.read_excel(\"data/mappings_classification/remaining_manual20221125.xlsx\", index_col=0, dtype={\"isbn\":\"str\"})"
   ]
  },
  {
   "cell_type": "code",
   "execution_count": 261,
   "metadata": {},
   "outputs": [],
   "source": [
    "manual2 = manual2[[\"isbn\",\"manual fos\"]].copy()"
   ]
  },
  {
   "cell_type": "markdown",
   "metadata": {},
   "source": [
    "## Add second batch of manual classifications"
   ]
  },
  {
   "cell_type": "code",
   "execution_count": 266,
   "metadata": {},
   "outputs": [],
   "source": [
    "all_classifications = all_classifications.merge(manual2, how=\"left\", on=\"isbn\")"
   ]
  },
  {
   "cell_type": "code",
   "execution_count": 267,
   "metadata": {},
   "outputs": [],
   "source": [
    "all_classifications = all_classifications.fillna(\"\")\n",
    "\n",
    "for i in range(len(all_classifications)):\n",
    "    if (all_classifications.classification.iloc[i] == \"\"):\n",
    "        all_classifications.classification.iloc[i]=all_classifications[\"manual fos\"].iloc[i]"
   ]
  },
  {
   "cell_type": "code",
   "execution_count": 268,
   "metadata": {},
   "outputs": [],
   "source": [
    "for i in range(len(all_classifications)):\n",
    "    if all_classifications[\"manual fos\"].iloc[i] != \"\":\n",
    "        all_classifications.classification_source.iloc[i] == \"Manual\""
   ]
  },
  {
   "cell_type": "code",
   "execution_count": 269,
   "metadata": {},
   "outputs": [
    {
     "data": {
      "text/html": [
       "<div>\n",
       "<style scoped>\n",
       "    .dataframe tbody tr th:only-of-type {\n",
       "        vertical-align: middle;\n",
       "    }\n",
       "\n",
       "    .dataframe tbody tr th {\n",
       "        vertical-align: top;\n",
       "    }\n",
       "\n",
       "    .dataframe thead th {\n",
       "        text-align: right;\n",
       "    }\n",
       "</style>\n",
       "<table border=\"1\" class=\"dataframe\">\n",
       "  <thead>\n",
       "    <tr style=\"text-align: right;\">\n",
       "      <th></th>\n",
       "      <th>isbn</th>\n",
       "      <th>classification</th>\n",
       "      <th>classification_source</th>\n",
       "    </tr>\n",
       "  </thead>\n",
       "  <tbody>\n",
       "    <tr>\n",
       "      <th>0</th>\n",
       "      <td>9780000000002</td>\n",
       "      <td>1.5;2.2;1.2</td>\n",
       "      <td>Cognitive classification VABB</td>\n",
       "    </tr>\n",
       "    <tr>\n",
       "      <th>1</th>\n",
       "      <td>9780000001948</td>\n",
       "      <td>5.7</td>\n",
       "      <td>Cognitive classification VABB</td>\n",
       "    </tr>\n",
       "    <tr>\n",
       "      <th>2</th>\n",
       "      <td>9780028649511</td>\n",
       "      <td>5.9</td>\n",
       "      <td>Cognitive classification VABB</td>\n",
       "    </tr>\n",
       "    <tr>\n",
       "      <th>3</th>\n",
       "      <td>9780028655949</td>\n",
       "      <td>5.3</td>\n",
       "      <td>Cognitive classification VABB</td>\n",
       "    </tr>\n",
       "    <tr>\n",
       "      <th>4</th>\n",
       "      <td>9780028657042</td>\n",
       "      <td>6.3.2</td>\n",
       "      <td>Cognitive classification VABB</td>\n",
       "    </tr>\n",
       "    <tr>\n",
       "      <th>...</th>\n",
       "      <td>...</td>\n",
       "      <td>...</td>\n",
       "      <td>...</td>\n",
       "    </tr>\n",
       "    <tr>\n",
       "      <th>46636</th>\n",
       "      <td>9791097361099</td>\n",
       "      <td></td>\n",
       "      <td></td>\n",
       "    </tr>\n",
       "    <tr>\n",
       "      <th>46637</th>\n",
       "      <td>9791188296200</td>\n",
       "      <td>5.4</td>\n",
       "      <td>Cognitive classification VABB</td>\n",
       "    </tr>\n",
       "    <tr>\n",
       "      <th>46638</th>\n",
       "      <td>9791195038947</td>\n",
       "      <td>6.4</td>\n",
       "      <td>Cognitive classification VABB</td>\n",
       "    </tr>\n",
       "    <tr>\n",
       "      <th>46639</th>\n",
       "      <td>9791195130504</td>\n",
       "      <td></td>\n",
       "      <td></td>\n",
       "    </tr>\n",
       "    <tr>\n",
       "      <th>46640</th>\n",
       "      <td>9791195130511</td>\n",
       "      <td></td>\n",
       "      <td></td>\n",
       "    </tr>\n",
       "  </tbody>\n",
       "</table>\n",
       "<p>46641 rows × 3 columns</p>\n",
       "</div>"
      ],
      "text/plain": [
       "                isbn classification          classification_source\n",
       "0      9780000000002    1.5;2.2;1.2  Cognitive classification VABB\n",
       "1      9780000001948            5.7  Cognitive classification VABB\n",
       "2      9780028649511            5.9  Cognitive classification VABB\n",
       "3      9780028655949            5.3  Cognitive classification VABB\n",
       "4      9780028657042          6.3.2  Cognitive classification VABB\n",
       "...              ...            ...                            ...\n",
       "46636  9791097361099                                              \n",
       "46637  9791188296200            5.4  Cognitive classification VABB\n",
       "46638  9791195038947            6.4  Cognitive classification VABB\n",
       "46639  9791195130504                                              \n",
       "46640  9791195130511                                              \n",
       "\n",
       "[46641 rows x 3 columns]"
      ]
     },
     "execution_count": 269,
     "metadata": {},
     "output_type": "execute_result"
    }
   ],
   "source": [
    "all_classifications.drop(columns=[\"manual fos\"])"
   ]
  },
  {
   "cell_type": "markdown",
   "metadata": {},
   "source": [
    "## Exporting the classification dataset"
   ]
  },
  {
   "cell_type": "code",
   "execution_count": 270,
   "metadata": {},
   "outputs": [],
   "source": [
    "all_classifications.to_csv(\"data/mappings_classification/all_classifications20221125.csv\")"
   ]
  }
 ],
 "metadata": {
  "kernelspec": {
   "display_name": "Python 3",
   "language": "python",
   "name": "python3"
  },
  "language_info": {
   "codemirror_mode": {
    "name": "ipython",
    "version": 3
   },
   "file_extension": ".py",
   "mimetype": "text/x-python",
   "name": "python",
   "nbconvert_exporter": "python",
   "pygments_lexer": "ipython3",
   "version": "3.8.5"
  }
 },
 "nbformat": 4,
 "nbformat_minor": 4
}
