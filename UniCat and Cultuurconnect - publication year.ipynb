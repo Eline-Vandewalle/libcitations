{
 "cells": [
  {
   "cell_type": "code",
   "execution_count": 1,
   "metadata": {},
   "outputs": [],
   "source": [
    "import pandas as pd\n",
    "import sqlite3\n",
    "import matplotlib.pyplot as plt\n",
    "import numpy as np\n",
    "\n",
    "import seaborn as sns"
   ]
  },
  {
   "cell_type": "markdown",
   "metadata": {},
   "source": [
    "## Import data"
   ]
  },
  {
   "cell_type": "code",
   "execution_count": 3,
   "metadata": {},
   "outputs": [],
   "source": [
    "VABB = pd.read_csv(\"data/cleaning/VABB_books_isbn_level.csv\", dtype={\"isbn\":\"str\"})\n",
    "VABB = VABB[[\"isbn\",\"VABB_pubyear\"]].copy()"
   ]
  },
  {
   "cell_type": "code",
   "execution_count": 6,
   "metadata": {},
   "outputs": [],
   "source": [
    "# import the UniCat data\n",
    "con_uc = sqlite3.connect(\"unicat_holdings.db\")\n",
    "\n",
    "holding_uc = pd.read_sql(\"\"\"SELECT i.isbn, h.work_id, COUNT(distinct location) holding_count_uc\n",
    "                        FROM holding h\n",
    "                        JOIN isbn_search i ON h.work_id = i.work_id\n",
    "                        GROUP BY i.isbn\"\"\", con_uc)"
   ]
  },
  {
   "cell_type": "code",
   "execution_count": 7,
   "metadata": {},
   "outputs": [],
   "source": [
    "# import the Cultuurconnect data\n",
    "con_cc = sqlite3.connect(\"cultuurconnect.db\")\n",
    "\n",
    "holding_cc = pd.read_sql(\"\"\"SELECT i.isbn, h.frabl, COUNT(distinct library) holding_count_cc\n",
    "            FROM holding h\n",
    "            JOIN isbns i ON h.frabl = i.frabl\n",
    "            GROUP BY i.isbn\"\"\", con_cc)"
   ]
  },
  {
   "cell_type": "markdown",
   "metadata": {},
   "source": [
    "## Cleaning"
   ]
  },
  {
   "cell_type": "code",
   "execution_count": 8,
   "metadata": {},
   "outputs": [
    {
     "data": {
      "text/plain": [
       "array(['2017', '2005', '2001', '2003', '2006', '2007', '2004', '2008',\n",
       "       '2013', '2014', '2015', '2019', '2000', '2018', '2010',\n",
       "       '2006;2005', '2015;2014;2001', '2002', '2003;2002', '2009;2010',\n",
       "       '2008;2010', '2009', '2012', '2014;2017;2015', '2011;2012', '2011',\n",
       "       '2014;2013', '2016', '2016;2017', '2003;2001',\n",
       "       '2017;2019;2016;2018', '2019;2017', '2019;2018', '2020',\n",
       "       '2003;2004', '2012;2013', '2014;2015', '2016;2015', '2018;2017',\n",
       "       '2006;2005;2004', '2008;2002', '2005;2004', '2008;2006',\n",
       "       '2008;2012', '2019;2015', '2016;2014', '2008;2009', '2013;2015',\n",
       "       '2017;2015', '2019;2016', '2014;2018', '2011;2010', '2009;2000',\n",
       "       '2005;2002', '2003;2013', '2008;2004', '2007;2000', '2012;2011',\n",
       "       '2008;2003;2009', '2007;2001', '2001;2002', '2009;2006',\n",
       "       '2008;2015', '2008;2001', '2009;2011', '2012;2013;2015',\n",
       "       '2016;2014;2015', '2007;2006', '2014;2010', '2011;2013',\n",
       "       '2013;2017', '2007;2003;2006', '2016;2013', '2009;2007',\n",
       "       '2008;2007', '2008;2007;2000', '2005;2001', '2008;2016',\n",
       "       '2012;2007', '2003;2005', '2017;2018;2015', '2018;2016;2017',\n",
       "       '2014;2017', '2017;2018', '2013;2014', '2009;2008', '2007;2016',\n",
       "       '2008;2000;2002', '2012;2016;2013;2015', '2012;2014', '2016;2010',\n",
       "       '2012;2008', '2012;2019;2015', '2012;2010', '2019;2014;2015',\n",
       "       '2016;2014;2018;2015', '2000;2001', '2004;2001', '2007;2010',\n",
       "       '2009;2006;2010', '2009;2005', '2011;2016', '2011;2015',\n",
       "       '2014;2005', '2012;2009', '2011;2009', '2010;2002', '2013;2010',\n",
       "       '2011;2013;2012', '2008;2005', '2009;2000;2001', '2004;2002',\n",
       "       '2003;2005;2002', '2008;2013;2005', '2009;2004', '2006;2004',\n",
       "       '2011;2007', '2017;2010', '2008;2000', '2011;2013;2010;2012',\n",
       "       '2016;2013;2017', '2007;2006;2005', '2000;2005;2001',\n",
       "       '2014;2010;2015;2016;2005',\n",
       "       '2009;2014;2017;2013;2015;2008;2011;2016;2012', '2009;2010;2015',\n",
       "       '2009;2014;2013;2010;2015;2011;2016;2012', '2011;2010;2012',\n",
       "       '2012;2017', '2011;2016;2014', '2014;2013;2015',\n",
       "       '2014;2016;2013;2017', '2018;2007;2003;2006;2010;2008;2001',\n",
       "       '2004;2005;2002', '2000;2005', '2011;2005', '2004;2005',\n",
       "       '2016;2017;2015', '2006;2002', '2009;2007;2008', '2003;2001;2002',\n",
       "       '2008;2007;2001', '2006;2010', '2008;2006;2009', '2008;2011',\n",
       "       '2007;2003;2006;2008;2005;2004', '2009;2007;2006;2005;2004',\n",
       "       '2008;2003', '2008;2007;2006', '2011;2013;2015', '2019;2020',\n",
       "       '2007;2005', '2003;2006', '2007;2003', '2000;2006;2001',\n",
       "       '2020;2019;2018;2017', '2017;2016;2018', '2016;2018',\n",
       "       '2003;2000;2004', '2014;2018;2015', '2006;2001', '2011;2006',\n",
       "       '2007;2003;2008;2001;2002;2005;2004', '2003;2005;2004;2002',\n",
       "       '2000;2002', '2016;2001', '2000;2003', '2000;2004',\n",
       "       '2008;2007;2009', '2011;2006;2001', '2008;2007;2006;2005',\n",
       "       '2009;2011;2010',\n",
       "       '2009;2019;2014;2017;2018;2007;2006;2013;2010;2008;2011;2016;2012',\n",
       "       '2007;2014', '2006;2004;2001;2002', '2012;2005', '2012;2006;2014',\n",
       "       '2008;2014;2012', '2007;2002', '2011;2007;2013;2010',\n",
       "       '2009;2019;2014;2017;2007;2013;2010;2015;2011;2016;2012',\n",
       "       '2009;2011;2014;2017;2018;2007;2003;2006;2013;2010;2015;2008;2012;2016;2005',\n",
       "       '2007;2003;2008;2000;2005',\n",
       "       '2009;2014;2013;2010;2015;2000;2011;2012', '2008;2013;2010;2012',\n",
       "       '2009;2010;2012', '2003;2010', '2006;2010;2008;2002;2005;2004',\n",
       "       '2011;2004;2010;2009', '2009;2011;2004;2010',\n",
       "       '2009;2007;2008;2000;2002;2005', '2008;2000;2006;2014',\n",
       "       '2008;2014;2015', '2009;2002', '2004;2010', '2012;2006;2017',\n",
       "       '2009;2015', '2009;2005;2004', '2009;2013', '2008;2007;2006;2009',\n",
       "       '2011;2010;2009', '2010;2015', '2012;2015', '2008;2007;2006;2011',\n",
       "       '2008;2011;2010', '2003;2006;2004;2002',\n",
       "       '2007;2003;2000;2002;2004', '2009;2007;2016', '2007;2003;2001',\n",
       "       '2009;2007;2004', '2014;2013;2010;2011;2012', '2006;2014',\n",
       "       '2009;2012', '2003;2004;2005', '2007;2004', '2005;2015',\n",
       "       '2003;2006;2004', '2008;2003;2005;2004', '2009;2008;2004;2010',\n",
       "       '2003;2005;2004', '2007;2005;2001', '2007;2005;2004',\n",
       "       '2009;2007;2006;2008;2001;2002;2005', '2009;2005;2001;2002;2004',\n",
       "       '2009;2000;2003', '2012;2017;2009', '2011;2001',\n",
       "       '2009;2006;2010;2008;2011', '2011;2018;2017;2015;2012',\n",
       "       '2019;2016;2018', '2016;2018;2015', '2000;2006', '2009;2003',\n",
       "       '2009;2008;2006', '2008;2007;2002', '2008;2007;2005;2009',\n",
       "       '2011;2008', '2009;2017;2018;2003;2015;2008;2002;2016;2005',\n",
       "       '2000;2001;2002', '2013;2006;2005;2014', '2012;2006', '2009;2014',\n",
       "       '2005;2007;2003;2006;2008;2000;2001;2002;2004',\n",
       "       '2009;2005;2007;2003;2006;2013;2008;2012;2004', '2012;2001',\n",
       "       '2005;2003;2006;2000;2001;2002;2004', '2009;2001',\n",
       "       '2003;2004;2001', '2007;2003;2005', '2007;2000;2001',\n",
       "       '2009;2014;2018',\n",
       "       '2009;2018;2007;2003;2006;2008;2001;2002;2011;2005',\n",
       "       '2009;2019;2014;2017;2018;2015;2016',\n",
       "       '2009;2019;2017;2018;2007;2006;2013;2010;2015;2008;2001;2002;2012;2016;2004',\n",
       "       '2014;2006;2013;2010;2002;2016;2003;2015;2008;2000;2001;2012;2005;2004;2009;2019;2017;2018;2007;2011',\n",
       "       '2009;2019;2018;2007;2003;2006;2010;2015;2008;2001;2002;2011;2016;2004',\n",
       "       '2012;2014;2013',\n",
       "       '2009;2014;2018;2007;2006;2013;2010;2015;2008;2000;2002;2011;2016;2004',\n",
       "       '2009;2019;2014;2017;2018;2007;2006;2013;2010;2015;2008;2001;2002;2011;2016;2005;2012',\n",
       "       '2018;2003;2006;2008;2000;2002', '2007;2010;2000;2001;2002',\n",
       "       '2009;2003;2017',\n",
       "       '2009;2019;2017;2005;2018;2007;2006;2013;2015;2008;2001;2002;2011;2016;2004',\n",
       "       '2013;2001',\n",
       "       '2014;2006;2013;2010;2002;2016;2003;2015;2008;2000;2001;2012;2005;2004;2009;2017;2018;2007;2011',\n",
       "       '2019;2003;2010;2002', '2007;2006;2004',\n",
       "       '2009;2007;2003;2006;2013;2010;2015;2008;2005', '2019;2005',\n",
       "       '2008;2007;2016', '2012;2007;2005', '2009;2007;2012', '2018;2015',\n",
       "       '2005;2007;2008;2002;2004', '2007;2003;2010;2012;2005',\n",
       "       '2009;2003;2010;2000;2001', '2006;2004;2002',\n",
       "       '2009;2014;2005;2007;2003;2006;2013;2010;2015;2008;2000;2001;2002;2011;2016;2004;2012',\n",
       "       '2009;2005;2007;2003;2006;2010;2015;2008;2000;2001;2002;2011;2016;2004;2012',\n",
       "       '2007;2006;2005;2001', '2000;2003;2001', '2009;2000;2005;2004',\n",
       "       '2006;2004;2005', '2006;2013', '2008;2003;2004',\n",
       "       '2003;2006;2005;2004', '2000;2003;2004', '2016;2005',\n",
       "       '2011;2007;2010;2012', '2008;2005;2001',\n",
       "       '2009;2019;2014;2017;2005;2018;2003;2006;2013;2015;2008;2000;2001;2002;2011;2016;2004',\n",
       "       '2006;2013;2010;2002;2016;2003;2015;2008;2000;2001;2012;2005;2004;2009;2019;2017;2018;2007;2011',\n",
       "       '2009;2019;2014;2017;2005;2007;2003;2006;2013;2010;2015;2008;2000;2002;2011;2004;2012',\n",
       "       '2014;2006;2013;2010;2002;2016;2003;2015;2008;2000;2001;2012;2004;2009;2019;2017;2018;2007;2011',\n",
       "       '2003;2013;2000;2001;2002', '2009;2011;2005;2002',\n",
       "       '2009;2014;2007;2003;2006;2010;2015;2008;2001;2002;2011;2016;2005;2004',\n",
       "       '2009;2007;2003;2000;2001',\n",
       "       '2009;2019;2014;2017;2018;2003;2006;2015;2008;2001;2002;2011;2016;2012',\n",
       "       '2007;2006;2010;2000;2001;2002;2012;2005',\n",
       "       '2005;2003;2006;2008;2000;2002;2004', '2005;2007;2000;2001;2004',\n",
       "       '2009;2006;2010;2008;2002', '2008;2006;2005',\n",
       "       '2009;2019;2017;2006;2013;2015;2008;2001;2004',\n",
       "       '2009;2014;2017;2012;2005', '2011;2007;2005;2002',\n",
       "       '2011;2007;2005', '2009;2011;2012', '2011;2008;2009',\n",
       "       '2008;2000;2004;2001', '2009;2017',\n",
       "       '2003;2006;2000;2001;2002;2004',\n",
       "       '2009;2007;2003;2010;2000;2001;2016;2005',\n",
       "       '2009;2003;2006;2010;2000;2001',\n",
       "       '2018;2007;2006;2010;2008;2011;2005', '2006;2010;2008;2000;2001',\n",
       "       '2003;2006;2008;2000;2001;2002', '2003;2008;2000;2001;2002;2004',\n",
       "       '2000;2010', '2009;2014;2007;2006;2013;2010;2011',\n",
       "       '2003;2000;2001;2002;2005', '2003;2006;2000;2001;2002;2005',\n",
       "       '2007;2006;2005;2010', '2011;2019', '2000;2006;2002',\n",
       "       '2006;2005;2002', '2014;2013;2015;2012;2016', '2007;2005;2018',\n",
       "       '2005;2010', '2007;2006;2001', '2009;2008;2011;2010',\n",
       "       '2007;2003;2004;2001', '2008;2013', '2008;2016;2017',\n",
       "       '2009;2015;2012', '2009;2000;2006;2003', '2007;2000;2004;2002',\n",
       "       '2007;2001;2002', '2008;2000;2004', '2009;2007;2006',\n",
       "       '2009;2007;2005;2001', '2018;2019;2017', '2008;2010;2009',\n",
       "       '2009;2011;2014;2013;2010;2012', '2019;2014',\n",
       "       '2011;2006;2010;2012;2005', '2012;2011;2010'], dtype=object)"
      ]
     },
     "execution_count": 8,
     "metadata": {},
     "output_type": "execute_result"
    }
   ],
   "source": [
    "# there are many publications where multiple publication years are mentiones (e.g because of editions)\n",
    "VABB.VABB_pubyear.unique()"
   ]
  },
  {
   "cell_type": "code",
   "execution_count": 9,
   "metadata": {},
   "outputs": [],
   "source": [
    "VABB.VABB_pubyear = VABB.VABB_pubyear.str.split(\";\").copy()\n",
    "VABB.VABB_pubyear = VABB.VABB_pubyear.apply(set).copy()\n",
    "VABB.VABB_pubyear = VABB.VABB_pubyear.apply(list)\n",
    "VABB.VABB_pubyear = VABB.VABB_pubyear.apply(lambda x: sorted(x)) # sort the publication years"
   ]
  },
  {
   "cell_type": "code",
   "execution_count": 10,
   "metadata": {},
   "outputs": [],
   "source": [
    "#only retain the earliest publication date\n",
    "VABB[\"pubyear\"] = VABB_pubyear = VABB.VABB_pubyear.apply(lambda x: x[0])"
   ]
  },
  {
   "cell_type": "markdown",
   "metadata": {},
   "source": [
    "## Add UniCat and Cultuurconnect"
   ]
  },
  {
   "cell_type": "code",
   "execution_count": 11,
   "metadata": {},
   "outputs": [],
   "source": [
    "df = VABB.merge(holding_uc, on=\"isbn\", how=\"outer\")"
   ]
  },
  {
   "cell_type": "code",
   "execution_count": 12,
   "metadata": {},
   "outputs": [],
   "source": [
    "df = df.merge(holding_cc, on=\"isbn\", how=\"outer\")"
   ]
  },
  {
   "cell_type": "code",
   "execution_count": 13,
   "metadata": {},
   "outputs": [],
   "source": [
    "df = df.fillna(0).copy()"
   ]
  },
  {
   "cell_type": "code",
   "execution_count": 14,
   "metadata": {},
   "outputs": [],
   "source": [
    "df[\"inCC\"] = df.holding_count_cc.apply(lambda x: True if x>0 else False)"
   ]
  },
  {
   "cell_type": "code",
   "execution_count": 15,
   "metadata": {},
   "outputs": [],
   "source": [
    "df[\"inUC\"] = df.holding_count_uc.apply(lambda x: True if x>0 else False)"
   ]
  },
  {
   "cell_type": "code",
   "execution_count": 16,
   "metadata": {},
   "outputs": [],
   "source": [
    "df.pubyear = df.pubyear.astype(int)"
   ]
  },
  {
   "cell_type": "code",
   "execution_count": 17,
   "metadata": {},
   "outputs": [],
   "source": [
    "df = df[df.pubyear < 2019]"
   ]
  },
  {
   "cell_type": "markdown",
   "metadata": {},
   "source": [
    "## Visualize"
   ]
  },
  {
   "cell_type": "code",
   "execution_count": 18,
   "metadata": {},
   "outputs": [],
   "source": [
    "VABB_years = pd.DataFrame(df.groupby(\"pubyear\").isbn.count()).reset_index().rename(columns={\"isbn\":\"count\"})"
   ]
  },
  {
   "cell_type": "code",
   "execution_count": 19,
   "metadata": {},
   "outputs": [],
   "source": [
    "CC = df[df.inCC == True]"
   ]
  },
  {
   "cell_type": "code",
   "execution_count": 20,
   "metadata": {},
   "outputs": [],
   "source": [
    "CC_years = pd.DataFrame(CC.groupby(\"pubyear\").isbn.count()).reset_index().rename(columns={\"isbn\":\"count\"})"
   ]
  },
  {
   "cell_type": "code",
   "execution_count": 21,
   "metadata": {},
   "outputs": [],
   "source": [
    "UC = df[df.inUC == True]\n",
    "UC_years = pd.DataFrame(UC.groupby(\"pubyear\").isbn.count()).reset_index().rename(columns={\"isbn\":\"count\"})"
   ]
  },
  {
   "cell_type": "code",
   "execution_count": 29,
   "metadata": {},
   "outputs": [
    {
     "data": {
      "image/png": "[encoded data removed]",
      "text/plain": [
       "<Figure size 432x288 with 1 Axes>"
      ]
     },
     "metadata": {
      "needs_background": "light"
     },
     "output_type": "display_data"
    }
   ],
   "source": [
    "fig, ax = plt.subplots()\n",
    "\n",
    "data = VABB_years\n",
    "\n",
    "sns.color_palette(\"colorblind\")\n",
    "\n",
    "sns.lineplot(data=VABB_years, x =\"pubyear\", y = \"count\",label=\"VABB\", linestyle = \"dotted\", ax=ax)\n",
    "sns.lineplot(data = UC_years, x =\"pubyear\", y=\"count\", label=\"research libraries\", linestyle = \"dashdot\", ax=ax)\n",
    "sns.lineplot(data = CC_years, x =\"pubyear\", y=\"count\", label=\"public libraries\", linestyle = \"dashed\", ax=ax)\n",
    "\n",
    "\n",
    "ax.set_xlabel(\"publication year\")\n",
    "plt.xticks(range(2000,2021,2))\n",
    "\n",
    "plt.savefig(\"plots/publication_years_colorblind.png\")"
   ]
  },
  {
   "cell_type": "code",
   "execution_count": null,
   "metadata": {},
   "outputs": [],
   "source": []
  }
 ],
 "metadata": {
  "kernelspec": {
   "display_name": "Python 3",
   "language": "python",
   "name": "python3"
  },
  "language_info": {
   "codemirror_mode": {
    "name": "ipython",
    "version": 3
   },
   "file_extension": ".py",
   "mimetype": "text/x-python",
   "name": "python",
   "nbconvert_exporter": "python",
   "pygments_lexer": "ipython3",
   "version": "3.8.5"
  }
 },
 "nbformat": 4,
 "nbformat_minor": 4
}
