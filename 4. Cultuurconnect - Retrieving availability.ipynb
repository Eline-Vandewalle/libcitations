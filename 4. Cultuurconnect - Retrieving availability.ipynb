{
 "cells": [
  {
   "cell_type": "markdown",
   "metadata": {},
   "source": [
    "# 4. Cultuurconnect - Retrieving availability -- productie"
   ]
  },
  {
   "cell_type": "markdown",
   "metadata": {},
   "source": [
    "Voor de productie-omgeving moet gewerkt worden met de urlibb library in plaats van requests. "
   ]
  },
  {
   "cell_type": "code",
   "execution_count": 2,
   "metadata": {},
   "outputs": [],
   "source": [
    "from urllib.request import urlopen, Request\n",
    "import pandas as pd\n",
    "from random import sample\n",
    "import lxml.etree as ET\n",
    "import time\n",
    "import json\n",
    "import tqdm\n",
    "import os\n",
    "import productie\n",
    "import importlib"
   ]
  },
  {
   "cell_type": "markdown",
   "metadata": {},
   "source": [
    "## Get data"
   ]
  },
  {
   "cell_type": "markdown",
   "metadata": {},
   "source": [
    "Hier wordt eerst de data geïmporteerd die nodig is voor de API searches. De frabls die eerder werden opgezocht, worden hier gebruikt. "
   ]
  },
  {
   "cell_type": "code",
   "execution_count": 5,
   "metadata": {},
   "outputs": [],
   "source": [
    "frabls=pd.read_csv(\"../data/all_frabls.csv\", dtype={'isbn':'str'}, index_col='Unnamed: 0')"
   ]
  },
  {
   "cell_type": "code",
   "execution_count": 6,
   "metadata": {},
   "outputs": [],
   "source": [
    "split_frabls = frabls.frabls.str.split(\";\")"
   ]
  },
  {
   "cell_type": "code",
   "execution_count": 7,
   "metadata": {},
   "outputs": [],
   "source": [
    "list_frabls = split_frabls[split_frabls.notna()]"
   ]
  },
  {
   "cell_type": "code",
   "execution_count": 8,
   "metadata": {},
   "outputs": [],
   "source": [
    "list_frabls = list_frabls.explode()"
   ]
  },
  {
   "cell_type": "code",
   "execution_count": 9,
   "metadata": {},
   "outputs": [],
   "source": [
    "list_frabls = list(set(list_frabls))"
   ]
  },
  {
   "cell_type": "code",
   "execution_count": 10,
   "metadata": {},
   "outputs": [
    {
     "data": {
      "text/plain": [
       "9301"
      ]
     },
     "execution_count": 10,
     "metadata": {},
     "output_type": "execute_result"
    }
   ],
   "source": [
    "len(list_frabls)"
   ]
  },
  {
   "cell_type": "markdown",
   "metadata": {},
   "source": [
    "## Get availability"
   ]
  },
  {
   "cell_type": "markdown",
   "metadata": {},
   "source": [
    "Hier wordt de informatie van de availability API opgehaald via urllib.request."
   ]
  },
  {
   "cell_type": "code",
   "execution_count": 27,
   "metadata": {},
   "outputs": [
    {
     "name": "stderr",
     "output_type": "stream",
     "text": [
      "  5%|███▊                                                                             | 12/258 [01:33<33:45,  8.23s/it]"
     ]
    },
    {
     "name": "stdout",
     "output_type": "stream",
     "text": [
      "HTTP Error 404: Not Found for url https://cataloguswebservices.bibliotheek.be/zbb/availability/?frabl=2A7B43EDC191ACA0&authorization=0e6fec374b9b9bcde69af351f9987c22&global=true\n"
     ]
    },
    {
     "name": "stderr",
     "output_type": "stream",
     "text": [
      "  6%|████▋                                                                            | 15/258 [02:08<39:09,  9.67s/it]"
     ]
    },
    {
     "name": "stdout",
     "output_type": "stream",
     "text": [
      "HTTP Error 404: Not Found for url https://cataloguswebservices.bibliotheek.be/zbb/availability/?frabl=56072529AF91ACA0&authorization=0e6fec374b9b9bcde69af351f9987c22&global=true\n"
     ]
    },
    {
     "name": "stderr",
     "output_type": "stream",
     "text": [
      "\r",
      "  6%|█████                                                                            | 16/258 [02:29<51:44, 12.83s/it]"
     ]
    },
    {
     "name": "stdout",
     "output_type": "stream",
     "text": [
      "HTTP Error 404: Not Found for url https://cataloguswebservices.bibliotheek.be/zbb/availability/?frabl=418BE712AC91ACA0&authorization=0e6fec374b9b9bcde69af351f9987c22&global=true\n"
     ]
    },
    {
     "name": "stderr",
     "output_type": "stream",
     "text": [
      " 12%|█████████▋                                                                       | 31/258 [04:31<27:10,  7.18s/it]"
     ]
    },
    {
     "name": "stdout",
     "output_type": "stream",
     "text": [
      "HTTP Error 404: Not Found for url https://cataloguswebservices.bibliotheek.be/zbb/availability/?frabl=2F62A8FA8EF1ACA0&authorization=0e6fec374b9b9bcde69af351f9987c22&global=true\n"
     ]
    },
    {
     "name": "stderr",
     "output_type": "stream",
     "text": [
      " 15%|████████████▏                                                                    | 39/258 [05:41<26:58,  7.39s/it]"
     ]
    },
    {
     "name": "stdout",
     "output_type": "stream",
     "text": [
      "HTTP Error 404: Not Found for url https://cataloguswebservices.bibliotheek.be/zbb/availability/?frabl=3102CC680FF1AC00&authorization=0e6fec374b9b9bcde69af351f9987c22&global=true\n"
     ]
    },
    {
     "name": "stderr",
     "output_type": "stream",
     "text": [
      " 20%|████████████████                                                                 | 51/258 [07:24<26:36,  7.71s/it]"
     ]
    },
    {
     "name": "stdout",
     "output_type": "stream",
     "text": [
      "HTTP Error 404: Not Found for url https://cataloguswebservices.bibliotheek.be/zbb/availability/?frabl=7C67DB27B3F1ACA0&authorization=0e6fec374b9b9bcde69af351f9987c22&global=true\n"
     ]
    },
    {
     "name": "stderr",
     "output_type": "stream",
     "text": [
      " 21%|████████████████▉                                                                | 54/258 [07:59<31:40,  9.32s/it]"
     ]
    },
    {
     "name": "stdout",
     "output_type": "stream",
     "text": [
      "HTTP Error 404: Not Found for url https://cataloguswebservices.bibliotheek.be/zbb/availability/?frabl=1BBF924244F1ACA0&authorization=0e6fec374b9b9bcde69af351f9987c22&global=true\n"
     ]
    },
    {
     "name": "stderr",
     "output_type": "stream",
     "text": [
      " 24%|███████████████████▊                                                             | 63/258 [09:21<25:39,  7.90s/it]"
     ]
    },
    {
     "name": "stdout",
     "output_type": "stream",
     "text": [
      "HTTP Error 404: Not Found for url https://cataloguswebservices.bibliotheek.be/zbb/availability/?frabl=5F1712B39891ACA0&authorization=0e6fec374b9b9bcde69af351f9987c22&global=true\n"
     ]
    },
    {
     "name": "stderr",
     "output_type": "stream",
     "text": [
      " 26%|█████████████████████▎                                                           | 68/258 [10:10<26:14,  8.29s/it]"
     ]
    },
    {
     "name": "stdout",
     "output_type": "stream",
     "text": [
      "HTTP Error 404: Not Found for url https://cataloguswebservices.bibliotheek.be/zbb/availability/?frabl=5B4BD1B34991ACA0&authorization=0e6fec374b9b9bcde69af351f9987c22&global=true\n"
     ]
    },
    {
     "name": "stderr",
     "output_type": "stream",
     "text": [
      " 31%|█████████████████████████                                                        | 80/258 [11:53<22:11,  7.48s/it]"
     ]
    },
    {
     "name": "stdout",
     "output_type": "stream",
     "text": [
      "HTTP Error 404: Not Found for url https://cataloguswebservices.bibliotheek.be/zbb/availability/?frabl=5CC0123D40F1ACA0&authorization=0e6fec374b9b9bcde69af351f9987c22&global=true\n"
     ]
    },
    {
     "name": "stderr",
     "output_type": "stream",
     "text": [
      " 33%|██████████████████████████▎                                                      | 84/258 [12:39<27:09,  9.36s/it]"
     ]
    },
    {
     "name": "stdout",
     "output_type": "stream",
     "text": [
      "HTTP Error 404: Not Found for url https://cataloguswebservices.bibliotheek.be/zbb/availability/?frabl=627FF2543B91ACA0&authorization=0e6fec374b9b9bcde69af351f9987c22&global=true\n"
     ]
    },
    {
     "name": "stderr",
     "output_type": "stream",
     "text": [
      " 35%|████████████████████████████▎                                                    | 90/258 [13:35<22:38,  8.09s/it]"
     ]
    },
    {
     "name": "stdout",
     "output_type": "stream",
     "text": [
      "HTTP Error 404: Not Found for url https://cataloguswebservices.bibliotheek.be/zbb/availability/?frabl=3FD2F4103DF1AC00&authorization=0e6fec374b9b9bcde69af351f9987c22&global=true\n"
     ]
    },
    {
     "name": "stderr",
     "output_type": "stream",
     "text": [
      " 36%|█████████████████████████████▏                                                   | 93/258 [14:13<27:38, 10.05s/it]"
     ]
    },
    {
     "name": "stdout",
     "output_type": "stream",
     "text": [
      "HTTP Error 404: Not Found for url https://cataloguswebservices.bibliotheek.be/zbb/availability/?frabl=28D4F8658191ACA0&authorization=0e6fec374b9b9bcde69af351f9987c22&global=true\n"
     ]
    },
    {
     "name": "stderr",
     "output_type": "stream",
     "text": [
      " 44%|███████████████████████████████████▎                                            | 114/258 [17:04<19:47,  8.25s/it]"
     ]
    },
    {
     "name": "stdout",
     "output_type": "stream",
     "text": [
      "HTTP Error 404: Not Found for url https://cataloguswebservices.bibliotheek.be/zbb/availability/?frabl=267583B4A491ACA0&authorization=0e6fec374b9b9bcde69af351f9987c22&global=true\n"
     ]
    },
    {
     "name": "stderr",
     "output_type": "stream",
     "text": [
      " 46%|████████████████████████████████████▉                                           | 119/258 [17:54<19:49,  8.56s/it]"
     ]
    },
    {
     "name": "stdout",
     "output_type": "stream",
     "text": [
      "HTTP Error 404: Not Found for url https://cataloguswebservices.bibliotheek.be/zbb/availability/?frabl=3B49378CF8F1ACA0&authorization=0e6fec374b9b9bcde69af351f9987c22&global=true\n"
     ]
    },
    {
     "name": "stderr",
     "output_type": "stream",
     "text": [
      " 49%|███████████████████████████████████████                                         | 126/258 [18:58<16:59,  7.72s/it]"
     ]
    },
    {
     "name": "stdout",
     "output_type": "stream",
     "text": [
      "HTTP Error 404: Not Found for url https://cataloguswebservices.bibliotheek.be/zbb/availability/?frabl=FE39C98DD91ACA0&authorization=0e6fec374b9b9bcde69af351f9987c22&global=true\n"
     ]
    },
    {
     "name": "stderr",
     "output_type": "stream",
     "text": [
      " 53%|██████████████████████████████████████████▍                                     | 137/258 [20:33<15:03,  7.47s/it]"
     ]
    },
    {
     "name": "stdout",
     "output_type": "stream",
     "text": [
      "HTTP Error 404: Not Found for url https://cataloguswebservices.bibliotheek.be/zbb/availability/?frabl=13258CFCA591ACA0&authorization=0e6fec374b9b9bcde69af351f9987c22&global=true\n"
     ]
    },
    {
     "name": "stderr",
     "output_type": "stream",
     "text": [
      " 55%|███████████████████████████████████████████▋                                    | 141/258 [21:14<16:39,  8.54s/it]"
     ]
    },
    {
     "name": "stdout",
     "output_type": "stream",
     "text": [
      "HTTP Error 404: Not Found for url https://cataloguswebservices.bibliotheek.be/zbb/availability/?frabl=2FCB4AC7A811ACA0&authorization=0e6fec374b9b9bcde69af351f9987c22&global=true\n"
     ]
    },
    {
     "name": "stderr",
     "output_type": "stream",
     "text": [
      "\r",
      " 55%|████████████████████████████████████████████                                    | 142/258 [21:34<23:15, 12.03s/it]"
     ]
    },
    {
     "name": "stdout",
     "output_type": "stream",
     "text": [
      "HTTP Error 404: Not Found for url https://cataloguswebservices.bibliotheek.be/zbb/availability/?frabl=57CE30CDFF1ACA0&authorization=0e6fec374b9b9bcde69af351f9987c22&global=true\n"
     ]
    },
    {
     "name": "stderr",
     "output_type": "stream",
     "text": [
      " 56%|████████████████████████████████████████████▉                                   | 145/258 [22:09<20:05, 10.67s/it]"
     ]
    },
    {
     "name": "stdout",
     "output_type": "stream",
     "text": [
      "HTTP Error 404: Not Found for url https://cataloguswebservices.bibliotheek.be/zbb/availability/?frabl=67A27AB72091ACA0&authorization=0e6fec374b9b9bcde69af351f9987c22&global=true\n"
     ]
    },
    {
     "name": "stderr",
     "output_type": "stream",
     "text": [
      " 57%|█████████████████████████████████████████████▌                                  | 147/258 [22:35<21:11, 11.45s/it]"
     ]
    },
    {
     "name": "stdout",
     "output_type": "stream",
     "text": [
      "HTTP Error 404: Not Found for url https://cataloguswebservices.bibliotheek.be/zbb/availability/?frabl=264872153191ACA0&authorization=0e6fec374b9b9bcde69af351f9987c22&global=true\n"
     ]
    },
    {
     "name": "stderr",
     "output_type": "stream",
     "text": [
      " 60%|███████████████████████████████████████████████▊                                | 154/258 [23:38<13:46,  7.95s/it]"
     ]
    },
    {
     "name": "stdout",
     "output_type": "stream",
     "text": [
      "HTTP Error 404: Not Found for url https://cataloguswebservices.bibliotheek.be/zbb/availability/?frabl=12C3A744F991ACA0&authorization=0e6fec374b9b9bcde69af351f9987c22&global=true\n"
     ]
    },
    {
     "name": "stderr",
     "output_type": "stream",
     "text": [
      " 62%|█████████████████████████████████████████████████▉                              | 161/258 [25:01<16:09, 10.00s/it]"
     ]
    },
    {
     "name": "stdout",
     "output_type": "stream",
     "text": [
      "HTTP Error 404: Not Found for url https://cataloguswebservices.bibliotheek.be/zbb/availability/?frabl=3F189D1EF7F1AC00&authorization=0e6fec374b9b9bcde69af351f9987c22&global=true\n"
     ]
    },
    {
     "name": "stderr",
     "output_type": "stream",
     "text": [
      " 69%|███████████████████████████████████████████████████████▌                        | 179/258 [27:31<09:56,  7.55s/it]"
     ]
    },
    {
     "name": "stdout",
     "output_type": "stream",
     "text": [
      "HTTP Error 404: Not Found for url https://cataloguswebservices.bibliotheek.be/zbb/availability/?frabl=5A593C3A6FF1ACA0&authorization=0e6fec374b9b9bcde69af351f9987c22&global=true\n"
     ]
    },
    {
     "name": "stderr",
     "output_type": "stream",
     "text": [
      " 77%|█████████████████████████████████████████████████████████████▋                  | 199/258 [30:10<06:56,  7.06s/it]"
     ]
    },
    {
     "name": "stdout",
     "output_type": "stream",
     "text": [
      "HTTP Error 404: Not Found for url https://cataloguswebservices.bibliotheek.be/zbb/availability/?frabl=77F05532E11AC00&authorization=0e6fec374b9b9bcde69af351f9987c22&global=true\n"
     ]
    },
    {
     "name": "stderr",
     "output_type": "stream",
     "text": [
      " 79%|███████████████████████████████████████████████████████████████▎                | 204/258 [31:00<07:29,  8.32s/it]"
     ]
    },
    {
     "name": "stdout",
     "output_type": "stream",
     "text": [
      "HTTP Error 404: Not Found for url https://cataloguswebservices.bibliotheek.be/zbb/availability/?frabl=3B578A049C91ACA0&authorization=0e6fec374b9b9bcde69af351f9987c22&global=true\n"
     ]
    },
    {
     "name": "stderr",
     "output_type": "stream",
     "text": [
      " 84%|██████████████████████████████████████████████████████████████████▉             | 216/258 [32:43<05:15,  7.51s/it]"
     ]
    },
    {
     "name": "stdout",
     "output_type": "stream",
     "text": [
      "HTTP Error 404: Not Found for url https://cataloguswebservices.bibliotheek.be/zbb/availability/?frabl=40380C150F11ACA0&authorization=0e6fec374b9b9bcde69af351f9987c22&global=true\n"
     ]
    },
    {
     "name": "stderr",
     "output_type": "stream",
     "text": [
      " 92%|█████████████████████████████████████████████████████████████████████████▊      | 238/258 [35:39<02:26,  7.33s/it]"
     ]
    },
    {
     "name": "stdout",
     "output_type": "stream",
     "text": [
      "HTTP Error 404: Not Found for url https://cataloguswebservices.bibliotheek.be/zbb/availability/?frabl=35EEA98AE991ACA0&authorization=0e6fec374b9b9bcde69af351f9987c22&global=true\n"
     ]
    },
    {
     "name": "stderr",
     "output_type": "stream",
     "text": [
      " 94%|███████████████████████████████████████████████████████████████████████████▎    | 243/258 [36:41<02:44, 10.94s/it]"
     ]
    },
    {
     "name": "stdout",
     "output_type": "stream",
     "text": [
      "HTTP Error 404: Not Found for url https://cataloguswebservices.bibliotheek.be/zbb/availability/?frabl=6C7D2A47B8F1ACA0&authorization=0e6fec374b9b9bcde69af351f9987c22&global=true\n"
     ]
    },
    {
     "name": "stderr",
     "output_type": "stream",
     "text": [
      " 97%|█████████████████████████████████████████████████████████████████████████████▌  | 250/258 [37:47<01:05,  8.18s/it]"
     ]
    },
    {
     "name": "stdout",
     "output_type": "stream",
     "text": [
      "HTTP Error 404: Not Found for url https://cataloguswebservices.bibliotheek.be/zbb/availability/?frabl=6F2D37E58D91ACA0&authorization=0e6fec374b9b9bcde69af351f9987c22&global=true\n"
     ]
    },
    {
     "name": "stderr",
     "output_type": "stream",
     "text": [
      "100%|████████████████████████████████████████████████████████████████████████████████| 258/258 [39:02<00:00,  9.08s/it]\n"
     ]
    }
   ],
   "source": [
    "sample = productie.get_response_availability_all(list_frabls, \"Raw_data_json/cultuurconnect_availability.json\")"
   ]
  },
  {
   "cell_type": "markdown",
   "metadata": {},
   "source": [
    "## Save availability information"
   ]
  },
  {
   "cell_type": "code",
   "execution_count": 39,
   "metadata": {},
   "outputs": [],
   "source": [
    "with open('Raw_data_json/cultuurconnect_availability.json','r') as f:\n",
    "        productie_dict = json.load(f)"
   ]
  },
  {
   "cell_type": "code",
   "execution_count": 40,
   "metadata": {},
   "outputs": [],
   "source": [
    "df = pd.DataFrame.from_dict(productie_dict, orient='index', columns = {'xml_response'}).reset_index()\n",
    "df.rename(columns = {'index':'frabl'}, inplace = True)"
   ]
  },
  {
   "cell_type": "code",
   "execution_count": 41,
   "metadata": {},
   "outputs": [
    {
     "data": {
      "text/plain": [
       "(121, 2)"
      ]
     },
     "execution_count": 41,
     "metadata": {},
     "output_type": "execute_result"
    }
   ],
   "source": [
    "df.shape"
   ]
  },
  {
   "cell_type": "code",
   "execution_count": 42,
   "metadata": {},
   "outputs": [],
   "source": [
    "df.to_csv(\"../data/productie/intermediate_sample.csv\")"
   ]
  },
  {
   "cell_type": "code",
   "execution_count": 44,
   "metadata": {},
   "outputs": [
    {
     "data": {
      "text/html": [
       "<div>\n",
       "<style scoped>\n",
       "    .dataframe tbody tr th:only-of-type {\n",
       "        vertical-align: middle;\n",
       "    }\n",
       "\n",
       "    .dataframe tbody tr th {\n",
       "        vertical-align: top;\n",
       "    }\n",
       "\n",
       "    .dataframe thead th {\n",
       "        text-align: right;\n",
       "    }\n",
       "</style>\n",
       "<table border=\"1\" class=\"dataframe\">\n",
       "  <thead>\n",
       "    <tr style=\"text-align: right;\">\n",
       "      <th></th>\n",
       "      <th>index</th>\n",
       "      <th>xml_response</th>\n",
       "    </tr>\n",
       "  </thead>\n",
       "  <tbody>\n",
       "    <tr>\n",
       "      <th>0</th>\n",
       "      <td>https://cataloguswebservices.bibliotheek.be/zb...</td>\n",
       "      <td>&lt;aquabrowser version=\"1\" before-rendering-time...</td>\n",
       "    </tr>\n",
       "    <tr>\n",
       "      <th>1</th>\n",
       "      <td>https://cataloguswebservices.bibliotheek.be/zb...</td>\n",
       "      <td>&lt;aquabrowser version=\"1\" before-rendering-time...</td>\n",
       "    </tr>\n",
       "    <tr>\n",
       "      <th>2</th>\n",
       "      <td>https://cataloguswebservices.bibliotheek.be/zb...</td>\n",
       "      <td>&lt;aquabrowser version=\"1\" before-rendering-time...</td>\n",
       "    </tr>\n",
       "    <tr>\n",
       "      <th>3</th>\n",
       "      <td>https://cataloguswebservices.bibliotheek.be/zb...</td>\n",
       "      <td>&lt;aquabrowser version=\"1\" before-rendering-time...</td>\n",
       "    </tr>\n",
       "    <tr>\n",
       "      <th>4</th>\n",
       "      <td>https://cataloguswebservices.bibliotheek.be/zb...</td>\n",
       "      <td>&lt;aquabrowser version=\"1\" before-rendering-time...</td>\n",
       "    </tr>\n",
       "    <tr>\n",
       "      <th>...</th>\n",
       "      <td>...</td>\n",
       "      <td>...</td>\n",
       "    </tr>\n",
       "    <tr>\n",
       "      <th>116</th>\n",
       "      <td>https://cataloguswebservices.bibliotheek.be/zb...</td>\n",
       "      <td>&lt;aquabrowser version=\"1\" before-rendering-time...</td>\n",
       "    </tr>\n",
       "    <tr>\n",
       "      <th>117</th>\n",
       "      <td>https://cataloguswebservices.bibliotheek.be/zb...</td>\n",
       "      <td>&lt;aquabrowser version=\"1\" before-rendering-time...</td>\n",
       "    </tr>\n",
       "    <tr>\n",
       "      <th>118</th>\n",
       "      <td>https://cataloguswebservices.bibliotheek.be/zb...</td>\n",
       "      <td>&lt;aquabrowser version=\"1\" before-rendering-time...</td>\n",
       "    </tr>\n",
       "    <tr>\n",
       "      <th>119</th>\n",
       "      <td>https://cataloguswebservices.bibliotheek.be/zb...</td>\n",
       "      <td>&lt;aquabrowser version=\"1\" before-rendering-time...</td>\n",
       "    </tr>\n",
       "    <tr>\n",
       "      <th>120</th>\n",
       "      <td>https://cataloguswebservices.bibliotheek.be/zb...</td>\n",
       "      <td>&lt;aquabrowser version=\"1\" before-rendering-time...</td>\n",
       "    </tr>\n",
       "  </tbody>\n",
       "</table>\n",
       "<p>121 rows × 2 columns</p>\n",
       "</div>"
      ],
      "text/plain": [
       "                                                 index  \\\n",
       "0    https://cataloguswebservices.bibliotheek.be/zb...   \n",
       "1    https://cataloguswebservices.bibliotheek.be/zb...   \n",
       "2    https://cataloguswebservices.bibliotheek.be/zb...   \n",
       "3    https://cataloguswebservices.bibliotheek.be/zb...   \n",
       "4    https://cataloguswebservices.bibliotheek.be/zb...   \n",
       "..                                                 ...   \n",
       "116  https://cataloguswebservices.bibliotheek.be/zb...   \n",
       "117  https://cataloguswebservices.bibliotheek.be/zb...   \n",
       "118  https://cataloguswebservices.bibliotheek.be/zb...   \n",
       "119  https://cataloguswebservices.bibliotheek.be/zb...   \n",
       "120  https://cataloguswebservices.bibliotheek.be/zb...   \n",
       "\n",
       "                                          xml_response  \n",
       "0    <aquabrowser version=\"1\" before-rendering-time...  \n",
       "1    <aquabrowser version=\"1\" before-rendering-time...  \n",
       "2    <aquabrowser version=\"1\" before-rendering-time...  \n",
       "3    <aquabrowser version=\"1\" before-rendering-time...  \n",
       "4    <aquabrowser version=\"1\" before-rendering-time...  \n",
       "..                                                 ...  \n",
       "116  <aquabrowser version=\"1\" before-rendering-time...  \n",
       "117  <aquabrowser version=\"1\" before-rendering-time...  \n",
       "118  <aquabrowser version=\"1\" before-rendering-time...  \n",
       "119  <aquabrowser version=\"1\" before-rendering-time...  \n",
       "120  <aquabrowser version=\"1\" before-rendering-time...  \n",
       "\n",
       "[121 rows x 2 columns]"
      ]
     },
     "execution_count": 44,
     "metadata": {},
     "output_type": "execute_result"
    }
   ],
   "source": [
    "pd.read_csv(\"../data/productie/intermediate_sample.csv\", index_col = 0)"
   ]
  },
  {
   "cell_type": "code",
   "execution_count": null,
   "metadata": {},
   "outputs": [],
   "source": []
  }
 ],
 "metadata": {
  "kernelspec": {
   "display_name": "Python 3",
   "language": "python",
   "name": "python3"
  },
  "language_info": {
   "codemirror_mode": {
    "name": "ipython",
    "version": 3
   },
   "file_extension": ".py",
   "mimetype": "text/x-python",
   "name": "python",
   "nbconvert_exporter": "python",
   "pygments_lexer": "ipython3",
   "version": "3.8.5"
  }
 },
 "nbformat": 4,
 "nbformat_minor": 4
}
