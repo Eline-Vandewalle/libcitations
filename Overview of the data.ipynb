{
 "cells": [
  {
   "cell_type": "code",
   "execution_count": 1,
   "metadata": {},
   "outputs": [],
   "source": [
    "import pandas as pd\n",
    "import sqlite3\n",
    "import os"
   ]
  },
  {
   "cell_type": "markdown",
   "metadata": {},
   "source": [
    "# Cultuurconnect"
   ]
  },
  {
   "cell_type": "code",
   "execution_count": 4,
   "metadata": {},
   "outputs": [],
   "source": [
    "all_frabls = pd.read_csv(\"all_frabls.csv\", index_col=0, dtype={\"isbn\":\"str\"})"
   ]
  },
  {
   "cell_type": "code",
   "execution_count": null,
   "metadata": {},
   "outputs": [],
   "source": [
    "holding = pd.read_csv(\"cultuurconnect_holding_information.csv\", index_col=0, dtype={'isbn':str})"
   ]
  },
  {
   "cell_type": "markdown",
   "metadata": {},
   "source": [
    "How many publications have a holding in one of the libraries?"
   ]
  },
  {
   "cell_type": "code",
   "execution_count": 13,
   "metadata": {},
   "outputs": [
    {
     "name": "stdout",
     "output_type": "stream",
     "text": [
      "9302 FRABL keys are associated with one of the ISBNs in our dataset\n"
     ]
    }
   ],
   "source": [
    "print(f\"\"\"{len(all_frabls[all_frabls.frabl.notna()])} FRABL keys are associated with one of the ISBNs in our dataset\"\"\")"
   ]
  },
  {
   "cell_type": "code",
   "execution_count": 18,
   "metadata": {},
   "outputs": [
    {
     "name": "stdout",
     "output_type": "stream",
     "text": [
      "This is 0.1994% of the data \n"
     ]
    }
   ],
   "source": [
    "print(f\"\"\"This is {round(len(all_frabls[all_frabls.frabl.notna()])/len(all_frabls), 4)}% of the data \"\"\")"
   ]
  },
  {
   "cell_type": "markdown",
   "metadata": {},
   "source": [
    "Not all publications with a FRABL key are actually held in one of the libraries. Publications may also have been removed from the library, for example."
   ]
  },
  {
   "cell_type": "code",
   "execution_count": 35,
   "metadata": {},
   "outputs": [],
   "source": [
    "holding = holding[[\"frabl\", \"library_list\"]]"
   ]
  },
  {
   "cell_type": "code",
   "execution_count": 37,
   "metadata": {},
   "outputs": [],
   "source": [
    "holding = holding[holding.library_list.notna()]"
   ]
  },
  {
   "cell_type": "code",
   "execution_count": 53,
   "metadata": {},
   "outputs": [],
   "source": [
    "frabls = all_frabls[all_frabls.frabl.notna()].copy()"
   ]
  },
  {
   "cell_type": "code",
   "execution_count": 54,
   "metadata": {},
   "outputs": [],
   "source": [
    "frabls[\"frabl\"] = frabls.frabl.str.split(\";\").copy()"
   ]
  },
  {
   "cell_type": "code",
   "execution_count": 57,
   "metadata": {},
   "outputs": [],
   "source": [
    "frabls = frabls.explode(\"frabl\").copy()"
   ]
  },
  {
   "cell_type": "code",
   "execution_count": 61,
   "metadata": {},
   "outputs": [],
   "source": [
    "isbns_with_holding = holding.merge(frabls, on=\"frabl\", how=\"right\")"
   ]
  },
  {
   "cell_type": "code",
   "execution_count": 63,
   "metadata": {},
   "outputs": [
    {
     "data": {
      "text/plain": [
       "9302"
      ]
     },
     "execution_count": 63,
     "metadata": {},
     "output_type": "execute_result"
    }
   ],
   "source": [
    "len(isbns_with_holding.isbn.unique())"
   ]
  },
  {
   "cell_type": "code",
   "execution_count": 66,
   "metadata": {},
   "outputs": [],
   "source": [
    "isbns_with_holding = isbns_with_holding[isbns_with_holding.library_list.notna()]"
   ]
  },
  {
   "cell_type": "code",
   "execution_count": 71,
   "metadata": {},
   "outputs": [
    {
     "name": "stdout",
     "output_type": "stream",
     "text": [
      "8675 of ISBNs from VABB have a holding in one of the Cultuurconnect libraries\n"
     ]
    }
   ],
   "source": [
    "print(f\"\"\"{len(isbns_with_holding.isbn.unique())} of ISBNs from VABB have a holding in one of the Cultuurconnect libraries\"\"\")"
   ]
  },
  {
   "cell_type": "markdown",
   "metadata": {},
   "source": [
    "# UniCat"
   ]
  },
  {
   "cell_type": "code",
   "execution_count": 74,
   "metadata": {},
   "outputs": [],
   "source": [
    "uc_con = sqlite3.connect(\"unicat_holdings.db\")"
   ]
  },
  {
   "cell_type": "code",
   "execution_count": 76,
   "metadata": {},
   "outputs": [],
   "source": [
    "isbns_unicat = pd.read_sql(\"\"\"SELECT isbn from isbn_search\"\"\", uc_con)"
   ]
  },
  {
   "cell_type": "code",
   "execution_count": 78,
   "metadata": {},
   "outputs": [
    {
     "name": "stdout",
     "output_type": "stream",
     "text": [
      "25528 ISBNs are found in the UniCat catalogue.\n"
     ]
    }
   ],
   "source": [
    "print(f\"\"\"{len(isbns_unicat)} ISBNs are found in the UniCat catalogue.\"\"\")"
   ]
  },
  {
   "cell_type": "code",
   "execution_count": 82,
   "metadata": {},
   "outputs": [
    {
     "name": "stdout",
     "output_type": "stream",
     "text": [
      "This is 0.5473% of ISBNs.\n"
     ]
    }
   ],
   "source": [
    "print(f\"\"\"This is {round(len(isbns_unicat)/len(all_frabls), 4)}% of ISBNs.\"\"\")"
   ]
  },
  {
   "cell_type": "code",
   "execution_count": null,
   "metadata": {},
   "outputs": [],
   "source": []
  }
 ],
 "metadata": {
  "kernelspec": {
   "display_name": "Python 3",
   "language": "python",
   "name": "python3"
  },
  "language_info": {
   "codemirror_mode": {
    "name": "ipython",
    "version": 3
   },
   "file_extension": ".py",
   "mimetype": "text/x-python",
   "name": "python",
   "nbconvert_exporter": "python",
   "pygments_lexer": "ipython3",
   "version": "3.8.5"
  }
 },
 "nbformat": 4,
 "nbformat_minor": 4
}
