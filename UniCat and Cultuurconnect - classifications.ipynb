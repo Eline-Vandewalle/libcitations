{
 "cells": [
  {
   "cell_type": "code",
   "execution_count": 1,
   "metadata": {},
   "outputs": [],
   "source": [
    "import pandas as pd\n",
    "import sqlite3\n",
    "import matplotlib.pyplot as plt\n",
    "import seaborn as sns"
   ]
  },
  {
   "cell_type": "markdown",
   "metadata": {},
   "source": [
    "# Classification\n",
    "\n",
    "Compare the disciplinary classifications between the Cultuurconnect and UniCat dataset. This is done on ISBN level to make them comparable to the whole VABB dataset (for which we do not have work-id's).\n",
    "\n",
    "We use the following: https://seaborn.pydata.org/examples/pairgrid_dotplot.html to visualize the data.\n",
    "\n",
    "## Import data"
   ]
  },
  {
   "cell_type": "code",
   "execution_count": 3,
   "metadata": {},
   "outputs": [],
   "source": [
    "# connect with cultuurconnect database\n",
    "con_cc = sqlite3.connect(\"cultuurconnect.db\")"
   ]
  },
  {
   "cell_type": "code",
   "execution_count": 4,
   "metadata": {},
   "outputs": [],
   "source": [
    "# import the classification information\n",
    "classifications = pd.read_csv(\"all_classifications20221125.csv\", index_col=0,dtype={\"isbn\":\"str\"})\n",
    "\n",
    "# import the names of the FOS disciplines\n",
    "names = pd.read_excel(\"FOS_names.xlsx\", dtype={\"Code\":str})"
   ]
  },
  {
   "cell_type": "code",
   "execution_count": 7,
   "metadata": {},
   "outputs": [],
   "source": [
    "# get the cultuurconnect holdings\n",
    "cc_holding = pd.read_sql(\"\"\"SELECT i.isbn, h.frabl, COUNT(distinct library) library_count\n",
    "            FROM holding h\n",
    "            JOIN isbns i ON h.frabl = i.frabl\n",
    "            GROUP BY i.isbn\"\"\", con_cc)"
   ]
  },
  {
   "cell_type": "code",
   "execution_count": 8,
   "metadata": {},
   "outputs": [],
   "source": [
    "cc_holding = cc_holding[[\"isbn\",\"library_count\"]].copy()"
   ]
  },
  {
   "cell_type": "code",
   "execution_count": 9,
   "metadata": {},
   "outputs": [],
   "source": [
    "# merge the holdings with the classification information\n",
    "df = classifications.merge(cc_holding, on=\"isbn\", how=\"outer\").rename(columns={\"library_count\":\"cc_library_count\"})"
   ]
  },
  {
   "cell_type": "code",
   "execution_count": 10,
   "metadata": {},
   "outputs": [],
   "source": [
    "# connect with the unicat database\n",
    "con_uc = sqlite3.connect(\"unicat_holdings.db\")"
   ]
  },
  {
   "cell_type": "code",
   "execution_count": 11,
   "metadata": {},
   "outputs": [],
   "source": [
    "# get the unicat holdings\n",
    "uc_holding = pd.read_sql(\"\"\"SELECT i.isbn, h.work_id, COUNT(distinct location) library_count\n",
    "                        FROM holding h\n",
    "                        JOIN isbn_search i ON h.work_id = i.work_id\n",
    "                        GROUP BY i.isbn\"\"\", con_uc)"
   ]
  },
  {
   "cell_type": "code",
   "execution_count": 13,
   "metadata": {},
   "outputs": [],
   "source": [
    "uc_holding = uc_holding[[\"isbn\",\"library_count\"]].copy()"
   ]
  },
  {
   "cell_type": "code",
   "execution_count": 14,
   "metadata": {},
   "outputs": [],
   "source": [
    "# merge with the classification information\n",
    "df = df.merge(uc_holding, on=\"isbn\", how=\"outer\").rename(columns={\"library_count\":\"uc_library_count\"}).copy()"
   ]
  },
  {
   "cell_type": "code",
   "execution_count": 15,
   "metadata": {},
   "outputs": [],
   "source": [
    "df = df[~df.classification.isna()].copy()"
   ]
  },
  {
   "cell_type": "markdown",
   "metadata": {},
   "source": [
    "### Explode the dataframe"
   ]
  },
  {
   "cell_type": "markdown",
   "metadata": {},
   "source": [
    "Some publications have more than one discipline assigned to them"
   ]
  },
  {
   "cell_type": "code",
   "execution_count": 16,
   "metadata": {},
   "outputs": [
    {
     "data": {
      "text/html": [
       "<div>\n",
       "<style scoped>\n",
       "    .dataframe tbody tr th:only-of-type {\n",
       "        vertical-align: middle;\n",
       "    }\n",
       "\n",
       "    .dataframe tbody tr th {\n",
       "        vertical-align: top;\n",
       "    }\n",
       "\n",
       "    .dataframe thead th {\n",
       "        text-align: right;\n",
       "    }\n",
       "</style>\n",
       "<table border=\"1\" class=\"dataframe\">\n",
       "  <thead>\n",
       "    <tr style=\"text-align: right;\">\n",
       "      <th></th>\n",
       "      <th>isbn</th>\n",
       "      <th>classification</th>\n",
       "      <th>classification_source</th>\n",
       "      <th>Name</th>\n",
       "      <th>cc_library_count</th>\n",
       "      <th>uc_library_count</th>\n",
       "    </tr>\n",
       "  </thead>\n",
       "  <tbody>\n",
       "    <tr>\n",
       "      <th>0</th>\n",
       "      <td>9780000000002</td>\n",
       "      <td>1.5;2.2;1.2</td>\n",
       "      <td>Cognitive classification VABB</td>\n",
       "      <td>Earth and related environmental sciences; Ele...</td>\n",
       "      <td>NaN</td>\n",
       "      <td>NaN</td>\n",
       "    </tr>\n",
       "    <tr>\n",
       "      <th>65</th>\n",
       "      <td>9780080449340</td>\n",
       "      <td>5.1;5.3;5.4;6.2.1</td>\n",
       "      <td>Cognitive classification VABB</td>\n",
       "      <td>Psychology and cognitive sciences; Educationa...</td>\n",
       "      <td>NaN</td>\n",
       "      <td>11.0</td>\n",
       "    </tr>\n",
       "    <tr>\n",
       "      <th>70</th>\n",
       "      <td>9780080450940</td>\n",
       "      <td>5.1;6.2.2;5.3;6.2.1</td>\n",
       "      <td>Cognitive classification VABB</td>\n",
       "      <td>Psychology and cognitive sciences; Literature...</td>\n",
       "      <td>NaN</td>\n",
       "      <td>9.0</td>\n",
       "    </tr>\n",
       "    <tr>\n",
       "      <th>73</th>\n",
       "      <td>9780080453255</td>\n",
       "      <td>5.1;6.2.2;5.3;6.2.1</td>\n",
       "      <td>Cognitive classification VABB</td>\n",
       "      <td>Psychology and cognitive sciences; Literature...</td>\n",
       "      <td>NaN</td>\n",
       "      <td>9.0</td>\n",
       "    </tr>\n",
       "    <tr>\n",
       "      <th>100</th>\n",
       "      <td>9780123725509</td>\n",
       "      <td>3.2;3.1;2.8;1.6</td>\n",
       "      <td>Cognitive classification VABB</td>\n",
       "      <td>Clinical medicine; Basic medicine; Environmen...</td>\n",
       "      <td>NaN</td>\n",
       "      <td>12.0</td>\n",
       "    </tr>\n",
       "    <tr>\n",
       "      <th>...</th>\n",
       "      <td>...</td>\n",
       "      <td>...</td>\n",
       "      <td>...</td>\n",
       "      <td>...</td>\n",
       "      <td>...</td>\n",
       "      <td>...</td>\n",
       "    </tr>\n",
       "    <tr>\n",
       "      <th>46543</th>\n",
       "      <td>9789993202967</td>\n",
       "      <td>5.3;6.3.2</td>\n",
       "      <td>Manual</td>\n",
       "      <td>Educational sciences; Religion</td>\n",
       "      <td>NaN</td>\n",
       "      <td>NaN</td>\n",
       "    </tr>\n",
       "    <tr>\n",
       "      <th>46606</th>\n",
       "      <td>9791091477024</td>\n",
       "      <td>5.1;2.1</td>\n",
       "      <td>Manual</td>\n",
       "      <td>Psychology and cognitive sciences; Civil engi...</td>\n",
       "      <td>NaN</td>\n",
       "      <td>NaN</td>\n",
       "    </tr>\n",
       "    <tr>\n",
       "      <th>46613</th>\n",
       "      <td>9791093095080</td>\n",
       "      <td>6.1.1;5.5;5.2</td>\n",
       "      <td>Cognitive classification VABB</td>\n",
       "      <td>History; Law; Economics and business</td>\n",
       "      <td>NaN</td>\n",
       "      <td>4.0</td>\n",
       "    </tr>\n",
       "    <tr>\n",
       "      <th>46615</th>\n",
       "      <td>9791093309026</td>\n",
       "      <td>6.4;6.1.1;6.1.2</td>\n",
       "      <td>Cognitive classification VABB</td>\n",
       "      <td>Arts (arts, history of arts, performing arts,...</td>\n",
       "      <td>NaN</td>\n",
       "      <td>2.0</td>\n",
       "    </tr>\n",
       "    <tr>\n",
       "      <th>46623</th>\n",
       "      <td>9791095457299</td>\n",
       "      <td>6.4;6.2.2</td>\n",
       "      <td>Cognitive classification VABB</td>\n",
       "      <td>Arts (arts, history of arts, performing arts,...</td>\n",
       "      <td>NaN</td>\n",
       "      <td>NaN</td>\n",
       "    </tr>\n",
       "  </tbody>\n",
       "</table>\n",
       "<p>1918 rows × 6 columns</p>\n",
       "</div>"
      ],
      "text/plain": [
       "                isbn       classification          classification_source  \\\n",
       "0      9780000000002          1.5;2.2;1.2  Cognitive classification VABB   \n",
       "65     9780080449340    5.1;5.3;5.4;6.2.1  Cognitive classification VABB   \n",
       "70     9780080450940  5.1;6.2.2;5.3;6.2.1  Cognitive classification VABB   \n",
       "73     9780080453255  5.1;6.2.2;5.3;6.2.1  Cognitive classification VABB   \n",
       "100    9780123725509      3.2;3.1;2.8;1.6  Cognitive classification VABB   \n",
       "...              ...                  ...                            ...   \n",
       "46543  9789993202967            5.3;6.3.2                         Manual   \n",
       "46606  9791091477024              5.1;2.1                         Manual   \n",
       "46613  9791093095080        6.1.1;5.5;5.2  Cognitive classification VABB   \n",
       "46615  9791093309026      6.4;6.1.1;6.1.2  Cognitive classification VABB   \n",
       "46623  9791095457299            6.4;6.2.2  Cognitive classification VABB   \n",
       "\n",
       "                                                    Name  cc_library_count  \\\n",
       "0       Earth and related environmental sciences; Ele...               NaN   \n",
       "65      Psychology and cognitive sciences; Educationa...               NaN   \n",
       "70      Psychology and cognitive sciences; Literature...               NaN   \n",
       "73      Psychology and cognitive sciences; Literature...               NaN   \n",
       "100     Clinical medicine; Basic medicine; Environmen...               NaN   \n",
       "...                                                  ...               ...   \n",
       "46543                     Educational sciences; Religion               NaN   \n",
       "46606   Psychology and cognitive sciences; Civil engi...               NaN   \n",
       "46613               History; Law; Economics and business               NaN   \n",
       "46615   Arts (arts, history of arts, performing arts,...               NaN   \n",
       "46623   Arts (arts, history of arts, performing arts,...               NaN   \n",
       "\n",
       "       uc_library_count  \n",
       "0                   NaN  \n",
       "65                 11.0  \n",
       "70                  9.0  \n",
       "73                  9.0  \n",
       "100                12.0  \n",
       "...                 ...  \n",
       "46543               NaN  \n",
       "46606               NaN  \n",
       "46613               4.0  \n",
       "46615               2.0  \n",
       "46623               NaN  \n",
       "\n",
       "[1918 rows x 6 columns]"
      ]
     },
     "execution_count": 16,
     "metadata": {},
     "output_type": "execute_result"
    }
   ],
   "source": [
    "df[df.classification.str.contains(\";\")]"
   ]
  },
  {
   "cell_type": "code",
   "execution_count": 17,
   "metadata": {},
   "outputs": [],
   "source": [
    "df.classification = df.classification.str.split(\";\")"
   ]
  },
  {
   "cell_type": "markdown",
   "metadata": {},
   "source": [
    "The column 'number of disciplines' will show how many disciplines each publication is associated with"
   ]
  },
  {
   "cell_type": "code",
   "execution_count": 18,
   "metadata": {},
   "outputs": [],
   "source": [
    "df[\"number of disciplines\"] = df.classification.apply(lambda x: len(x))"
   ]
  },
  {
   "cell_type": "code",
   "execution_count": 19,
   "metadata": {},
   "outputs": [],
   "source": [
    "df_expl = df.explode(\"classification\").drop(columns=\"Name\")"
   ]
  },
  {
   "cell_type": "markdown",
   "metadata": {},
   "source": [
    "Adjust the library counts for publications assigned to multiple disciplines"
   ]
  },
  {
   "cell_type": "code",
   "execution_count": 22,
   "metadata": {},
   "outputs": [],
   "source": [
    "df_expl[\"cc_adjusted\"] = df_expl.cc_library_count/df_expl[\"number of disciplines\"]"
   ]
  },
  {
   "cell_type": "code",
   "execution_count": 21,
   "metadata": {},
   "outputs": [],
   "source": [
    "df_expl[\"uc_adjusted\"] = df_expl.uc_library_count/df_expl[\"number of disciplines\"]"
   ]
  },
  {
   "cell_type": "code",
   "execution_count": 23,
   "metadata": {},
   "outputs": [],
   "source": [
    "# add names of fos-disciplines\n",
    "df_expl = df_expl.merge(names, how=\"left\", left_on=\"classification\", right_on=\"Code\").drop(columns=[\"Code\",\"Level\"])"
   ]
  },
  {
   "cell_type": "code",
   "execution_count": 24,
   "metadata": {},
   "outputs": [
    {
     "data": {
      "text/plain": [
       "(47749, 9)"
      ]
     },
     "execution_count": 24,
     "metadata": {},
     "output_type": "execute_result"
    }
   ],
   "source": [
    "df_expl.shape"
   ]
  },
  {
   "cell_type": "code",
   "execution_count": 25,
   "metadata": {},
   "outputs": [
    {
     "data": {
      "text/plain": [
       "isbn                         0\n",
       "classification               0\n",
       "classification_source      109\n",
       "cc_library_count         39487\n",
       "uc_library_count         21198\n",
       "number of disciplines        0\n",
       "uc_adjusted              21198\n",
       "cc_adjusted              39487\n",
       "Name                       104\n",
       "dtype: int64"
      ]
     },
     "execution_count": 25,
     "metadata": {},
     "output_type": "execute_result"
    }
   ],
   "source": [
    "df_expl.isnull().sum()"
   ]
  },
  {
   "cell_type": "markdown",
   "metadata": {},
   "source": [
    "## Create totals dataframe"
   ]
  },
  {
   "cell_type": "markdown",
   "metadata": {},
   "source": [
    "Calculate how many publications are associated with each of the disciplines. This is done for the entire VABB dataset, for the publications in Cultuurconnect and for the publications in UniCat. Here all publications are counted fully, but an alternative could be to take into account that publications can be assigned multiple disciplines (adjusted)."
   ]
  },
  {
   "cell_type": "code",
   "execution_count": 26,
   "metadata": {},
   "outputs": [],
   "source": [
    "total_classifications = pd.DataFrame(df_expl.groupby(\"Name\").isbn.count()).sort_values(by=\"isbn\", ascending = False).reset_index()"
   ]
  },
  {
   "cell_type": "code",
   "execution_count": 27,
   "metadata": {},
   "outputs": [],
   "source": [
    "CC = df_expl[df_expl.cc_adjusted.notna()]"
   ]
  },
  {
   "cell_type": "code",
   "execution_count": 28,
   "metadata": {},
   "outputs": [],
   "source": [
    "CC_classifications = pd.DataFrame(CC.groupby(\"Name\").isbn.count()).reset_index().rename(columns = {\"isbn\":\"CC_count\"})"
   ]
  },
  {
   "cell_type": "code",
   "execution_count": 29,
   "metadata": {},
   "outputs": [
    {
     "data": {
      "text/plain": [
       "(8262, 9)"
      ]
     },
     "execution_count": 29,
     "metadata": {},
     "output_type": "execute_result"
    }
   ],
   "source": [
    "CC.shape"
   ]
  },
  {
   "cell_type": "code",
   "execution_count": 30,
   "metadata": {},
   "outputs": [],
   "source": [
    "UC = df_expl[df_expl.uc_adjusted.notna()]"
   ]
  },
  {
   "cell_type": "code",
   "execution_count": 31,
   "metadata": {},
   "outputs": [],
   "source": [
    "UC_classifications = pd.DataFrame(UC.groupby(\"Name\").isbn.count()).reset_index().rename(columns= {\"isbn\":\"UC_count\"})"
   ]
  },
  {
   "cell_type": "code",
   "execution_count": 32,
   "metadata": {},
   "outputs": [],
   "source": [
    "total_classifications = total_classifications.merge(CC_classifications, on=\"Name\", how=\"outer\").copy()"
   ]
  },
  {
   "cell_type": "code",
   "execution_count": 33,
   "metadata": {},
   "outputs": [],
   "source": [
    "total_classifications = total_classifications.merge(UC_classifications, on=\"Name\", how=\"outer\").copy()"
   ]
  },
  {
   "cell_type": "code",
   "execution_count": 34,
   "metadata": {},
   "outputs": [],
   "source": [
    "total_classifications[\"CC_relative\"] = total_classifications.CC_count/total_classifications.isbn"
   ]
  },
  {
   "cell_type": "code",
   "execution_count": 35,
   "metadata": {},
   "outputs": [],
   "source": [
    "total_classifications[\"UC_relative\"] = total_classifications.UC_count/total_classifications.isbn"
   ]
  },
  {
   "cell_type": "code",
   "execution_count": 36,
   "metadata": {},
   "outputs": [
    {
     "data": {
      "text/html": [
       "<div>\n",
       "<style scoped>\n",
       "    .dataframe tbody tr th:only-of-type {\n",
       "        vertical-align: middle;\n",
       "    }\n",
       "\n",
       "    .dataframe tbody tr th {\n",
       "        vertical-align: top;\n",
       "    }\n",
       "\n",
       "    .dataframe thead th {\n",
       "        text-align: right;\n",
       "    }\n",
       "</style>\n",
       "<table border=\"1\" class=\"dataframe\">\n",
       "  <thead>\n",
       "    <tr style=\"text-align: right;\">\n",
       "      <th></th>\n",
       "      <th>Name</th>\n",
       "      <th>isbn</th>\n",
       "      <th>CC_count</th>\n",
       "      <th>UC_count</th>\n",
       "      <th>CC_relative</th>\n",
       "      <th>UC_relative</th>\n",
       "    </tr>\n",
       "  </thead>\n",
       "  <tbody>\n",
       "    <tr>\n",
       "      <th>0</th>\n",
       "      <td>Law</td>\n",
       "      <td>8097</td>\n",
       "      <td>1574.0</td>\n",
       "      <td>4782.0</td>\n",
       "      <td>0.194393</td>\n",
       "      <td>0.590589</td>\n",
       "    </tr>\n",
       "    <tr>\n",
       "      <th>1</th>\n",
       "      <td>Economics and business</td>\n",
       "      <td>4222</td>\n",
       "      <td>569.0</td>\n",
       "      <td>2148.0</td>\n",
       "      <td>0.134770</td>\n",
       "      <td>0.508764</td>\n",
       "    </tr>\n",
       "    <tr>\n",
       "      <th>2</th>\n",
       "      <td>Sociology</td>\n",
       "      <td>4210</td>\n",
       "      <td>607.0</td>\n",
       "      <td>2402.0</td>\n",
       "      <td>0.144181</td>\n",
       "      <td>0.570546</td>\n",
       "    </tr>\n",
       "  </tbody>\n",
       "</table>\n",
       "</div>"
      ],
      "text/plain": [
       "                      Name  isbn  CC_count  UC_count  CC_relative  UC_relative\n",
       "0                      Law  8097    1574.0    4782.0     0.194393     0.590589\n",
       "1   Economics and business  4222     569.0    2148.0     0.134770     0.508764\n",
       "2                Sociology  4210     607.0    2402.0     0.144181     0.570546"
      ]
     },
     "execution_count": 36,
     "metadata": {},
     "output_type": "execute_result"
    }
   ],
   "source": [
    "total_classifications.head(3)"
   ]
  },
  {
   "cell_type": "markdown",
   "metadata": {},
   "source": [
    "Many disciplines only appear in very few publications. For easier readability of the table, the cut-off is set at 300."
   ]
  },
  {
   "cell_type": "code",
   "execution_count": 37,
   "metadata": {},
   "outputs": [],
   "source": [
    "total_classifications = total_classifications[total_classifications.isbn >= 300].copy()"
   ]
  },
  {
   "cell_type": "code",
   "execution_count": 38,
   "metadata": {},
   "outputs": [
    {
     "data": {
      "text/html": [
       "<div>\n",
       "<style scoped>\n",
       "    .dataframe tbody tr th:only-of-type {\n",
       "        vertical-align: middle;\n",
       "    }\n",
       "\n",
       "    .dataframe tbody tr th {\n",
       "        vertical-align: top;\n",
       "    }\n",
       "\n",
       "    .dataframe thead th {\n",
       "        text-align: right;\n",
       "    }\n",
       "</style>\n",
       "<table border=\"1\" class=\"dataframe\">\n",
       "  <thead>\n",
       "    <tr style=\"text-align: right;\">\n",
       "      <th></th>\n",
       "      <th>Name</th>\n",
       "      <th>isbn</th>\n",
       "      <th>CC_count</th>\n",
       "      <th>UC_count</th>\n",
       "      <th>CC_relative</th>\n",
       "      <th>UC_relative</th>\n",
       "    </tr>\n",
       "  </thead>\n",
       "  <tbody>\n",
       "    <tr>\n",
       "      <th>0</th>\n",
       "      <td>Law</td>\n",
       "      <td>8097</td>\n",
       "      <td>1574.0</td>\n",
       "      <td>4782.0</td>\n",
       "      <td>0.194393</td>\n",
       "      <td>0.590589</td>\n",
       "    </tr>\n",
       "    <tr>\n",
       "      <th>1</th>\n",
       "      <td>Economics and business</td>\n",
       "      <td>4222</td>\n",
       "      <td>569.0</td>\n",
       "      <td>2148.0</td>\n",
       "      <td>0.134770</td>\n",
       "      <td>0.508764</td>\n",
       "    </tr>\n",
       "    <tr>\n",
       "      <th>2</th>\n",
       "      <td>Sociology</td>\n",
       "      <td>4210</td>\n",
       "      <td>607.0</td>\n",
       "      <td>2402.0</td>\n",
       "      <td>0.144181</td>\n",
       "      <td>0.570546</td>\n",
       "    </tr>\n",
       "    <tr>\n",
       "      <th>3</th>\n",
       "      <td>Literature</td>\n",
       "      <td>3229</td>\n",
       "      <td>563.0</td>\n",
       "      <td>1909.0</td>\n",
       "      <td>0.174357</td>\n",
       "      <td>0.591205</td>\n",
       "    </tr>\n",
       "    <tr>\n",
       "      <th>4</th>\n",
       "      <td>Languages and linguistics</td>\n",
       "      <td>3178</td>\n",
       "      <td>267.0</td>\n",
       "      <td>1761.0</td>\n",
       "      <td>0.084015</td>\n",
       "      <td>0.554122</td>\n",
       "    </tr>\n",
       "    <tr>\n",
       "      <th>5</th>\n",
       "      <td>History</td>\n",
       "      <td>3167</td>\n",
       "      <td>745.0</td>\n",
       "      <td>2105.0</td>\n",
       "      <td>0.235238</td>\n",
       "      <td>0.664667</td>\n",
       "    </tr>\n",
       "    <tr>\n",
       "      <th>6</th>\n",
       "      <td>Arts (arts, history of arts, performing arts,...</td>\n",
       "      <td>3077</td>\n",
       "      <td>960.0</td>\n",
       "      <td>1953.0</td>\n",
       "      <td>0.311992</td>\n",
       "      <td>0.634709</td>\n",
       "    </tr>\n",
       "    <tr>\n",
       "      <th>7</th>\n",
       "      <td>Religion</td>\n",
       "      <td>2582</td>\n",
       "      <td>344.0</td>\n",
       "      <td>1638.0</td>\n",
       "      <td>0.133230</td>\n",
       "      <td>0.634392</td>\n",
       "    </tr>\n",
       "    <tr>\n",
       "      <th>8</th>\n",
       "      <td>Political science</td>\n",
       "      <td>2462</td>\n",
       "      <td>403.0</td>\n",
       "      <td>1489.0</td>\n",
       "      <td>0.163688</td>\n",
       "      <td>0.604793</td>\n",
       "    </tr>\n",
       "    <tr>\n",
       "      <th>9</th>\n",
       "      <td>Educational sciences</td>\n",
       "      <td>2048</td>\n",
       "      <td>519.0</td>\n",
       "      <td>1011.0</td>\n",
       "      <td>0.253418</td>\n",
       "      <td>0.493652</td>\n",
       "    </tr>\n",
       "    <tr>\n",
       "      <th>10</th>\n",
       "      <td>Philosophy and ethics</td>\n",
       "      <td>1963</td>\n",
       "      <td>342.0</td>\n",
       "      <td>1271.0</td>\n",
       "      <td>0.174223</td>\n",
       "      <td>0.647478</td>\n",
       "    </tr>\n",
       "    <tr>\n",
       "      <th>11</th>\n",
       "      <td>Computer and information sciences</td>\n",
       "      <td>1323</td>\n",
       "      <td>19.0</td>\n",
       "      <td>325.0</td>\n",
       "      <td>0.014361</td>\n",
       "      <td>0.245654</td>\n",
       "    </tr>\n",
       "    <tr>\n",
       "      <th>12</th>\n",
       "      <td>Other social sciences</td>\n",
       "      <td>961</td>\n",
       "      <td>195.0</td>\n",
       "      <td>590.0</td>\n",
       "      <td>0.202914</td>\n",
       "      <td>0.613944</td>\n",
       "    </tr>\n",
       "    <tr>\n",
       "      <th>13</th>\n",
       "      <td>Psychology and cognitive sciences</td>\n",
       "      <td>809</td>\n",
       "      <td>132.0</td>\n",
       "      <td>426.0</td>\n",
       "      <td>0.163164</td>\n",
       "      <td>0.526576</td>\n",
       "    </tr>\n",
       "    <tr>\n",
       "      <th>14</th>\n",
       "      <td>Clinical medicine</td>\n",
       "      <td>723</td>\n",
       "      <td>49.0</td>\n",
       "      <td>343.0</td>\n",
       "      <td>0.067773</td>\n",
       "      <td>0.474412</td>\n",
       "    </tr>\n",
       "    <tr>\n",
       "      <th>15</th>\n",
       "      <td>Basic medicine</td>\n",
       "      <td>657</td>\n",
       "      <td>315.0</td>\n",
       "      <td>431.0</td>\n",
       "      <td>0.479452</td>\n",
       "      <td>0.656012</td>\n",
       "    </tr>\n",
       "    <tr>\n",
       "      <th>16</th>\n",
       "      <td>Media and communications</td>\n",
       "      <td>654</td>\n",
       "      <td>135.0</td>\n",
       "      <td>291.0</td>\n",
       "      <td>0.206422</td>\n",
       "      <td>0.444954</td>\n",
       "    </tr>\n",
       "    <tr>\n",
       "      <th>17</th>\n",
       "      <td>Mathematics</td>\n",
       "      <td>495</td>\n",
       "      <td>25.0</td>\n",
       "      <td>186.0</td>\n",
       "      <td>0.050505</td>\n",
       "      <td>0.375758</td>\n",
       "    </tr>\n",
       "    <tr>\n",
       "      <th>18</th>\n",
       "      <td>Health sciences</td>\n",
       "      <td>487</td>\n",
       "      <td>86.0</td>\n",
       "      <td>231.0</td>\n",
       "      <td>0.176591</td>\n",
       "      <td>0.474333</td>\n",
       "    </tr>\n",
       "    <tr>\n",
       "      <th>19</th>\n",
       "      <td>Social and economic geography</td>\n",
       "      <td>449</td>\n",
       "      <td>80.0</td>\n",
       "      <td>204.0</td>\n",
       "      <td>0.178174</td>\n",
       "      <td>0.454343</td>\n",
       "    </tr>\n",
       "    <tr>\n",
       "      <th>20</th>\n",
       "      <td>Other engineering and technologies</td>\n",
       "      <td>429</td>\n",
       "      <td>26.0</td>\n",
       "      <td>136.0</td>\n",
       "      <td>0.060606</td>\n",
       "      <td>0.317016</td>\n",
       "    </tr>\n",
       "    <tr>\n",
       "      <th>21</th>\n",
       "      <td>Civil engineering</td>\n",
       "      <td>335</td>\n",
       "      <td>6.0</td>\n",
       "      <td>69.0</td>\n",
       "      <td>0.017910</td>\n",
       "      <td>0.205970</td>\n",
       "    </tr>\n",
       "  </tbody>\n",
       "</table>\n",
       "</div>"
      ],
      "text/plain": [
       "                                                 Name  isbn  CC_count  \\\n",
       "0                                                 Law  8097    1574.0   \n",
       "1                              Economics and business  4222     569.0   \n",
       "2                                           Sociology  4210     607.0   \n",
       "3                                          Literature  3229     563.0   \n",
       "4                           Languages and linguistics  3178     267.0   \n",
       "5                                             History  3167     745.0   \n",
       "6    Arts (arts, history of arts, performing arts,...  3077     960.0   \n",
       "7                                            Religion  2582     344.0   \n",
       "8                                   Political science  2462     403.0   \n",
       "9                                Educational sciences  2048     519.0   \n",
       "10                              Philosophy and ethics  1963     342.0   \n",
       "11                  Computer and information sciences  1323      19.0   \n",
       "12                              Other social sciences   961     195.0   \n",
       "13                  Psychology and cognitive sciences   809     132.0   \n",
       "14                                  Clinical medicine   723      49.0   \n",
       "15                                     Basic medicine   657     315.0   \n",
       "16                           Media and communications   654     135.0   \n",
       "17                                        Mathematics   495      25.0   \n",
       "18                                    Health sciences   487      86.0   \n",
       "19                      Social and economic geography   449      80.0   \n",
       "20                 Other engineering and technologies   429      26.0   \n",
       "21                                  Civil engineering   335       6.0   \n",
       "\n",
       "    UC_count  CC_relative  UC_relative  \n",
       "0     4782.0     0.194393     0.590589  \n",
       "1     2148.0     0.134770     0.508764  \n",
       "2     2402.0     0.144181     0.570546  \n",
       "3     1909.0     0.174357     0.591205  \n",
       "4     1761.0     0.084015     0.554122  \n",
       "5     2105.0     0.235238     0.664667  \n",
       "6     1953.0     0.311992     0.634709  \n",
       "7     1638.0     0.133230     0.634392  \n",
       "8     1489.0     0.163688     0.604793  \n",
       "9     1011.0     0.253418     0.493652  \n",
       "10    1271.0     0.174223     0.647478  \n",
       "11     325.0     0.014361     0.245654  \n",
       "12     590.0     0.202914     0.613944  \n",
       "13     426.0     0.163164     0.526576  \n",
       "14     343.0     0.067773     0.474412  \n",
       "15     431.0     0.479452     0.656012  \n",
       "16     291.0     0.206422     0.444954  \n",
       "17     186.0     0.050505     0.375758  \n",
       "18     231.0     0.176591     0.474333  \n",
       "19     204.0     0.178174     0.454343  \n",
       "20     136.0     0.060606     0.317016  \n",
       "21      69.0     0.017910     0.205970  "
      ]
     },
     "execution_count": 38,
     "metadata": {},
     "output_type": "execute_result"
    }
   ],
   "source": [
    "total_classifications"
   ]
  },
  {
   "cell_type": "markdown",
   "metadata": {},
   "source": [
    "## Visualize"
   ]
  },
  {
   "cell_type": "code",
   "execution_count": 39,
   "metadata": {},
   "outputs": [
    {
     "data": {
      "text/html": [
       "<div>\n",
       "<style scoped>\n",
       "    .dataframe tbody tr th:only-of-type {\n",
       "        vertical-align: middle;\n",
       "    }\n",
       "\n",
       "    .dataframe tbody tr th {\n",
       "        vertical-align: top;\n",
       "    }\n",
       "\n",
       "    .dataframe thead th {\n",
       "        text-align: right;\n",
       "    }\n",
       "</style>\n",
       "<table border=\"1\" class=\"dataframe\">\n",
       "  <thead>\n",
       "    <tr style=\"text-align: right;\">\n",
       "      <th></th>\n",
       "      <th>Name</th>\n",
       "      <th>isbn</th>\n",
       "      <th>CC_count</th>\n",
       "      <th>UC_count</th>\n",
       "      <th>CC_relative</th>\n",
       "      <th>UC_relative</th>\n",
       "    </tr>\n",
       "  </thead>\n",
       "  <tbody>\n",
       "    <tr>\n",
       "      <th>0</th>\n",
       "      <td>Law</td>\n",
       "      <td>8097</td>\n",
       "      <td>1574.0</td>\n",
       "      <td>4782.0</td>\n",
       "      <td>0.194393</td>\n",
       "      <td>0.590589</td>\n",
       "    </tr>\n",
       "    <tr>\n",
       "      <th>1</th>\n",
       "      <td>Economics and business</td>\n",
       "      <td>4222</td>\n",
       "      <td>569.0</td>\n",
       "      <td>2148.0</td>\n",
       "      <td>0.134770</td>\n",
       "      <td>0.508764</td>\n",
       "    </tr>\n",
       "  </tbody>\n",
       "</table>\n",
       "</div>"
      ],
      "text/plain": [
       "                      Name  isbn  CC_count  UC_count  CC_relative  UC_relative\n",
       "0                      Law  8097    1574.0    4782.0     0.194393     0.590589\n",
       "1   Economics and business  4222     569.0    2148.0     0.134770     0.508764"
      ]
     },
     "execution_count": 39,
     "metadata": {},
     "output_type": "execute_result"
    }
   ],
   "source": [
    "total_classifications.head(2)"
   ]
  },
  {
   "cell_type": "code",
   "execution_count": 40,
   "metadata": {},
   "outputs": [
    {
     "data": {
      "text/plain": [
       "Index(['isbn', 'CC_count', 'UC_count'], dtype='object')"
      ]
     },
     "execution_count": 40,
     "metadata": {},
     "output_type": "execute_result"
    }
   ],
   "source": [
    "total_classifications.columns[1:4]"
   ]
  },
  {
   "cell_type": "code",
   "execution_count": 41,
   "metadata": {},
   "outputs": [
    {
     "data": {
      "text/plain": [
       "<Figure size 1440x720 with 0 Axes>"
      ]
     },
     "metadata": {},
     "output_type": "display_data"
    },
    {
     "data": {
      "image/png": "[encoded data removed]",
      "text/plain": [
       "<Figure size 540x720 with 3 Axes>"
      ]
     },
     "metadata": {
      "needs_background": "light"
     },
     "output_type": "display_data"
    }
   ],
   "source": [
    "# visualize with the same barplot\n",
    "fig=plt.figure(figsize=(20,10))\n",
    "\n",
    "data = total_classifications.sort_values(by=\"isbn\", ascending = False).head(20)\n",
    "\n",
    "# make the pairgrid\n",
    "g = sns.PairGrid(data.sort_values(\"isbn\", ascending=False),\n",
    "                x_vars=data.columns[1:4], y_vars=[\"Name\"],\n",
    "                height=10, aspect=0.25)\n",
    "\n",
    "# draw a plot using the stripplot function\n",
    "g.map(sns.stripplot, size=10, orient=\"h\", jitter=False,\n",
    "     color=\"black\", linewidth=1, edgecolor=\"w\")\n",
    "\n",
    "# Use same x-axis limits on all columns and add better labels\n",
    "g.set(xlabel=\"absolute counts\", ylabel=\"\")\n",
    "\n",
    "titles = [\"Total counts\", \"Public library count\", \"Research libary count\"]\n",
    "\n",
    "for ax, title in zip(g.axes.flat, titles):\n",
    "\n",
    "    # Set a different title for each axes\n",
    "    ax.set(title=title)\n",
    "\n",
    "    # Make the grid horizontal instead of vertical\n",
    "    ax.xaxis.grid(False)\n",
    "    ax.yaxis.grid(True)\n",
    "\n",
    "sns.despine(left=True, bottom=True)\n",
    "\n",
    "\n",
    "plt.savefig(\"plots/classification_counts.png\", bbox_inches=\"tight\")\n"
   ]
  }
 ],
 "metadata": {
  "kernelspec": {
   "display_name": "Python 3",
   "language": "python",
   "name": "python3"
  },
  "language_info": {
   "codemirror_mode": {
    "name": "ipython",
    "version": 3
   },
   "file_extension": ".py",
   "mimetype": "text/x-python",
   "name": "python",
   "nbconvert_exporter": "python",
   "pygments_lexer": "ipython3",
   "version": "3.8.5"
  }
 },
 "nbformat": 4,
 "nbformat_minor": 4
}
