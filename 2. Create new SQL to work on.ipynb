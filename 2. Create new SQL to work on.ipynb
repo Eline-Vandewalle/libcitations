{
 "cells": [
  {
   "cell_type": "code",
   "execution_count": 37,
   "metadata": {},
   "outputs": [],
   "source": [
    "import pandas as pd\n",
    "import os\n",
    "import sqlite3 \n",
    "import sqlite_utils\n",
    "from lxml import etree\n",
    "import unicat\n",
    "from tqdm.auto import tqdm"
   ]
  },
  {
   "cell_type": "code",
   "execution_count": 84,
   "metadata": {},
   "outputs": [],
   "source": [
    "os.chdir(\"C:\\\\Users\\\\EVandewalle\\\\Documents\\\\Libcitations_2\")"
   ]
  },
  {
   "cell_type": "markdown",
   "metadata": {},
   "source": [
    "## Get vabb_isbn, unicat_work, manifestation and failure from the unicat.db\n",
    "\n",
    "The original unicat database contained information on the isbns from VABB, and the results of the API search."
   ]
  },
  {
   "cell_type": "code",
   "execution_count": 57,
   "metadata": {},
   "outputs": [],
   "source": [
    "con = sqlite3.connect(r\"unicat_test.db\")"
   ]
  },
  {
   "cell_type": "code",
   "execution_count": 58,
   "metadata": {},
   "outputs": [],
   "source": [
    "unicat_work = pd.read_sql(\"SELECT id, url, raw_result FROM unicat_work\", con)"
   ]
  },
  {
   "cell_type": "code",
   "execution_count": 59,
   "metadata": {},
   "outputs": [],
   "source": [
    "vabb_isbn = pd.read_sql(\"SELECT number_nr, isbn FROM vabb_isbn\", con)"
   ]
  },
  {
   "cell_type": "code",
   "execution_count": 60,
   "metadata": {},
   "outputs": [],
   "source": [
    "failure = pd.read_sql(\"SELECT isbn, error FROM failure\", con)"
   ]
  },
  {
   "cell_type": "code",
   "execution_count": 105,
   "metadata": {},
   "outputs": [],
   "source": [
    "manifestation = pd.read_sql(\"SELECT isbn, work_id FROM manifestation\", con)"
   ]
  },
  {
   "cell_type": "markdown",
   "metadata": {},
   "source": [
    "## Create new database\n",
    "\n",
    "We are creating a new database to store all the information from the UniCat search"
   ]
  },
  {
   "cell_type": "code",
   "execution_count": 53,
   "metadata": {},
   "outputs": [],
   "source": [
    "db = sqlite_utils.Database(\"new_unicat.db\")"
   ]
  },
  {
   "cell_type": "code",
   "execution_count": 54,
   "metadata": {},
   "outputs": [
    {
     "data": {
      "text/plain": [
       "[]"
      ]
     },
     "execution_count": 54,
     "metadata": {},
     "output_type": "execute_result"
    }
   ],
   "source": [
    "db.table_names()"
   ]
  },
  {
   "cell_type": "code",
   "execution_count": 55,
   "metadata": {},
   "outputs": [],
   "source": [
    "db_con = sqlite3.connect(\"new_unicat.db\")"
   ]
  },
  {
   "cell_type": "markdown",
   "metadata": {},
   "source": [
    "### Add the data to the new database"
   ]
  },
  {
   "cell_type": "code",
   "execution_count": 62,
   "metadata": {},
   "outputs": [],
   "source": [
    "unicat_work = unicat_work.set_index(\"id\")"
   ]
  },
  {
   "cell_type": "code",
   "execution_count": 63,
   "metadata": {},
   "outputs": [
    {
     "data": {
      "text/plain": [
       "44229"
      ]
     },
     "execution_count": 63,
     "metadata": {},
     "output_type": "execute_result"
    }
   ],
   "source": [
    "unicat_work.to_sql(\"unicat_work\", db_con)"
   ]
  },
  {
   "cell_type": "code",
   "execution_count": 64,
   "metadata": {},
   "outputs": [],
   "source": [
    "vabb_isbn = vabb_isbn.set_index(\"number_nr\")"
   ]
  },
  {
   "cell_type": "code",
   "execution_count": 65,
   "metadata": {},
   "outputs": [
    {
     "data": {
      "text/plain": [
       "96191"
      ]
     },
     "execution_count": 65,
     "metadata": {},
     "output_type": "execute_result"
    }
   ],
   "source": [
    "vabb_isbn.to_sql(\"vabb_isbn\", db_con)"
   ]
  },
  {
   "cell_type": "code",
   "execution_count": 66,
   "metadata": {},
   "outputs": [],
   "source": [
    "failure = failure.set_index(\"isbn\")"
   ]
  },
  {
   "cell_type": "code",
   "execution_count": 67,
   "metadata": {},
   "outputs": [
    {
     "data": {
      "text/plain": [
       "1"
      ]
     },
     "execution_count": 67,
     "metadata": {},
     "output_type": "execute_result"
    }
   ],
   "source": [
    "failure.to_sql(\"failure\", db_con)"
   ]
  },
  {
   "cell_type": "code",
   "execution_count": 68,
   "metadata": {},
   "outputs": [
    {
     "data": {
      "text/plain": [
       "['unicat_work', 'vabb_isbn', 'failure']"
      ]
     },
     "execution_count": 68,
     "metadata": {},
     "output_type": "execute_result"
    }
   ],
   "source": [
    "db.table_names()"
   ]
  },
  {
   "cell_type": "markdown",
   "metadata": {},
   "source": [
    "### Get the ISBN that was used for data retrieval"
   ]
  },
  {
   "cell_type": "code",
   "execution_count": 69,
   "metadata": {},
   "outputs": [],
   "source": [
    "unicat_work = db.table(\"unicat_work\",pk=\"id\")"
   ]
  },
  {
   "cell_type": "code",
   "execution_count": 70,
   "metadata": {},
   "outputs": [],
   "source": [
    "isbn_search = db[\"isbn_search\"]\n",
    "if \"isbn_search\" not in db.table_names():\n",
    "    isbn_search = isbn_search.create({\n",
    "        \"work_id\": int,\n",
    "        \"isbn\":str,\n",
    "    })"
   ]
  },
  {
   "cell_type": "code",
   "execution_count": 71,
   "metadata": {},
   "outputs": [
    {
     "data": {
      "text/plain": [
       "['unicat_work', 'vabb_isbn', 'failure', 'isbn_search']"
      ]
     },
     "execution_count": 71,
     "metadata": {},
     "output_type": "execute_result"
    }
   ],
   "source": [
    "db.table_names()"
   ]
  },
  {
   "cell_type": "markdown",
   "metadata": {},
   "source": [
    "In the following, we check what ISBN was used for data retrieval and store this in the \"isbn_search\" table."
   ]
  },
  {
   "cell_type": "code",
   "execution_count": 72,
   "metadata": {},
   "outputs": [
    {
     "data": {
      "application/vnd.jupyter.widget-view+json": {
       "model_id": "55d319e3e6c14a77a9fe246a0c886620",
       "version_major": 2,
       "version_minor": 0
      },
      "text/plain": [
       "0it [00:00, ?it/s]"
      ]
     },
     "metadata": {},
     "output_type": "display_data"
    }
   ],
   "source": [
    "for row in tqdm(unicat_work.rows_where(\"raw_result is not null\")):\n",
    "    book = unicat.Book(row[\"raw_result\"])\n",
    "    data = [\n",
    "        {\"work_id\": row[\"id\"], \"isbn\": book.isbn_look_up()}\n",
    "    ]\n",
    "    isbn_search.insert_all(data)"
   ]
  },
  {
   "cell_type": "code",
   "execution_count": 73,
   "metadata": {},
   "outputs": [
    {
     "data": {
      "text/plain": [
       "['unicat_work', 'vabb_isbn', 'failure', 'isbn_search']"
      ]
     },
     "execution_count": 73,
     "metadata": {},
     "output_type": "execute_result"
    }
   ],
   "source": [
    "db.table_names()"
   ]
  },
  {
   "cell_type": "markdown",
   "metadata": {},
   "source": [
    "## Add holding information"
   ]
  },
  {
   "cell_type": "code",
   "execution_count": 74,
   "metadata": {},
   "outputs": [],
   "source": [
    "# create table \"holding\"\n",
    "holding = db[\"holding\"]\n",
    "if \"holding\" not in db.table_names():\n",
    "    holding = holding.create({\n",
    "        \"work_id\": int,\n",
    "        \"location\": str,\n",
    "        \"uri\": str,\n",
    "    })"
   ]
  },
  {
   "cell_type": "code",
   "execution_count": 75,
   "metadata": {},
   "outputs": [
    {
     "data": {
      "text/plain": [
       "['unicat_work', 'vabb_isbn', 'failure', 'isbn_search', 'holding']"
      ]
     },
     "execution_count": 75,
     "metadata": {},
     "output_type": "execute_result"
    }
   ],
   "source": [
    "db.table_names()"
   ]
  },
  {
   "cell_type": "code",
   "execution_count": 76,
   "metadata": {},
   "outputs": [
    {
     "data": {
      "application/vnd.jupyter.widget-view+json": {
       "model_id": "775fad98694741b382a4b0dcd7198dc9",
       "version_major": 2,
       "version_minor": 0
      },
      "text/plain": [
       "0it [00:00, ?it/s]"
      ]
     },
     "metadata": {},
     "output_type": "display_data"
    }
   ],
   "source": [
    "# retrieve the holding information from the results of the API search in the new table \"holding\"\n",
    "for row in tqdm(unicat_work.rows_where(\"raw_result is not null\")):\n",
    "    book = unicat.Book(row[\"raw_result\"])\n",
    "    data = [\n",
    "        {\"work_id\": row[\"id\"], \"location\": location, \"uri\": uri}\n",
    "        for location, uri\n",
    "        in book.holdings()\n",
    "    ]\n",
    "    holding.insert_all(data)"
   ]
  },
  {
   "cell_type": "code",
   "execution_count": 77,
   "metadata": {},
   "outputs": [],
   "source": [
    "# get the \"holding\" information\n",
    "df = pd.read_sql(\n",
    "    \"\"\"\n",
    "    SELECT work_id, location\n",
    "    FROM holding\n",
    "    \"\"\", db_con)"
   ]
  },
  {
   "cell_type": "code",
   "execution_count": 78,
   "metadata": {},
   "outputs": [],
   "source": [
    "# calculate the holding count for each work-id\n",
    "holdingcounts = pd.DataFrame(df.groupby(\"work_id\").location.nunique()).reset_index()\n",
    "holdingcounts = holdingcounts.rename(columns={\"location\":\"holdingcount\"})"
   ]
  },
  {
   "cell_type": "code",
   "execution_count": 81,
   "metadata": {},
   "outputs": [
    {
     "data": {
      "text/plain": [
       "25524"
      ]
     },
     "execution_count": 81,
     "metadata": {},
     "output_type": "execute_result"
    }
   ],
   "source": [
    "# add the holdingcount information to the database in the table \"holdingcount\"\n",
    "holdingcounts.set_index(\"work_id\", inplace=True)\n",
    "holdingcounts.to_sql(\"holdingcount\",db_con)"
   ]
  },
  {
   "cell_type": "code",
   "execution_count": 82,
   "metadata": {},
   "outputs": [
    {
     "data": {
      "text/plain": [
       "['unicat_work',\n",
       " 'vabb_isbn',\n",
       " 'failure',\n",
       " 'isbn_search',\n",
       " 'holding',\n",
       " 'holdingcount']"
      ]
     },
     "execution_count": 82,
     "metadata": {},
     "output_type": "execute_result"
    }
   ],
   "source": [
    "db.table_names()"
   ]
  },
  {
   "cell_type": "markdown",
   "metadata": {},
   "source": [
    "## Add the manifestation table"
   ]
  },
  {
   "cell_type": "code",
   "execution_count": 114,
   "metadata": {},
   "outputs": [
    {
     "data": {
      "text/plain": [
       "62198"
      ]
     },
     "execution_count": 114,
     "metadata": {},
     "output_type": "execute_result"
    }
   ],
   "source": [
    "manifestation.set_index(\"isbn\", inplace=True)\n",
    "manifestation.to_sql(\"manifestation\", db_con)"
   ]
  }
 ],
 "metadata": {
  "kernelspec": {
   "display_name": "Python 3",
   "language": "python",
   "name": "python3"
  },
  "language_info": {
   "codemirror_mode": {
    "name": "ipython",
    "version": 3
   },
   "file_extension": ".py",
   "mimetype": "text/x-python",
   "name": "python",
   "nbconvert_exporter": "python",
   "pygments_lexer": "ipython3",
   "version": "3.8.5"
  }
 },
 "nbformat": 4,
 "nbformat_minor": 4
}
